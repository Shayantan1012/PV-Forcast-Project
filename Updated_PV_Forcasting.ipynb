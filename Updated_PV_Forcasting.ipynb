{
  "cells": [
    {
      "cell_type": "markdown",
      "metadata": {
        "id": "view-in-github",
        "colab_type": "text"
      },
      "source": [
        "<a href=\"https://colab.research.google.com/github/Shayantan1012/PV-Forcast-Project/blob/main/Updated_PV_Forcasting.ipynb\" target=\"_parent\"><img src=\"https://colab.research.google.com/assets/colab-badge.svg\" alt=\"Open In Colab\"/></a>"
      ]
    },
    {
      "cell_type": "code",
      "source": [
        "!pip install pytorch-lightning\n",
        "!pip install pytorch_forecasting\n"
      ],
      "metadata": {
        "colab": {
          "base_uri": "https://localhost:8080/"
        },
        "id": "sI74l14XMadp",
        "outputId": "694edde1-d5b7-4157-d0e0-d1a3b6500e99"
      },
      "execution_count": 3,
      "outputs": [
        {
          "output_type": "stream",
          "name": "stdout",
          "text": [
            "Collecting pytorch-lightning\n",
            "  Downloading pytorch_lightning-2.5.1.post0-py3-none-any.whl.metadata (20 kB)\n",
            "Requirement already satisfied: torch>=2.1.0 in /usr/local/lib/python3.11/dist-packages (from pytorch-lightning) (2.6.0+cu124)\n",
            "Requirement already satisfied: tqdm>=4.57.0 in /usr/local/lib/python3.11/dist-packages (from pytorch-lightning) (4.67.1)\n",
            "Requirement already satisfied: PyYAML>=5.4 in /usr/local/lib/python3.11/dist-packages (from pytorch-lightning) (6.0.2)\n",
            "Requirement already satisfied: fsspec>=2022.5.0 in /usr/local/lib/python3.11/dist-packages (from fsspec[http]>=2022.5.0->pytorch-lightning) (2025.3.2)\n",
            "Collecting torchmetrics>=0.7.0 (from pytorch-lightning)\n",
            "  Downloading torchmetrics-1.7.1-py3-none-any.whl.metadata (21 kB)\n",
            "Requirement already satisfied: packaging>=20.0 in /usr/local/lib/python3.11/dist-packages (from pytorch-lightning) (24.2)\n",
            "Requirement already satisfied: typing-extensions>=4.4.0 in /usr/local/lib/python3.11/dist-packages (from pytorch-lightning) (4.13.2)\n",
            "Collecting lightning-utilities>=0.10.0 (from pytorch-lightning)\n",
            "  Downloading lightning_utilities-0.14.3-py3-none-any.whl.metadata (5.6 kB)\n",
            "Requirement already satisfied: aiohttp!=4.0.0a0,!=4.0.0a1 in /usr/local/lib/python3.11/dist-packages (from fsspec[http]>=2022.5.0->pytorch-lightning) (3.11.15)\n",
            "Requirement already satisfied: setuptools in /usr/local/lib/python3.11/dist-packages (from lightning-utilities>=0.10.0->pytorch-lightning) (75.2.0)\n",
            "Requirement already satisfied: filelock in /usr/local/lib/python3.11/dist-packages (from torch>=2.1.0->pytorch-lightning) (3.18.0)\n",
            "Requirement already satisfied: networkx in /usr/local/lib/python3.11/dist-packages (from torch>=2.1.0->pytorch-lightning) (3.4.2)\n",
            "Requirement already satisfied: jinja2 in /usr/local/lib/python3.11/dist-packages (from torch>=2.1.0->pytorch-lightning) (3.1.6)\n",
            "Collecting nvidia-cuda-nvrtc-cu12==12.4.127 (from torch>=2.1.0->pytorch-lightning)\n",
            "  Downloading nvidia_cuda_nvrtc_cu12-12.4.127-py3-none-manylinux2014_x86_64.whl.metadata (1.5 kB)\n",
            "Collecting nvidia-cuda-runtime-cu12==12.4.127 (from torch>=2.1.0->pytorch-lightning)\n",
            "  Downloading nvidia_cuda_runtime_cu12-12.4.127-py3-none-manylinux2014_x86_64.whl.metadata (1.5 kB)\n",
            "Collecting nvidia-cuda-cupti-cu12==12.4.127 (from torch>=2.1.0->pytorch-lightning)\n",
            "  Downloading nvidia_cuda_cupti_cu12-12.4.127-py3-none-manylinux2014_x86_64.whl.metadata (1.6 kB)\n",
            "Collecting nvidia-cudnn-cu12==9.1.0.70 (from torch>=2.1.0->pytorch-lightning)\n",
            "  Downloading nvidia_cudnn_cu12-9.1.0.70-py3-none-manylinux2014_x86_64.whl.metadata (1.6 kB)\n",
            "Collecting nvidia-cublas-cu12==12.4.5.8 (from torch>=2.1.0->pytorch-lightning)\n",
            "  Downloading nvidia_cublas_cu12-12.4.5.8-py3-none-manylinux2014_x86_64.whl.metadata (1.5 kB)\n",
            "Collecting nvidia-cufft-cu12==11.2.1.3 (from torch>=2.1.0->pytorch-lightning)\n",
            "  Downloading nvidia_cufft_cu12-11.2.1.3-py3-none-manylinux2014_x86_64.whl.metadata (1.5 kB)\n",
            "Collecting nvidia-curand-cu12==10.3.5.147 (from torch>=2.1.0->pytorch-lightning)\n",
            "  Downloading nvidia_curand_cu12-10.3.5.147-py3-none-manylinux2014_x86_64.whl.metadata (1.5 kB)\n",
            "Collecting nvidia-cusolver-cu12==11.6.1.9 (from torch>=2.1.0->pytorch-lightning)\n",
            "  Downloading nvidia_cusolver_cu12-11.6.1.9-py3-none-manylinux2014_x86_64.whl.metadata (1.6 kB)\n",
            "Collecting nvidia-cusparse-cu12==12.3.1.170 (from torch>=2.1.0->pytorch-lightning)\n",
            "  Downloading nvidia_cusparse_cu12-12.3.1.170-py3-none-manylinux2014_x86_64.whl.metadata (1.6 kB)\n",
            "Requirement already satisfied: nvidia-cusparselt-cu12==0.6.2 in /usr/local/lib/python3.11/dist-packages (from torch>=2.1.0->pytorch-lightning) (0.6.2)\n",
            "Requirement already satisfied: nvidia-nccl-cu12==2.21.5 in /usr/local/lib/python3.11/dist-packages (from torch>=2.1.0->pytorch-lightning) (2.21.5)\n",
            "Requirement already satisfied: nvidia-nvtx-cu12==12.4.127 in /usr/local/lib/python3.11/dist-packages (from torch>=2.1.0->pytorch-lightning) (12.4.127)\n",
            "Collecting nvidia-nvjitlink-cu12==12.4.127 (from torch>=2.1.0->pytorch-lightning)\n",
            "  Downloading nvidia_nvjitlink_cu12-12.4.127-py3-none-manylinux2014_x86_64.whl.metadata (1.5 kB)\n",
            "Requirement already satisfied: triton==3.2.0 in /usr/local/lib/python3.11/dist-packages (from torch>=2.1.0->pytorch-lightning) (3.2.0)\n",
            "Requirement already satisfied: sympy==1.13.1 in /usr/local/lib/python3.11/dist-packages (from torch>=2.1.0->pytorch-lightning) (1.13.1)\n",
            "Requirement already satisfied: mpmath<1.4,>=1.1.0 in /usr/local/lib/python3.11/dist-packages (from sympy==1.13.1->torch>=2.1.0->pytorch-lightning) (1.3.0)\n",
            "Requirement already satisfied: numpy>1.20.0 in /usr/local/lib/python3.11/dist-packages (from torchmetrics>=0.7.0->pytorch-lightning) (2.0.2)\n",
            "Requirement already satisfied: aiohappyeyeballs>=2.3.0 in /usr/local/lib/python3.11/dist-packages (from aiohttp!=4.0.0a0,!=4.0.0a1->fsspec[http]>=2022.5.0->pytorch-lightning) (2.6.1)\n",
            "Requirement already satisfied: aiosignal>=1.1.2 in /usr/local/lib/python3.11/dist-packages (from aiohttp!=4.0.0a0,!=4.0.0a1->fsspec[http]>=2022.5.0->pytorch-lightning) (1.3.2)\n",
            "Requirement already satisfied: attrs>=17.3.0 in /usr/local/lib/python3.11/dist-packages (from aiohttp!=4.0.0a0,!=4.0.0a1->fsspec[http]>=2022.5.0->pytorch-lightning) (25.3.0)\n",
            "Requirement already satisfied: frozenlist>=1.1.1 in /usr/local/lib/python3.11/dist-packages (from aiohttp!=4.0.0a0,!=4.0.0a1->fsspec[http]>=2022.5.0->pytorch-lightning) (1.6.0)\n",
            "Requirement already satisfied: multidict<7.0,>=4.5 in /usr/local/lib/python3.11/dist-packages (from aiohttp!=4.0.0a0,!=4.0.0a1->fsspec[http]>=2022.5.0->pytorch-lightning) (6.4.3)\n",
            "Requirement already satisfied: propcache>=0.2.0 in /usr/local/lib/python3.11/dist-packages (from aiohttp!=4.0.0a0,!=4.0.0a1->fsspec[http]>=2022.5.0->pytorch-lightning) (0.3.1)\n",
            "Requirement already satisfied: yarl<2.0,>=1.17.0 in /usr/local/lib/python3.11/dist-packages (from aiohttp!=4.0.0a0,!=4.0.0a1->fsspec[http]>=2022.5.0->pytorch-lightning) (1.20.0)\n",
            "Requirement already satisfied: MarkupSafe>=2.0 in /usr/local/lib/python3.11/dist-packages (from jinja2->torch>=2.1.0->pytorch-lightning) (3.0.2)\n",
            "Requirement already satisfied: idna>=2.0 in /usr/local/lib/python3.11/dist-packages (from yarl<2.0,>=1.17.0->aiohttp!=4.0.0a0,!=4.0.0a1->fsspec[http]>=2022.5.0->pytorch-lightning) (3.10)\n",
            "Downloading pytorch_lightning-2.5.1.post0-py3-none-any.whl (823 kB)\n",
            "\u001b[2K   \u001b[90m━━━━━━━━━━━━━━━━━━━━━━━━━━━━━━━━━━━━━━━━\u001b[0m \u001b[32m823.1/823.1 kB\u001b[0m \u001b[31m23.1 MB/s\u001b[0m eta \u001b[36m0:00:00\u001b[0m\n",
            "\u001b[?25hDownloading lightning_utilities-0.14.3-py3-none-any.whl (28 kB)\n",
            "Downloading nvidia_cublas_cu12-12.4.5.8-py3-none-manylinux2014_x86_64.whl (363.4 MB)\n",
            "\u001b[2K   \u001b[90m━━━━━━━━━━━━━━━━━━━━━━━━━━━━━━━━━━━━━━━━\u001b[0m \u001b[32m363.4/363.4 MB\u001b[0m \u001b[31m4.4 MB/s\u001b[0m eta \u001b[36m0:00:00\u001b[0m\n",
            "\u001b[?25hDownloading nvidia_cuda_cupti_cu12-12.4.127-py3-none-manylinux2014_x86_64.whl (13.8 MB)\n",
            "\u001b[2K   \u001b[90m━━━━━━━━━━━━━━━━━━━━━━━━━━━━━━━━━━━━━━━━\u001b[0m \u001b[32m13.8/13.8 MB\u001b[0m \u001b[31m69.8 MB/s\u001b[0m eta \u001b[36m0:00:00\u001b[0m\n",
            "\u001b[?25hDownloading nvidia_cuda_nvrtc_cu12-12.4.127-py3-none-manylinux2014_x86_64.whl (24.6 MB)\n",
            "\u001b[2K   \u001b[90m━━━━━━━━━━━━━━━━━━━━━━━━━━━━━━━━━━━━━━━━\u001b[0m \u001b[32m24.6/24.6 MB\u001b[0m \u001b[31m37.3 MB/s\u001b[0m eta \u001b[36m0:00:00\u001b[0m\n",
            "\u001b[?25hDownloading nvidia_cuda_runtime_cu12-12.4.127-py3-none-manylinux2014_x86_64.whl (883 kB)\n",
            "\u001b[2K   \u001b[90m━━━━━━━━━━━━━━━━━━━━━━━━━━━━━━━━━━━━━━━━\u001b[0m \u001b[32m883.7/883.7 kB\u001b[0m \u001b[31m47.5 MB/s\u001b[0m eta \u001b[36m0:00:00\u001b[0m\n",
            "\u001b[?25hDownloading nvidia_cudnn_cu12-9.1.0.70-py3-none-manylinux2014_x86_64.whl (664.8 MB)\n",
            "\u001b[2K   \u001b[90m━━━━━━━━━━━━━━━━━━━━━━━━━━━━━━━━━━━━━━━━\u001b[0m \u001b[32m664.8/664.8 MB\u001b[0m \u001b[31m2.8 MB/s\u001b[0m eta \u001b[36m0:00:00\u001b[0m\n",
            "\u001b[?25hDownloading nvidia_cufft_cu12-11.2.1.3-py3-none-manylinux2014_x86_64.whl (211.5 MB)\n",
            "\u001b[2K   \u001b[90m━━━━━━━━━━━━━━━━━━━━━━━━━━━━━━━━━━━━━━━━\u001b[0m \u001b[32m211.5/211.5 MB\u001b[0m \u001b[31m5.6 MB/s\u001b[0m eta \u001b[36m0:00:00\u001b[0m\n",
            "\u001b[?25hDownloading nvidia_curand_cu12-10.3.5.147-py3-none-manylinux2014_x86_64.whl (56.3 MB)\n",
            "\u001b[2K   \u001b[90m━━━━━━━━━━━━━━━━━━━━━━━━━━━━━━━━━━━━━━━━\u001b[0m \u001b[32m56.3/56.3 MB\u001b[0m \u001b[31m12.9 MB/s\u001b[0m eta \u001b[36m0:00:00\u001b[0m\n",
            "\u001b[?25hDownloading nvidia_cusolver_cu12-11.6.1.9-py3-none-manylinux2014_x86_64.whl (127.9 MB)\n",
            "\u001b[2K   \u001b[90m━━━━━━━━━━━━━━━━━━━━━━━━━━━━━━━━━━━━━━━━\u001b[0m \u001b[32m127.9/127.9 MB\u001b[0m \u001b[31m7.3 MB/s\u001b[0m eta \u001b[36m0:00:00\u001b[0m\n",
            "\u001b[?25hDownloading nvidia_cusparse_cu12-12.3.1.170-py3-none-manylinux2014_x86_64.whl (207.5 MB)\n",
            "\u001b[2K   \u001b[90m━━━━━━━━━━━━━━━━━━━━━━━━━━━━━━━━━━━━━━━━\u001b[0m \u001b[32m207.5/207.5 MB\u001b[0m \u001b[31m7.1 MB/s\u001b[0m eta \u001b[36m0:00:00\u001b[0m\n",
            "\u001b[?25hDownloading nvidia_nvjitlink_cu12-12.4.127-py3-none-manylinux2014_x86_64.whl (21.1 MB)\n",
            "\u001b[2K   \u001b[90m━━━━━━━━━━━━━━━━━━━━━━━━━━━━━━━━━━━━━━━━\u001b[0m \u001b[32m21.1/21.1 MB\u001b[0m \u001b[31m104.2 MB/s\u001b[0m eta \u001b[36m0:00:00\u001b[0m\n",
            "\u001b[?25hDownloading torchmetrics-1.7.1-py3-none-any.whl (961 kB)\n",
            "\u001b[2K   \u001b[90m━━━━━━━━━━━━━━━━━━━━━━━━━━━━━━━━━━━━━━━━\u001b[0m \u001b[32m961.5/961.5 kB\u001b[0m \u001b[31m64.4 MB/s\u001b[0m eta \u001b[36m0:00:00\u001b[0m\n",
            "\u001b[?25hInstalling collected packages: nvidia-nvjitlink-cu12, nvidia-curand-cu12, nvidia-cufft-cu12, nvidia-cuda-runtime-cu12, nvidia-cuda-nvrtc-cu12, nvidia-cuda-cupti-cu12, nvidia-cublas-cu12, lightning-utilities, nvidia-cusparse-cu12, nvidia-cudnn-cu12, nvidia-cusolver-cu12, torchmetrics, pytorch-lightning\n",
            "  Attempting uninstall: nvidia-nvjitlink-cu12\n",
            "    Found existing installation: nvidia-nvjitlink-cu12 12.5.82\n",
            "    Uninstalling nvidia-nvjitlink-cu12-12.5.82:\n",
            "      Successfully uninstalled nvidia-nvjitlink-cu12-12.5.82\n",
            "  Attempting uninstall: nvidia-curand-cu12\n",
            "    Found existing installation: nvidia-curand-cu12 10.3.6.82\n",
            "    Uninstalling nvidia-curand-cu12-10.3.6.82:\n",
            "      Successfully uninstalled nvidia-curand-cu12-10.3.6.82\n",
            "  Attempting uninstall: nvidia-cufft-cu12\n",
            "    Found existing installation: nvidia-cufft-cu12 11.2.3.61\n",
            "    Uninstalling nvidia-cufft-cu12-11.2.3.61:\n",
            "      Successfully uninstalled nvidia-cufft-cu12-11.2.3.61\n",
            "  Attempting uninstall: nvidia-cuda-runtime-cu12\n",
            "    Found existing installation: nvidia-cuda-runtime-cu12 12.5.82\n",
            "    Uninstalling nvidia-cuda-runtime-cu12-12.5.82:\n",
            "      Successfully uninstalled nvidia-cuda-runtime-cu12-12.5.82\n",
            "  Attempting uninstall: nvidia-cuda-nvrtc-cu12\n",
            "    Found existing installation: nvidia-cuda-nvrtc-cu12 12.5.82\n",
            "    Uninstalling nvidia-cuda-nvrtc-cu12-12.5.82:\n",
            "      Successfully uninstalled nvidia-cuda-nvrtc-cu12-12.5.82\n",
            "  Attempting uninstall: nvidia-cuda-cupti-cu12\n",
            "    Found existing installation: nvidia-cuda-cupti-cu12 12.5.82\n",
            "    Uninstalling nvidia-cuda-cupti-cu12-12.5.82:\n",
            "      Successfully uninstalled nvidia-cuda-cupti-cu12-12.5.82\n",
            "  Attempting uninstall: nvidia-cublas-cu12\n",
            "    Found existing installation: nvidia-cublas-cu12 12.5.3.2\n",
            "    Uninstalling nvidia-cublas-cu12-12.5.3.2:\n",
            "      Successfully uninstalled nvidia-cublas-cu12-12.5.3.2\n",
            "  Attempting uninstall: nvidia-cusparse-cu12\n",
            "    Found existing installation: nvidia-cusparse-cu12 12.5.1.3\n",
            "    Uninstalling nvidia-cusparse-cu12-12.5.1.3:\n",
            "      Successfully uninstalled nvidia-cusparse-cu12-12.5.1.3\n",
            "  Attempting uninstall: nvidia-cudnn-cu12\n",
            "    Found existing installation: nvidia-cudnn-cu12 9.3.0.75\n",
            "    Uninstalling nvidia-cudnn-cu12-9.3.0.75:\n",
            "      Successfully uninstalled nvidia-cudnn-cu12-9.3.0.75\n",
            "  Attempting uninstall: nvidia-cusolver-cu12\n",
            "    Found existing installation: nvidia-cusolver-cu12 11.6.3.83\n",
            "    Uninstalling nvidia-cusolver-cu12-11.6.3.83:\n",
            "      Successfully uninstalled nvidia-cusolver-cu12-11.6.3.83\n",
            "Successfully installed lightning-utilities-0.14.3 nvidia-cublas-cu12-12.4.5.8 nvidia-cuda-cupti-cu12-12.4.127 nvidia-cuda-nvrtc-cu12-12.4.127 nvidia-cuda-runtime-cu12-12.4.127 nvidia-cudnn-cu12-9.1.0.70 nvidia-cufft-cu12-11.2.1.3 nvidia-curand-cu12-10.3.5.147 nvidia-cusolver-cu12-11.6.1.9 nvidia-cusparse-cu12-12.3.1.170 nvidia-nvjitlink-cu12-12.4.127 pytorch-lightning-2.5.1.post0 torchmetrics-1.7.1\n",
            "Collecting pytorch_forecasting\n",
            "  Downloading pytorch_forecasting-1.3.0-py3-none-any.whl.metadata (13 kB)\n",
            "Requirement already satisfied: numpy<=3.0.0 in /usr/local/lib/python3.11/dist-packages (from pytorch_forecasting) (2.0.2)\n",
            "Requirement already satisfied: torch!=2.0.1,<3.0.0,>=2.0.0 in /usr/local/lib/python3.11/dist-packages (from pytorch_forecasting) (2.6.0+cu124)\n",
            "Collecting lightning<3.0.0,>=2.0.0 (from pytorch_forecasting)\n",
            "  Downloading lightning-2.5.1.post0-py3-none-any.whl.metadata (39 kB)\n",
            "Requirement already satisfied: scipy<2.0,>=1.8 in /usr/local/lib/python3.11/dist-packages (from pytorch_forecasting) (1.15.3)\n",
            "Requirement already satisfied: pandas<3.0.0,>=1.3.0 in /usr/local/lib/python3.11/dist-packages (from pytorch_forecasting) (2.2.2)\n",
            "Requirement already satisfied: scikit-learn<2.0,>=1.2 in /usr/local/lib/python3.11/dist-packages (from pytorch_forecasting) (1.6.1)\n",
            "Requirement already satisfied: PyYAML<8.0,>=5.4 in /usr/local/lib/python3.11/dist-packages (from lightning<3.0.0,>=2.0.0->pytorch_forecasting) (6.0.2)\n",
            "Requirement already satisfied: fsspec<2026.0,>=2022.5.0 in /usr/local/lib/python3.11/dist-packages (from fsspec[http]<2026.0,>=2022.5.0->lightning<3.0.0,>=2.0.0->pytorch_forecasting) (2025.3.2)\n",
            "Requirement already satisfied: lightning-utilities<2.0,>=0.10.0 in /usr/local/lib/python3.11/dist-packages (from lightning<3.0.0,>=2.0.0->pytorch_forecasting) (0.14.3)\n",
            "Requirement already satisfied: packaging<25.0,>=20.0 in /usr/local/lib/python3.11/dist-packages (from lightning<3.0.0,>=2.0.0->pytorch_forecasting) (24.2)\n",
            "Requirement already satisfied: torchmetrics<3.0,>=0.7.0 in /usr/local/lib/python3.11/dist-packages (from lightning<3.0.0,>=2.0.0->pytorch_forecasting) (1.7.1)\n",
            "Requirement already satisfied: tqdm<6.0,>=4.57.0 in /usr/local/lib/python3.11/dist-packages (from lightning<3.0.0,>=2.0.0->pytorch_forecasting) (4.67.1)\n",
            "Requirement already satisfied: typing-extensions<6.0,>=4.4.0 in /usr/local/lib/python3.11/dist-packages (from lightning<3.0.0,>=2.0.0->pytorch_forecasting) (4.13.2)\n",
            "Requirement already satisfied: pytorch-lightning in /usr/local/lib/python3.11/dist-packages (from lightning<3.0.0,>=2.0.0->pytorch_forecasting) (2.5.1.post0)\n",
            "Requirement already satisfied: python-dateutil>=2.8.2 in /usr/local/lib/python3.11/dist-packages (from pandas<3.0.0,>=1.3.0->pytorch_forecasting) (2.9.0.post0)\n",
            "Requirement already satisfied: pytz>=2020.1 in /usr/local/lib/python3.11/dist-packages (from pandas<3.0.0,>=1.3.0->pytorch_forecasting) (2025.2)\n",
            "Requirement already satisfied: tzdata>=2022.7 in /usr/local/lib/python3.11/dist-packages (from pandas<3.0.0,>=1.3.0->pytorch_forecasting) (2025.2)\n",
            "Requirement already satisfied: joblib>=1.2.0 in /usr/local/lib/python3.11/dist-packages (from scikit-learn<2.0,>=1.2->pytorch_forecasting) (1.5.0)\n",
            "Requirement already satisfied: threadpoolctl>=3.1.0 in /usr/local/lib/python3.11/dist-packages (from scikit-learn<2.0,>=1.2->pytorch_forecasting) (3.6.0)\n",
            "Requirement already satisfied: filelock in /usr/local/lib/python3.11/dist-packages (from torch!=2.0.1,<3.0.0,>=2.0.0->pytorch_forecasting) (3.18.0)\n",
            "Requirement already satisfied: networkx in /usr/local/lib/python3.11/dist-packages (from torch!=2.0.1,<3.0.0,>=2.0.0->pytorch_forecasting) (3.4.2)\n",
            "Requirement already satisfied: jinja2 in /usr/local/lib/python3.11/dist-packages (from torch!=2.0.1,<3.0.0,>=2.0.0->pytorch_forecasting) (3.1.6)\n",
            "Requirement already satisfied: nvidia-cuda-nvrtc-cu12==12.4.127 in /usr/local/lib/python3.11/dist-packages (from torch!=2.0.1,<3.0.0,>=2.0.0->pytorch_forecasting) (12.4.127)\n",
            "Requirement already satisfied: nvidia-cuda-runtime-cu12==12.4.127 in /usr/local/lib/python3.11/dist-packages (from torch!=2.0.1,<3.0.0,>=2.0.0->pytorch_forecasting) (12.4.127)\n",
            "Requirement already satisfied: nvidia-cuda-cupti-cu12==12.4.127 in /usr/local/lib/python3.11/dist-packages (from torch!=2.0.1,<3.0.0,>=2.0.0->pytorch_forecasting) (12.4.127)\n",
            "Requirement already satisfied: nvidia-cudnn-cu12==9.1.0.70 in /usr/local/lib/python3.11/dist-packages (from torch!=2.0.1,<3.0.0,>=2.0.0->pytorch_forecasting) (9.1.0.70)\n",
            "Requirement already satisfied: nvidia-cublas-cu12==12.4.5.8 in /usr/local/lib/python3.11/dist-packages (from torch!=2.0.1,<3.0.0,>=2.0.0->pytorch_forecasting) (12.4.5.8)\n",
            "Requirement already satisfied: nvidia-cufft-cu12==11.2.1.3 in /usr/local/lib/python3.11/dist-packages (from torch!=2.0.1,<3.0.0,>=2.0.0->pytorch_forecasting) (11.2.1.3)\n",
            "Requirement already satisfied: nvidia-curand-cu12==10.3.5.147 in /usr/local/lib/python3.11/dist-packages (from torch!=2.0.1,<3.0.0,>=2.0.0->pytorch_forecasting) (10.3.5.147)\n",
            "Requirement already satisfied: nvidia-cusolver-cu12==11.6.1.9 in /usr/local/lib/python3.11/dist-packages (from torch!=2.0.1,<3.0.0,>=2.0.0->pytorch_forecasting) (11.6.1.9)\n",
            "Requirement already satisfied: nvidia-cusparse-cu12==12.3.1.170 in /usr/local/lib/python3.11/dist-packages (from torch!=2.0.1,<3.0.0,>=2.0.0->pytorch_forecasting) (12.3.1.170)\n",
            "Requirement already satisfied: nvidia-cusparselt-cu12==0.6.2 in /usr/local/lib/python3.11/dist-packages (from torch!=2.0.1,<3.0.0,>=2.0.0->pytorch_forecasting) (0.6.2)\n",
            "Requirement already satisfied: nvidia-nccl-cu12==2.21.5 in /usr/local/lib/python3.11/dist-packages (from torch!=2.0.1,<3.0.0,>=2.0.0->pytorch_forecasting) (2.21.5)\n",
            "Requirement already satisfied: nvidia-nvtx-cu12==12.4.127 in /usr/local/lib/python3.11/dist-packages (from torch!=2.0.1,<3.0.0,>=2.0.0->pytorch_forecasting) (12.4.127)\n",
            "Requirement already satisfied: nvidia-nvjitlink-cu12==12.4.127 in /usr/local/lib/python3.11/dist-packages (from torch!=2.0.1,<3.0.0,>=2.0.0->pytorch_forecasting) (12.4.127)\n",
            "Requirement already satisfied: triton==3.2.0 in /usr/local/lib/python3.11/dist-packages (from torch!=2.0.1,<3.0.0,>=2.0.0->pytorch_forecasting) (3.2.0)\n",
            "Requirement already satisfied: sympy==1.13.1 in /usr/local/lib/python3.11/dist-packages (from torch!=2.0.1,<3.0.0,>=2.0.0->pytorch_forecasting) (1.13.1)\n",
            "Requirement already satisfied: mpmath<1.4,>=1.1.0 in /usr/local/lib/python3.11/dist-packages (from sympy==1.13.1->torch!=2.0.1,<3.0.0,>=2.0.0->pytorch_forecasting) (1.3.0)\n",
            "Requirement already satisfied: aiohttp!=4.0.0a0,!=4.0.0a1 in /usr/local/lib/python3.11/dist-packages (from fsspec[http]<2026.0,>=2022.5.0->lightning<3.0.0,>=2.0.0->pytorch_forecasting) (3.11.15)\n",
            "Requirement already satisfied: setuptools in /usr/local/lib/python3.11/dist-packages (from lightning-utilities<2.0,>=0.10.0->lightning<3.0.0,>=2.0.0->pytorch_forecasting) (75.2.0)\n",
            "Requirement already satisfied: six>=1.5 in /usr/local/lib/python3.11/dist-packages (from python-dateutil>=2.8.2->pandas<3.0.0,>=1.3.0->pytorch_forecasting) (1.17.0)\n",
            "Requirement already satisfied: MarkupSafe>=2.0 in /usr/local/lib/python3.11/dist-packages (from jinja2->torch!=2.0.1,<3.0.0,>=2.0.0->pytorch_forecasting) (3.0.2)\n",
            "Requirement already satisfied: aiohappyeyeballs>=2.3.0 in /usr/local/lib/python3.11/dist-packages (from aiohttp!=4.0.0a0,!=4.0.0a1->fsspec[http]<2026.0,>=2022.5.0->lightning<3.0.0,>=2.0.0->pytorch_forecasting) (2.6.1)\n",
            "Requirement already satisfied: aiosignal>=1.1.2 in /usr/local/lib/python3.11/dist-packages (from aiohttp!=4.0.0a0,!=4.0.0a1->fsspec[http]<2026.0,>=2022.5.0->lightning<3.0.0,>=2.0.0->pytorch_forecasting) (1.3.2)\n",
            "Requirement already satisfied: attrs>=17.3.0 in /usr/local/lib/python3.11/dist-packages (from aiohttp!=4.0.0a0,!=4.0.0a1->fsspec[http]<2026.0,>=2022.5.0->lightning<3.0.0,>=2.0.0->pytorch_forecasting) (25.3.0)\n",
            "Requirement already satisfied: frozenlist>=1.1.1 in /usr/local/lib/python3.11/dist-packages (from aiohttp!=4.0.0a0,!=4.0.0a1->fsspec[http]<2026.0,>=2022.5.0->lightning<3.0.0,>=2.0.0->pytorch_forecasting) (1.6.0)\n",
            "Requirement already satisfied: multidict<7.0,>=4.5 in /usr/local/lib/python3.11/dist-packages (from aiohttp!=4.0.0a0,!=4.0.0a1->fsspec[http]<2026.0,>=2022.5.0->lightning<3.0.0,>=2.0.0->pytorch_forecasting) (6.4.3)\n",
            "Requirement already satisfied: propcache>=0.2.0 in /usr/local/lib/python3.11/dist-packages (from aiohttp!=4.0.0a0,!=4.0.0a1->fsspec[http]<2026.0,>=2022.5.0->lightning<3.0.0,>=2.0.0->pytorch_forecasting) (0.3.1)\n",
            "Requirement already satisfied: yarl<2.0,>=1.17.0 in /usr/local/lib/python3.11/dist-packages (from aiohttp!=4.0.0a0,!=4.0.0a1->fsspec[http]<2026.0,>=2022.5.0->lightning<3.0.0,>=2.0.0->pytorch_forecasting) (1.20.0)\n",
            "Requirement already satisfied: idna>=2.0 in /usr/local/lib/python3.11/dist-packages (from yarl<2.0,>=1.17.0->aiohttp!=4.0.0a0,!=4.0.0a1->fsspec[http]<2026.0,>=2022.5.0->lightning<3.0.0,>=2.0.0->pytorch_forecasting) (3.10)\n",
            "Downloading pytorch_forecasting-1.3.0-py3-none-any.whl (197 kB)\n",
            "\u001b[2K   \u001b[90m━━━━━━━━━━━━━━━━━━━━━━━━━━━━━━━━━━━━━━━━\u001b[0m \u001b[32m197.7/197.7 kB\u001b[0m \u001b[31m10.4 MB/s\u001b[0m eta \u001b[36m0:00:00\u001b[0m\n",
            "\u001b[?25hDownloading lightning-2.5.1.post0-py3-none-any.whl (819 kB)\n",
            "\u001b[2K   \u001b[90m━━━━━━━━━━━━━━━━━━━━━━━━━━━━━━━━━━━━━━━━\u001b[0m \u001b[32m819.0/819.0 kB\u001b[0m \u001b[31m35.3 MB/s\u001b[0m eta \u001b[36m0:00:00\u001b[0m\n",
            "\u001b[?25hInstalling collected packages: lightning, pytorch_forecasting\n",
            "Successfully installed lightning-2.5.1.post0 pytorch_forecasting-1.3.0\n"
          ]
        }
      ]
    },
    {
      "cell_type": "code",
      "source": [
        "import warnings\n",
        "import pickle\n",
        "\n",
        "import numpy as np\n",
        "import pandas as pd\n",
        "import matplotlib.pyplot as plt\n",
        "import lightning.pytorch as pl\n",
        "from lightning.pytorch.callbacks import EarlyStopping, LearningRateMonitor\n",
        "from lightning.pytorch.loggers import TensorBoardLogger\n",
        "import torch\n",
        "\n",
        "from pytorch_forecasting import Baseline, TemporalFusionTransformer, TimeSeriesDataSet\n",
        "from pytorch_forecasting.data import GroupNormalizer\n",
        "from pytorch_forecasting.metrics import MAE, SMAPE, PoissonLoss, QuantileLoss\n",
        "from pytorch_forecasting.models.temporal_fusion_transformer.tuning import optimize_hyperparameters\n",
        "\n",
        "import seaborn as sns\n",
        "import matplotlib.pyplot as plt\n",
        "\n",
        "# import tensorflow as tf\n",
        "# import tensorboard as tb\n",
        "# tf.io.gfile = tb.compat.tensorflow_stub.io.gfile"
      ],
      "metadata": {
        "id": "F4k_TtiPMg83"
      },
      "execution_count": 5,
      "outputs": []
    },
    {
      "cell_type": "code",
      "execution_count": 6,
      "metadata": {
        "id": "55uKnKp4Tto5",
        "colab": {
          "base_uri": "https://localhost:8080/"
        },
        "outputId": "aef350a5-fb3c-4de0-e167-20112d9fd643"
      },
      "outputs": [
        {
          "output_type": "stream",
          "name": "stdout",
          "text": [
            "Mounted at /content/drive\n"
          ]
        }
      ],
      "source": [
        "from google.colab import drive\n",
        "drive.mount('/content/drive')"
      ]
    },
    {
      "cell_type": "code",
      "execution_count": 7,
      "metadata": {
        "id": "6XD5vLLARRgj",
        "colab": {
          "base_uri": "https://localhost:8080/"
        },
        "outputId": "c1a305f4-1bfb-4507-db8b-ef6dd0ce6a72"
      },
      "outputs": [
        {
          "output_type": "stream",
          "name": "stdout",
          "text": [
            "               Time  Energy delta[Wh]  GHI  temp  pressure  humidity  \\\n",
            "0  01-01-2017 00:00                 0  0.0   1.6      1021       100   \n",
            "1  01-01-2017 00:15                 0  0.0   1.6      1021       100   \n",
            "2  01-01-2017 00:30                 0  0.0   1.6      1021       100   \n",
            "3  01-01-2017 00:45                 0  0.0   1.6      1021       100   \n",
            "4  01-01-2017 01:00                 0  0.0   1.7      1020       100   \n",
            "\n",
            "   wind_speed  rain_1h  snow_1h  clouds_all  isSun  sunlightTime  dayLength  \\\n",
            "0         4.9      0.0      0.0         100      0             0        450   \n",
            "1         4.9      0.0      0.0         100      0             0        450   \n",
            "2         4.9      0.0      0.0         100      0             0        450   \n",
            "3         4.9      0.0      0.0         100      0             0        450   \n",
            "4         5.2      0.0      0.0         100      0             0        450   \n",
            "\n",
            "   SunlightTime/daylength  weather_type  hour  month  \n",
            "0                     0.0             4     0      1  \n",
            "1                     0.0             4     0      1  \n",
            "2                     0.0             4     0      1  \n",
            "3                     0.0             4     0      1  \n",
            "4                     0.0             4     1      1  \n"
          ]
        }
      ],
      "source": [
        "import pandas as pd\n",
        "\n",
        "dataset=pd.read_csv('/content/drive/MyDrive/XAI /Other data/PVGen-1.csv')\n",
        "dataset=pd.DataFrame(dataset)\n",
        "print(dataset.head())"
      ]
    },
    {
      "cell_type": "markdown",
      "metadata": {
        "id": "SuXSfYwJRTGc"
      },
      "source": []
    },
    {
      "cell_type": "code",
      "execution_count": 8,
      "metadata": {
        "id": "ylsxcbf_RbWl",
        "colab": {
          "base_uri": "https://localhost:8080/"
        },
        "outputId": "95d8369a-f15b-4bc6-90f9-03e1bc5eb74b"
      },
      "outputs": [
        {
          "output_type": "stream",
          "name": "stdout",
          "text": [
            "Time                      0\n",
            "Energy delta[Wh]          0\n",
            "GHI                       0\n",
            "temp                      0\n",
            "pressure                  0\n",
            "humidity                  0\n",
            "wind_speed                0\n",
            "rain_1h                   0\n",
            "snow_1h                   0\n",
            "clouds_all                0\n",
            "isSun                     0\n",
            "sunlightTime              0\n",
            "dayLength                 0\n",
            "SunlightTime/daylength    0\n",
            "weather_type              0\n",
            "hour                      0\n",
            "month                     0\n",
            "dtype: int64\n",
            "Index(['Time', 'Energy delta[Wh]', 'GHI', 'temp', 'pressure', 'humidity',\n",
            "       'wind_speed', 'rain_1h', 'snow_1h', 'clouds_all', 'isSun',\n",
            "       'sunlightTime', 'dayLength', 'SunlightTime/daylength', 'weather_type',\n",
            "       'hour', 'month'],\n",
            "      dtype='object')\n",
            "17\n"
          ]
        }
      ],
      "source": [
        "print(dataset.isna().sum())\n",
        "print(dataset.columns)\n",
        "print(len(dataset.columns))"
      ]
    },
    {
      "cell_type": "code",
      "execution_count": 9,
      "metadata": {
        "id": "YrybG7Z2RdqE",
        "colab": {
          "base_uri": "https://localhost:8080/"
        },
        "outputId": "ac2944ee-6b21-4f9f-8ed9-0894a61fc753"
      },
      "outputs": [
        {
          "output_type": "stream",
          "name": "stdout",
          "text": [
            "                    Time  Energy delta[Wh]   GHI  temp  pressure  humidity  \\\n",
            "196771  31-08-2022 16:45               118  23.7  18.6      1023        57   \n",
            "196772  31-08-2022 17:00                82  15.6  18.5      1023        61   \n",
            "196773  31-08-2022 17:15                51   8.0  18.5      1023        61   \n",
            "196774  31-08-2022 17:30                24   2.1  18.5      1023        61   \n",
            "196775  31-08-2022 17:45                 0   0.0  18.5      1023        61   \n",
            "\n",
            "        wind_speed  rain_1h  snow_1h  clouds_all  isSun  sunlightTime  \\\n",
            "196771         3.8      0.0      0.0          52      1           780   \n",
            "196772         4.2      0.0      0.0          60      1           795   \n",
            "196773         4.2      0.0      0.0          60      1           810   \n",
            "196774         4.2      0.0      0.0          60      1           825   \n",
            "196775         4.2      0.0      0.0          60      0             0   \n",
            "\n",
            "        dayLength  SunlightTime/daylength  weather_type  hour  month  \n",
            "196771        825                    0.95             3    16      8  \n",
            "196772        825                    0.96             3    17      8  \n",
            "196773        825                    0.98             3    17      8  \n",
            "196774        825                    1.00             3    17      8  \n",
            "196775        825                    0.00             3    17      8  \n"
          ]
        }
      ],
      "source": [
        "print(dataset.tail())"
      ]
    },
    {
      "cell_type": "code",
      "execution_count": 10,
      "metadata": {
        "id": "npQKJoLXktOq",
        "colab": {
          "base_uri": "https://localhost:8080/",
          "height": 545
        },
        "outputId": "0accda60-21b3-404d-a0ba-470dbd291db0"
      },
      "outputs": [
        {
          "output_type": "stream",
          "name": "stdout",
          "text": [
            "Index(['Time', 'Energy delta[Wh]', 'GHI', 'temp', 'pressure', 'humidity',\n",
            "       'wind_speed', 'rain_1h', 'snow_1h', 'clouds_all', 'isSun',\n",
            "       'sunlightTime', 'dayLength', 'SunlightTime/daylength', 'weather_type',\n",
            "       'hour', 'month'],\n",
            "      dtype='object')\n"
          ]
        },
        {
          "output_type": "execute_result",
          "data": {
            "text/plain": [
              "0         01-01-2017 00:00\n",
              "1         01-01-2017 00:15\n",
              "2         01-01-2017 00:30\n",
              "3         01-01-2017 00:45\n",
              "4         01-01-2017 01:00\n",
              "                ...       \n",
              "196771    31-08-2022 16:45\n",
              "196772    31-08-2022 17:00\n",
              "196773    31-08-2022 17:15\n",
              "196774    31-08-2022 17:30\n",
              "196775    31-08-2022 17:45\n",
              "Name: Time, Length: 196776, dtype: object"
            ],
            "text/html": [
              "<div>\n",
              "<style scoped>\n",
              "    .dataframe tbody tr th:only-of-type {\n",
              "        vertical-align: middle;\n",
              "    }\n",
              "\n",
              "    .dataframe tbody tr th {\n",
              "        vertical-align: top;\n",
              "    }\n",
              "\n",
              "    .dataframe thead th {\n",
              "        text-align: right;\n",
              "    }\n",
              "</style>\n",
              "<table border=\"1\" class=\"dataframe\">\n",
              "  <thead>\n",
              "    <tr style=\"text-align: right;\">\n",
              "      <th></th>\n",
              "      <th>Time</th>\n",
              "    </tr>\n",
              "  </thead>\n",
              "  <tbody>\n",
              "    <tr>\n",
              "      <th>0</th>\n",
              "      <td>01-01-2017 00:00</td>\n",
              "    </tr>\n",
              "    <tr>\n",
              "      <th>1</th>\n",
              "      <td>01-01-2017 00:15</td>\n",
              "    </tr>\n",
              "    <tr>\n",
              "      <th>2</th>\n",
              "      <td>01-01-2017 00:30</td>\n",
              "    </tr>\n",
              "    <tr>\n",
              "      <th>3</th>\n",
              "      <td>01-01-2017 00:45</td>\n",
              "    </tr>\n",
              "    <tr>\n",
              "      <th>4</th>\n",
              "      <td>01-01-2017 01:00</td>\n",
              "    </tr>\n",
              "    <tr>\n",
              "      <th>...</th>\n",
              "      <td>...</td>\n",
              "    </tr>\n",
              "    <tr>\n",
              "      <th>196771</th>\n",
              "      <td>31-08-2022 16:45</td>\n",
              "    </tr>\n",
              "    <tr>\n",
              "      <th>196772</th>\n",
              "      <td>31-08-2022 17:00</td>\n",
              "    </tr>\n",
              "    <tr>\n",
              "      <th>196773</th>\n",
              "      <td>31-08-2022 17:15</td>\n",
              "    </tr>\n",
              "    <tr>\n",
              "      <th>196774</th>\n",
              "      <td>31-08-2022 17:30</td>\n",
              "    </tr>\n",
              "    <tr>\n",
              "      <th>196775</th>\n",
              "      <td>31-08-2022 17:45</td>\n",
              "    </tr>\n",
              "  </tbody>\n",
              "</table>\n",
              "<p>196776 rows × 1 columns</p>\n",
              "</div><br><label><b>dtype:</b> object</label>"
            ]
          },
          "metadata": {},
          "execution_count": 10
        }
      ],
      "source": [
        "print(dataset.columns)\n",
        "dataset['Time']"
      ]
    },
    {
      "cell_type": "code",
      "source": [
        "import matplotlib.pyplot as plt\n",
        "start_time='2017-01-01'\n",
        "end_time='2022-12-31'\n",
        "dataset['Time'] = pd.to_datetime(dataset['Time'], format='%d-%m-%Y %H:%M')  # Adjust format to match your data\n",
        "dataset.set_index('Time', inplace=True)\n",
        "dataset = dataset[((dataset.index >= start_time) & (dataset.index <= end_time))]\n",
        "filtered_data = dataset[start_time:end_time]  # Use YYYY-MM-DD format for slicing\n",
        "filtered_data['Energy delta[MWh]']=filtered_data['Energy delta[Wh]']*1e-6\n",
        "\n",
        "filtered_data['Energy delta[MWh]'].plot(figsize=(12, 5), title=\"Energy Delta Over Time (January 1-12, 2018)\")\n",
        "plt.xlabel(\"Timestamp\")\n",
        "plt.ylabel(\"Energy delta [MWh]\")\n",
        "plt.grid(True)\n",
        "plt.show()\n",
        "\n"
      ],
      "metadata": {
        "colab": {
          "base_uri": "https://localhost:8080/",
          "height": 562
        },
        "id": "YWg6Li40L6oV",
        "outputId": "46092e75-edd4-493d-cbcc-2c51bb5b632d"
      },
      "execution_count": 11,
      "outputs": [
        {
          "output_type": "stream",
          "name": "stderr",
          "text": [
            "<ipython-input-11-f7cebfe2ad8e>:8: SettingWithCopyWarning: \n",
            "A value is trying to be set on a copy of a slice from a DataFrame.\n",
            "Try using .loc[row_indexer,col_indexer] = value instead\n",
            "\n",
            "See the caveats in the documentation: https://pandas.pydata.org/pandas-docs/stable/user_guide/indexing.html#returning-a-view-versus-a-copy\n",
            "  filtered_data['Energy delta[MWh]']=filtered_data['Energy delta[Wh]']*1e-6\n"
          ]
        },
        {
          "output_type": "display_data",
          "data": {
            "text/plain": [
              "<Figure size 1200x500 with 1 Axes>"
            ],
            "image/png": "[encoded data removed]"
          },
          "metadata": {}
        }
      ]
    },
    {
      "cell_type": "code",
      "source": [
        "dataset.columns"
      ],
      "metadata": {
        "colab": {
          "base_uri": "https://localhost:8080/"
        },
        "id": "rHZr6UQSNPSi",
        "outputId": "a10d3941-ba99-4de8-ab26-25c0f05f3561"
      },
      "execution_count": 12,
      "outputs": [
        {
          "output_type": "execute_result",
          "data": {
            "text/plain": [
              "Index(['Energy delta[Wh]', 'GHI', 'temp', 'pressure', 'humidity', 'wind_speed',\n",
              "       'rain_1h', 'snow_1h', 'clouds_all', 'isSun', 'sunlightTime',\n",
              "       'dayLength', 'SunlightTime/daylength', 'weather_type', 'hour', 'month'],\n",
              "      dtype='object')"
            ]
          },
          "metadata": {},
          "execution_count": 12
        }
      ]
    },
    {
      "cell_type": "code",
      "execution_count": 13,
      "metadata": {
        "id": "VoluuHZfhsFd",
        "colab": {
          "base_uri": "https://localhost:8080/"
        },
        "outputId": "2c9a9184-2242-4987-cbda-ec2fc366e24f"
      },
      "outputs": [
        {
          "output_type": "stream",
          "name": "stdout",
          "text": [
            "X Head-> <bound method NDFrame.head of                       GHI  temp  pressure  humidity  wind_speed  rain_1h  \\\n",
            "Time                                                                       \n",
            "2017-01-01 00:00:00   0.0   1.6      1021       100         4.9      0.0   \n",
            "2017-01-01 00:15:00   0.0   1.6      1021       100         4.9      0.0   \n",
            "2017-01-01 00:30:00   0.0   1.6      1021       100         4.9      0.0   \n",
            "2017-01-01 00:45:00   0.0   1.6      1021       100         4.9      0.0   \n",
            "2017-01-01 01:00:00   0.0   1.7      1020       100         5.2      0.0   \n",
            "...                   ...   ...       ...       ...         ...      ...   \n",
            "2022-08-31 16:45:00  23.7  18.6      1023        57         3.8      0.0   \n",
            "2022-08-31 17:00:00  15.6  18.5      1023        61         4.2      0.0   \n",
            "2022-08-31 17:15:00   8.0  18.5      1023        61         4.2      0.0   \n",
            "2022-08-31 17:30:00   2.1  18.5      1023        61         4.2      0.0   \n",
            "2022-08-31 17:45:00   0.0  18.5      1023        61         4.2      0.0   \n",
            "\n",
            "                     snow_1h  clouds_all  isSun  sunlightTime  dayLength  \\\n",
            "Time                                                                       \n",
            "2017-01-01 00:00:00      0.0         100      0             0        450   \n",
            "2017-01-01 00:15:00      0.0         100      0             0        450   \n",
            "2017-01-01 00:30:00      0.0         100      0             0        450   \n",
            "2017-01-01 00:45:00      0.0         100      0             0        450   \n",
            "2017-01-01 01:00:00      0.0         100      0             0        450   \n",
            "...                      ...         ...    ...           ...        ...   \n",
            "2022-08-31 16:45:00      0.0          52      1           780        825   \n",
            "2022-08-31 17:00:00      0.0          60      1           795        825   \n",
            "2022-08-31 17:15:00      0.0          60      1           810        825   \n",
            "2022-08-31 17:30:00      0.0          60      1           825        825   \n",
            "2022-08-31 17:45:00      0.0          60      0             0        825   \n",
            "\n",
            "                     SunlightTime/daylength  weather_type  hour  month  \n",
            "Time                                                                    \n",
            "2017-01-01 00:00:00                    0.00             4     0      1  \n",
            "2017-01-01 00:15:00                    0.00             4     0      1  \n",
            "2017-01-01 00:30:00                    0.00             4     0      1  \n",
            "2017-01-01 00:45:00                    0.00             4     0      1  \n",
            "2017-01-01 01:00:00                    0.00             4     1      1  \n",
            "...                                     ...           ...   ...    ...  \n",
            "2022-08-31 16:45:00                    0.95             3    16      8  \n",
            "2022-08-31 17:00:00                    0.96             3    17      8  \n",
            "2022-08-31 17:15:00                    0.98             3    17      8  \n",
            "2022-08-31 17:30:00                    1.00             3    17      8  \n",
            "2022-08-31 17:45:00                    0.00             3    17      8  \n",
            "\n",
            "[196776 rows x 15 columns]>\n",
            "X Tail-> <bound method NDFrame.tail of                       GHI  temp  pressure  humidity  wind_speed  rain_1h  \\\n",
            "Time                                                                       \n",
            "2017-01-01 00:00:00   0.0   1.6      1021       100         4.9      0.0   \n",
            "2017-01-01 00:15:00   0.0   1.6      1021       100         4.9      0.0   \n",
            "2017-01-01 00:30:00   0.0   1.6      1021       100         4.9      0.0   \n",
            "2017-01-01 00:45:00   0.0   1.6      1021       100         4.9      0.0   \n",
            "2017-01-01 01:00:00   0.0   1.7      1020       100         5.2      0.0   \n",
            "...                   ...   ...       ...       ...         ...      ...   \n",
            "2022-08-31 16:45:00  23.7  18.6      1023        57         3.8      0.0   \n",
            "2022-08-31 17:00:00  15.6  18.5      1023        61         4.2      0.0   \n",
            "2022-08-31 17:15:00   8.0  18.5      1023        61         4.2      0.0   \n",
            "2022-08-31 17:30:00   2.1  18.5      1023        61         4.2      0.0   \n",
            "2022-08-31 17:45:00   0.0  18.5      1023        61         4.2      0.0   \n",
            "\n",
            "                     snow_1h  clouds_all  isSun  sunlightTime  dayLength  \\\n",
            "Time                                                                       \n",
            "2017-01-01 00:00:00      0.0         100      0             0        450   \n",
            "2017-01-01 00:15:00      0.0         100      0             0        450   \n",
            "2017-01-01 00:30:00      0.0         100      0             0        450   \n",
            "2017-01-01 00:45:00      0.0         100      0             0        450   \n",
            "2017-01-01 01:00:00      0.0         100      0             0        450   \n",
            "...                      ...         ...    ...           ...        ...   \n",
            "2022-08-31 16:45:00      0.0          52      1           780        825   \n",
            "2022-08-31 17:00:00      0.0          60      1           795        825   \n",
            "2022-08-31 17:15:00      0.0          60      1           810        825   \n",
            "2022-08-31 17:30:00      0.0          60      1           825        825   \n",
            "2022-08-31 17:45:00      0.0          60      0             0        825   \n",
            "\n",
            "                     SunlightTime/daylength  weather_type  hour  month  \n",
            "Time                                                                    \n",
            "2017-01-01 00:00:00                    0.00             4     0      1  \n",
            "2017-01-01 00:15:00                    0.00             4     0      1  \n",
            "2017-01-01 00:30:00                    0.00             4     0      1  \n",
            "2017-01-01 00:45:00                    0.00             4     0      1  \n",
            "2017-01-01 01:00:00                    0.00             4     1      1  \n",
            "...                                     ...           ...   ...    ...  \n",
            "2022-08-31 16:45:00                    0.95             3    16      8  \n",
            "2022-08-31 17:00:00                    0.96             3    17      8  \n",
            "2022-08-31 17:15:00                    0.98             3    17      8  \n",
            "2022-08-31 17:30:00                    1.00             3    17      8  \n",
            "2022-08-31 17:45:00                    0.00             3    17      8  \n",
            "\n",
            "[196776 rows x 15 columns]>\n"
          ]
        }
      ],
      "source": [
        "Y=filtered_data['Energy delta[MWh]']\n",
        "X=filtered_data.drop(columns=['Energy delta[MWh]','Energy delta[Wh]'],axis=1)\n",
        "\n",
        "\n",
        "print(\"X Head->\",X.head)\n",
        "print(\"X Tail->\",X.tail)\n"
      ]
    },
    {
      "cell_type": "code",
      "execution_count": 14,
      "metadata": {
        "id": "5JP0LWkrrXZY",
        "colab": {
          "base_uri": "https://localhost:8080/"
        },
        "outputId": "deb95b69-867a-4caf-a5f0-d46692f4c01c"
      },
      "outputs": [
        {
          "output_type": "stream",
          "name": "stdout",
          "text": [
            "DatetimeIndex(['2017-01-01 00:00:00', '2017-01-01 00:15:00',\n",
            "               '2017-01-01 00:30:00', '2017-01-01 00:45:00',\n",
            "               '2017-01-01 01:00:00', '2017-01-01 01:15:00',\n",
            "               '2017-01-01 01:30:00', '2017-01-01 01:45:00',\n",
            "               '2017-01-01 02:00:00', '2017-01-01 02:15:00',\n",
            "               ...\n",
            "               '2022-08-31 15:30:00', '2022-08-31 15:45:00',\n",
            "               '2022-08-31 16:00:00', '2022-08-31 16:15:00',\n",
            "               '2022-08-31 16:30:00', '2022-08-31 16:45:00',\n",
            "               '2022-08-31 17:00:00', '2022-08-31 17:15:00',\n",
            "               '2022-08-31 17:30:00', '2022-08-31 17:45:00'],\n",
            "              dtype='datetime64[ns]', name='Time', length=196776, freq=None)\n",
            "<class 'pandas.core.indexes.datetimes.DatetimeIndex'>\n"
          ]
        }
      ],
      "source": [
        "print(dataset.index)\n",
        "print(type(dataset.index))"
      ]
    },
    {
      "cell_type": "code",
      "execution_count": 15,
      "metadata": {
        "id": "c3DYw1fASIEs",
        "colab": {
          "base_uri": "https://localhost:8080/",
          "height": 539
        },
        "outputId": "a1688b4b-776d-45df-9aba-c7dec7baa96f"
      },
      "outputs": [
        {
          "output_type": "execute_result",
          "data": {
            "text/plain": [
              "                             GHI      temp  pressure  humidity  wind_speed  \\\n",
              "GHI                     1.000000  0.492732  0.096392 -0.602186    0.017227   \n",
              "temp                    0.492732  1.000000 -0.066909 -0.517358   -0.080258   \n",
              "pressure                0.096392 -0.066909  1.000000 -0.120481   -0.313964   \n",
              "humidity               -0.602186 -0.517358 -0.120481  1.000000   -0.112949   \n",
              "wind_speed              0.017227 -0.080258 -0.313964 -0.112949    1.000000   \n",
              "rain_1h                -0.048570  0.073826 -0.201842  0.126620    0.123506   \n",
              "snow_1h                -0.051811 -0.123244 -0.135485  0.095623    0.072749   \n",
              "clouds_all             -0.188765 -0.117245 -0.263852  0.285336    0.146116   \n",
              "isSun                   0.600326  0.345600  0.014872 -0.389144    0.082700   \n",
              "sunlightTime            0.540151  0.504449  0.006731 -0.598166    0.054580   \n",
              "dayLength               0.401115  0.706510  0.053127 -0.416460   -0.210064   \n",
              "SunlightTime/daylength  0.471907  0.382672  0.001791 -0.527887    0.092661   \n",
              "weather_type           -0.163616 -0.088711 -0.319925  0.286863    0.193744   \n",
              "hour                   -0.083727  0.104091 -0.002519 -0.194924   -0.003593   \n",
              "month                  -0.039461  0.250656 -0.061383  0.117468   -0.045010   \n",
              "\n",
              "                         rain_1h   snow_1h  clouds_all     isSun  \\\n",
              "GHI                    -0.048570 -0.051811   -0.188765  0.600326   \n",
              "temp                    0.073826 -0.123244   -0.117245  0.345600   \n",
              "pressure               -0.201842 -0.135485   -0.263852  0.014872   \n",
              "humidity                0.126620  0.095623    0.285336 -0.389144   \n",
              "wind_speed              0.123506  0.072749    0.146116  0.082700   \n",
              "rain_1h                 1.000000 -0.024276    0.173332  0.045241   \n",
              "snow_1h                -0.024276  1.000000    0.088428 -0.023257   \n",
              "clouds_all              0.173332  0.088428    1.000000 -0.002928   \n",
              "isSun                   0.045241 -0.023257   -0.002928  1.000000   \n",
              "sunlightTime            0.059318 -0.038293   -0.030415  0.742715   \n",
              "dayLength               0.048428 -0.109050   -0.234957  0.270923   \n",
              "SunlightTime/daylength  0.050164 -0.021457    0.004761  0.774424   \n",
              "weather_type            0.330671  0.143205    0.910932  0.024333   \n",
              "hour                    0.011388 -0.004609   -0.019384 -0.150529   \n",
              "month                   0.022221 -0.080668    0.066102 -0.024573   \n",
              "\n",
              "                        sunlightTime  dayLength  SunlightTime/daylength  \\\n",
              "GHI                         0.540151   0.401115                0.471907   \n",
              "temp                        0.504449   0.706510                0.382672   \n",
              "pressure                    0.006731   0.053127                0.001791   \n",
              "humidity                   -0.598166  -0.416460               -0.527887   \n",
              "wind_speed                  0.054580  -0.210064                0.092661   \n",
              "rain_1h                     0.059318   0.048428                0.050164   \n",
              "snow_1h                    -0.038293  -0.109050               -0.021457   \n",
              "clouds_all                 -0.030415  -0.234957                0.004761   \n",
              "isSun                       0.742715   0.270923                0.774424   \n",
              "sunlightTime                1.000000   0.368712                0.957972   \n",
              "dayLength                   0.368712   1.000000                0.205698   \n",
              "SunlightTime/daylength      0.957972   0.205698                1.000000   \n",
              "weather_type                0.006140  -0.194644                0.034283   \n",
              "hour                        0.144919  -0.000062                0.136889   \n",
              "month                      -0.028355  -0.090981               -0.018653   \n",
              "\n",
              "                        weather_type      hour     month  \n",
              "GHI                        -0.163616 -0.083727 -0.039461  \n",
              "temp                       -0.088711  0.104091  0.250656  \n",
              "pressure                   -0.319925 -0.002519 -0.061383  \n",
              "humidity                    0.286863 -0.194924  0.117468  \n",
              "wind_speed                  0.193744 -0.003593 -0.045010  \n",
              "rain_1h                     0.330671  0.011388  0.022221  \n",
              "snow_1h                     0.143205 -0.004609 -0.080668  \n",
              "clouds_all                  0.910932 -0.019384  0.066102  \n",
              "isSun                       0.024333 -0.150529 -0.024573  \n",
              "sunlightTime                0.006140  0.144919 -0.028355  \n",
              "dayLength                  -0.194644 -0.000062 -0.090981  \n",
              "SunlightTime/daylength      0.034283  0.136889 -0.018653  \n",
              "weather_type                1.000000 -0.013900  0.047874  \n",
              "hour                       -0.013900  1.000000 -0.000080  \n",
              "month                       0.047874 -0.000080  1.000000  "
            ],
            "text/html": [
              "\n",
              "  <div id=\"df-ed62244a-56f6-42c6-9f68-cd6f6650de54\" class=\"colab-df-container\">\n",
              "    <div>\n",
              "<style scoped>\n",
              "    .dataframe tbody tr th:only-of-type {\n",
              "        vertical-align: middle;\n",
              "    }\n",
              "\n",
              "    .dataframe tbody tr th {\n",
              "        vertical-align: top;\n",
              "    }\n",
              "\n",
              "    .dataframe thead th {\n",
              "        text-align: right;\n",
              "    }\n",
              "</style>\n",
              "<table border=\"1\" class=\"dataframe\">\n",
              "  <thead>\n",
              "    <tr style=\"text-align: right;\">\n",
              "      <th></th>\n",
              "      <th>GHI</th>\n",
              "      <th>temp</th>\n",
              "      <th>pressure</th>\n",
              "      <th>humidity</th>\n",
              "      <th>wind_speed</th>\n",
              "      <th>rain_1h</th>\n",
              "      <th>snow_1h</th>\n",
              "      <th>clouds_all</th>\n",
              "      <th>isSun</th>\n",
              "      <th>sunlightTime</th>\n",
              "      <th>dayLength</th>\n",
              "      <th>SunlightTime/daylength</th>\n",
              "      <th>weather_type</th>\n",
              "      <th>hour</th>\n",
              "      <th>month</th>\n",
              "    </tr>\n",
              "  </thead>\n",
              "  <tbody>\n",
              "    <tr>\n",
              "      <th>GHI</th>\n",
              "      <td>1.000000</td>\n",
              "      <td>0.492732</td>\n",
              "      <td>0.096392</td>\n",
              "      <td>-0.602186</td>\n",
              "      <td>0.017227</td>\n",
              "      <td>-0.048570</td>\n",
              "      <td>-0.051811</td>\n",
              "      <td>-0.188765</td>\n",
              "      <td>0.600326</td>\n",
              "      <td>0.540151</td>\n",
              "      <td>0.401115</td>\n",
              "      <td>0.471907</td>\n",
              "      <td>-0.163616</td>\n",
              "      <td>-0.083727</td>\n",
              "      <td>-0.039461</td>\n",
              "    </tr>\n",
              "    <tr>\n",
              "      <th>temp</th>\n",
              "      <td>0.492732</td>\n",
              "      <td>1.000000</td>\n",
              "      <td>-0.066909</td>\n",
              "      <td>-0.517358</td>\n",
              "      <td>-0.080258</td>\n",
              "      <td>0.073826</td>\n",
              "      <td>-0.123244</td>\n",
              "      <td>-0.117245</td>\n",
              "      <td>0.345600</td>\n",
              "      <td>0.504449</td>\n",
              "      <td>0.706510</td>\n",
              "      <td>0.382672</td>\n",
              "      <td>-0.088711</td>\n",
              "      <td>0.104091</td>\n",
              "      <td>0.250656</td>\n",
              "    </tr>\n",
              "    <tr>\n",
              "      <th>pressure</th>\n",
              "      <td>0.096392</td>\n",
              "      <td>-0.066909</td>\n",
              "      <td>1.000000</td>\n",
              "      <td>-0.120481</td>\n",
              "      <td>-0.313964</td>\n",
              "      <td>-0.201842</td>\n",
              "      <td>-0.135485</td>\n",
              "      <td>-0.263852</td>\n",
              "      <td>0.014872</td>\n",
              "      <td>0.006731</td>\n",
              "      <td>0.053127</td>\n",
              "      <td>0.001791</td>\n",
              "      <td>-0.319925</td>\n",
              "      <td>-0.002519</td>\n",
              "      <td>-0.061383</td>\n",
              "    </tr>\n",
              "    <tr>\n",
              "      <th>humidity</th>\n",
              "      <td>-0.602186</td>\n",
              "      <td>-0.517358</td>\n",
              "      <td>-0.120481</td>\n",
              "      <td>1.000000</td>\n",
              "      <td>-0.112949</td>\n",
              "      <td>0.126620</td>\n",
              "      <td>0.095623</td>\n",
              "      <td>0.285336</td>\n",
              "      <td>-0.389144</td>\n",
              "      <td>-0.598166</td>\n",
              "      <td>-0.416460</td>\n",
              "      <td>-0.527887</td>\n",
              "      <td>0.286863</td>\n",
              "      <td>-0.194924</td>\n",
              "      <td>0.117468</td>\n",
              "    </tr>\n",
              "    <tr>\n",
              "      <th>wind_speed</th>\n",
              "      <td>0.017227</td>\n",
              "      <td>-0.080258</td>\n",
              "      <td>-0.313964</td>\n",
              "      <td>-0.112949</td>\n",
              "      <td>1.000000</td>\n",
              "      <td>0.123506</td>\n",
              "      <td>0.072749</td>\n",
              "      <td>0.146116</td>\n",
              "      <td>0.082700</td>\n",
              "      <td>0.054580</td>\n",
              "      <td>-0.210064</td>\n",
              "      <td>0.092661</td>\n",
              "      <td>0.193744</td>\n",
              "      <td>-0.003593</td>\n",
              "      <td>-0.045010</td>\n",
              "    </tr>\n",
              "    <tr>\n",
              "      <th>rain_1h</th>\n",
              "      <td>-0.048570</td>\n",
              "      <td>0.073826</td>\n",
              "      <td>-0.201842</td>\n",
              "      <td>0.126620</td>\n",
              "      <td>0.123506</td>\n",
              "      <td>1.000000</td>\n",
              "      <td>-0.024276</td>\n",
              "      <td>0.173332</td>\n",
              "      <td>0.045241</td>\n",
              "      <td>0.059318</td>\n",
              "      <td>0.048428</td>\n",
              "      <td>0.050164</td>\n",
              "      <td>0.330671</td>\n",
              "      <td>0.011388</td>\n",
              "      <td>0.022221</td>\n",
              "    </tr>\n",
              "    <tr>\n",
              "      <th>snow_1h</th>\n",
              "      <td>-0.051811</td>\n",
              "      <td>-0.123244</td>\n",
              "      <td>-0.135485</td>\n",
              "      <td>0.095623</td>\n",
              "      <td>0.072749</td>\n",
              "      <td>-0.024276</td>\n",
              "      <td>1.000000</td>\n",
              "      <td>0.088428</td>\n",
              "      <td>-0.023257</td>\n",
              "      <td>-0.038293</td>\n",
              "      <td>-0.109050</td>\n",
              "      <td>-0.021457</td>\n",
              "      <td>0.143205</td>\n",
              "      <td>-0.004609</td>\n",
              "      <td>-0.080668</td>\n",
              "    </tr>\n",
              "    <tr>\n",
              "      <th>clouds_all</th>\n",
              "      <td>-0.188765</td>\n",
              "      <td>-0.117245</td>\n",
              "      <td>-0.263852</td>\n",
              "      <td>0.285336</td>\n",
              "      <td>0.146116</td>\n",
              "      <td>0.173332</td>\n",
              "      <td>0.088428</td>\n",
              "      <td>1.000000</td>\n",
              "      <td>-0.002928</td>\n",
              "      <td>-0.030415</td>\n",
              "      <td>-0.234957</td>\n",
              "      <td>0.004761</td>\n",
              "      <td>0.910932</td>\n",
              "      <td>-0.019384</td>\n",
              "      <td>0.066102</td>\n",
              "    </tr>\n",
              "    <tr>\n",
              "      <th>isSun</th>\n",
              "      <td>0.600326</td>\n",
              "      <td>0.345600</td>\n",
              "      <td>0.014872</td>\n",
              "      <td>-0.389144</td>\n",
              "      <td>0.082700</td>\n",
              "      <td>0.045241</td>\n",
              "      <td>-0.023257</td>\n",
              "      <td>-0.002928</td>\n",
              "      <td>1.000000</td>\n",
              "      <td>0.742715</td>\n",
              "      <td>0.270923</td>\n",
              "      <td>0.774424</td>\n",
              "      <td>0.024333</td>\n",
              "      <td>-0.150529</td>\n",
              "      <td>-0.024573</td>\n",
              "    </tr>\n",
              "    <tr>\n",
              "      <th>sunlightTime</th>\n",
              "      <td>0.540151</td>\n",
              "      <td>0.504449</td>\n",
              "      <td>0.006731</td>\n",
              "      <td>-0.598166</td>\n",
              "      <td>0.054580</td>\n",
              "      <td>0.059318</td>\n",
              "      <td>-0.038293</td>\n",
              "      <td>-0.030415</td>\n",
              "      <td>0.742715</td>\n",
              "      <td>1.000000</td>\n",
              "      <td>0.368712</td>\n",
              "      <td>0.957972</td>\n",
              "      <td>0.006140</td>\n",
              "      <td>0.144919</td>\n",
              "      <td>-0.028355</td>\n",
              "    </tr>\n",
              "    <tr>\n",
              "      <th>dayLength</th>\n",
              "      <td>0.401115</td>\n",
              "      <td>0.706510</td>\n",
              "      <td>0.053127</td>\n",
              "      <td>-0.416460</td>\n",
              "      <td>-0.210064</td>\n",
              "      <td>0.048428</td>\n",
              "      <td>-0.109050</td>\n",
              "      <td>-0.234957</td>\n",
              "      <td>0.270923</td>\n",
              "      <td>0.368712</td>\n",
              "      <td>1.000000</td>\n",
              "      <td>0.205698</td>\n",
              "      <td>-0.194644</td>\n",
              "      <td>-0.000062</td>\n",
              "      <td>-0.090981</td>\n",
              "    </tr>\n",
              "    <tr>\n",
              "      <th>SunlightTime/daylength</th>\n",
              "      <td>0.471907</td>\n",
              "      <td>0.382672</td>\n",
              "      <td>0.001791</td>\n",
              "      <td>-0.527887</td>\n",
              "      <td>0.092661</td>\n",
              "      <td>0.050164</td>\n",
              "      <td>-0.021457</td>\n",
              "      <td>0.004761</td>\n",
              "      <td>0.774424</td>\n",
              "      <td>0.957972</td>\n",
              "      <td>0.205698</td>\n",
              "      <td>1.000000</td>\n",
              "      <td>0.034283</td>\n",
              "      <td>0.136889</td>\n",
              "      <td>-0.018653</td>\n",
              "    </tr>\n",
              "    <tr>\n",
              "      <th>weather_type</th>\n",
              "      <td>-0.163616</td>\n",
              "      <td>-0.088711</td>\n",
              "      <td>-0.319925</td>\n",
              "      <td>0.286863</td>\n",
              "      <td>0.193744</td>\n",
              "      <td>0.330671</td>\n",
              "      <td>0.143205</td>\n",
              "      <td>0.910932</td>\n",
              "      <td>0.024333</td>\n",
              "      <td>0.006140</td>\n",
              "      <td>-0.194644</td>\n",
              "      <td>0.034283</td>\n",
              "      <td>1.000000</td>\n",
              "      <td>-0.013900</td>\n",
              "      <td>0.047874</td>\n",
              "    </tr>\n",
              "    <tr>\n",
              "      <th>hour</th>\n",
              "      <td>-0.083727</td>\n",
              "      <td>0.104091</td>\n",
              "      <td>-0.002519</td>\n",
              "      <td>-0.194924</td>\n",
              "      <td>-0.003593</td>\n",
              "      <td>0.011388</td>\n",
              "      <td>-0.004609</td>\n",
              "      <td>-0.019384</td>\n",
              "      <td>-0.150529</td>\n",
              "      <td>0.144919</td>\n",
              "      <td>-0.000062</td>\n",
              "      <td>0.136889</td>\n",
              "      <td>-0.013900</td>\n",
              "      <td>1.000000</td>\n",
              "      <td>-0.000080</td>\n",
              "    </tr>\n",
              "    <tr>\n",
              "      <th>month</th>\n",
              "      <td>-0.039461</td>\n",
              "      <td>0.250656</td>\n",
              "      <td>-0.061383</td>\n",
              "      <td>0.117468</td>\n",
              "      <td>-0.045010</td>\n",
              "      <td>0.022221</td>\n",
              "      <td>-0.080668</td>\n",
              "      <td>0.066102</td>\n",
              "      <td>-0.024573</td>\n",
              "      <td>-0.028355</td>\n",
              "      <td>-0.090981</td>\n",
              "      <td>-0.018653</td>\n",
              "      <td>0.047874</td>\n",
              "      <td>-0.000080</td>\n",
              "      <td>1.000000</td>\n",
              "    </tr>\n",
              "  </tbody>\n",
              "</table>\n",
              "</div>\n",
              "    <div class=\"colab-df-buttons\">\n",
              "\n",
              "  <div class=\"colab-df-container\">\n",
              "    <button class=\"colab-df-convert\" onclick=\"convertToInteractive('df-ed62244a-56f6-42c6-9f68-cd6f6650de54')\"\n",
              "            title=\"Convert this dataframe to an interactive table.\"\n",
              "            style=\"display:none;\">\n",
              "\n",
              "  <svg xmlns=\"http://www.w3.org/2000/svg\" height=\"24px\" viewBox=\"0 -960 960 960\">\n",
              "    <path d=\"M120-120v-720h720v720H120Zm60-500h600v-160H180v160Zm220 220h160v-160H400v160Zm0 220h160v-160H400v160ZM180-400h160v-160H180v160Zm440 0h160v-160H620v160ZM180-180h160v-160H180v160Zm440 0h160v-160H620v160Z\"/>\n",
              "  </svg>\n",
              "    </button>\n",
              "\n",
              "  <style>\n",
              "    .colab-df-container {\n",
              "      display:flex;\n",
              "      gap: 12px;\n",
              "    }\n",
              "\n",
              "    .colab-df-convert {\n",
              "      background-color: #E8F0FE;\n",
              "      border: none;\n",
              "      border-radius: 50%;\n",
              "      cursor: pointer;\n",
              "      display: none;\n",
              "      fill: #1967D2;\n",
              "      height: 32px;\n",
              "      padding: 0 0 0 0;\n",
              "      width: 32px;\n",
              "    }\n",
              "\n",
              "    .colab-df-convert:hover {\n",
              "      background-color: #E2EBFA;\n",
              "      box-shadow: 0px 1px 2px rgba(60, 64, 67, 0.3), 0px 1px 3px 1px rgba(60, 64, 67, 0.15);\n",
              "      fill: #174EA6;\n",
              "    }\n",
              "\n",
              "    .colab-df-buttons div {\n",
              "      margin-bottom: 4px;\n",
              "    }\n",
              "\n",
              "    [theme=dark] .colab-df-convert {\n",
              "      background-color: #3B4455;\n",
              "      fill: #D2E3FC;\n",
              "    }\n",
              "\n",
              "    [theme=dark] .colab-df-convert:hover {\n",
              "      background-color: #434B5C;\n",
              "      box-shadow: 0px 1px 3px 1px rgba(0, 0, 0, 0.15);\n",
              "      filter: drop-shadow(0px 1px 2px rgba(0, 0, 0, 0.3));\n",
              "      fill: #FFFFFF;\n",
              "    }\n",
              "  </style>\n",
              "\n",
              "    <script>\n",
              "      const buttonEl =\n",
              "        document.querySelector('#df-ed62244a-56f6-42c6-9f68-cd6f6650de54 button.colab-df-convert');\n",
              "      buttonEl.style.display =\n",
              "        google.colab.kernel.accessAllowed ? 'block' : 'none';\n",
              "\n",
              "      async function convertToInteractive(key) {\n",
              "        const element = document.querySelector('#df-ed62244a-56f6-42c6-9f68-cd6f6650de54');\n",
              "        const dataTable =\n",
              "          await google.colab.kernel.invokeFunction('convertToInteractive',\n",
              "                                                    [key], {});\n",
              "        if (!dataTable) return;\n",
              "\n",
              "        const docLinkHtml = 'Like what you see? Visit the ' +\n",
              "          '<a target=\"_blank\" href=https://colab.research.google.com/notebooks/data_table.ipynb>data table notebook</a>'\n",
              "          + ' to learn more about interactive tables.';\n",
              "        element.innerHTML = '';\n",
              "        dataTable['output_type'] = 'display_data';\n",
              "        await google.colab.output.renderOutput(dataTable, element);\n",
              "        const docLink = document.createElement('div');\n",
              "        docLink.innerHTML = docLinkHtml;\n",
              "        element.appendChild(docLink);\n",
              "      }\n",
              "    </script>\n",
              "  </div>\n",
              "\n",
              "\n",
              "    <div id=\"df-30bf45d4-7058-4e90-885b-ecfab8ea497c\">\n",
              "      <button class=\"colab-df-quickchart\" onclick=\"quickchart('df-30bf45d4-7058-4e90-885b-ecfab8ea497c')\"\n",
              "                title=\"Suggest charts\"\n",
              "                style=\"display:none;\">\n",
              "\n",
              "<svg xmlns=\"http://www.w3.org/2000/svg\" height=\"24px\"viewBox=\"0 0 24 24\"\n",
              "     width=\"24px\">\n",
              "    <g>\n",
              "        <path d=\"M19 3H5c-1.1 0-2 .9-2 2v14c0 1.1.9 2 2 2h14c1.1 0 2-.9 2-2V5c0-1.1-.9-2-2-2zM9 17H7v-7h2v7zm4 0h-2V7h2v10zm4 0h-2v-4h2v4z\"/>\n",
              "    </g>\n",
              "</svg>\n",
              "      </button>\n",
              "\n",
              "<style>\n",
              "  .colab-df-quickchart {\n",
              "      --bg-color: #E8F0FE;\n",
              "      --fill-color: #1967D2;\n",
              "      --hover-bg-color: #E2EBFA;\n",
              "      --hover-fill-color: #174EA6;\n",
              "      --disabled-fill-color: #AAA;\n",
              "      --disabled-bg-color: #DDD;\n",
              "  }\n",
              "\n",
              "  [theme=dark] .colab-df-quickchart {\n",
              "      --bg-color: #3B4455;\n",
              "      --fill-color: #D2E3FC;\n",
              "      --hover-bg-color: #434B5C;\n",
              "      --hover-fill-color: #FFFFFF;\n",
              "      --disabled-bg-color: #3B4455;\n",
              "      --disabled-fill-color: #666;\n",
              "  }\n",
              "\n",
              "  .colab-df-quickchart {\n",
              "    background-color: var(--bg-color);\n",
              "    border: none;\n",
              "    border-radius: 50%;\n",
              "    cursor: pointer;\n",
              "    display: none;\n",
              "    fill: var(--fill-color);\n",
              "    height: 32px;\n",
              "    padding: 0;\n",
              "    width: 32px;\n",
              "  }\n",
              "\n",
              "  .colab-df-quickchart:hover {\n",
              "    background-color: var(--hover-bg-color);\n",
              "    box-shadow: 0 1px 2px rgba(60, 64, 67, 0.3), 0 1px 3px 1px rgba(60, 64, 67, 0.15);\n",
              "    fill: var(--button-hover-fill-color);\n",
              "  }\n",
              "\n",
              "  .colab-df-quickchart-complete:disabled,\n",
              "  .colab-df-quickchart-complete:disabled:hover {\n",
              "    background-color: var(--disabled-bg-color);\n",
              "    fill: var(--disabled-fill-color);\n",
              "    box-shadow: none;\n",
              "  }\n",
              "\n",
              "  .colab-df-spinner {\n",
              "    border: 2px solid var(--fill-color);\n",
              "    border-color: transparent;\n",
              "    border-bottom-color: var(--fill-color);\n",
              "    animation:\n",
              "      spin 1s steps(1) infinite;\n",
              "  }\n",
              "\n",
              "  @keyframes spin {\n",
              "    0% {\n",
              "      border-color: transparent;\n",
              "      border-bottom-color: var(--fill-color);\n",
              "      border-left-color: var(--fill-color);\n",
              "    }\n",
              "    20% {\n",
              "      border-color: transparent;\n",
              "      border-left-color: var(--fill-color);\n",
              "      border-top-color: var(--fill-color);\n",
              "    }\n",
              "    30% {\n",
              "      border-color: transparent;\n",
              "      border-left-color: var(--fill-color);\n",
              "      border-top-color: var(--fill-color);\n",
              "      border-right-color: var(--fill-color);\n",
              "    }\n",
              "    40% {\n",
              "      border-color: transparent;\n",
              "      border-right-color: var(--fill-color);\n",
              "      border-top-color: var(--fill-color);\n",
              "    }\n",
              "    60% {\n",
              "      border-color: transparent;\n",
              "      border-right-color: var(--fill-color);\n",
              "    }\n",
              "    80% {\n",
              "      border-color: transparent;\n",
              "      border-right-color: var(--fill-color);\n",
              "      border-bottom-color: var(--fill-color);\n",
              "    }\n",
              "    90% {\n",
              "      border-color: transparent;\n",
              "      border-bottom-color: var(--fill-color);\n",
              "    }\n",
              "  }\n",
              "</style>\n",
              "\n",
              "      <script>\n",
              "        async function quickchart(key) {\n",
              "          const quickchartButtonEl =\n",
              "            document.querySelector('#' + key + ' button');\n",
              "          quickchartButtonEl.disabled = true;  // To prevent multiple clicks.\n",
              "          quickchartButtonEl.classList.add('colab-df-spinner');\n",
              "          try {\n",
              "            const charts = await google.colab.kernel.invokeFunction(\n",
              "                'suggestCharts', [key], {});\n",
              "          } catch (error) {\n",
              "            console.error('Error during call to suggestCharts:', error);\n",
              "          }\n",
              "          quickchartButtonEl.classList.remove('colab-df-spinner');\n",
              "          quickchartButtonEl.classList.add('colab-df-quickchart-complete');\n",
              "        }\n",
              "        (() => {\n",
              "          let quickchartButtonEl =\n",
              "            document.querySelector('#df-30bf45d4-7058-4e90-885b-ecfab8ea497c button');\n",
              "          quickchartButtonEl.style.display =\n",
              "            google.colab.kernel.accessAllowed ? 'block' : 'none';\n",
              "        })();\n",
              "      </script>\n",
              "    </div>\n",
              "\n",
              "  <div id=\"id_8b79856e-0c76-4589-bf3f-9cf4d6f56a49\">\n",
              "    <style>\n",
              "      .colab-df-generate {\n",
              "        background-color: #E8F0FE;\n",
              "        border: none;\n",
              "        border-radius: 50%;\n",
              "        cursor: pointer;\n",
              "        display: none;\n",
              "        fill: #1967D2;\n",
              "        height: 32px;\n",
              "        padding: 0 0 0 0;\n",
              "        width: 32px;\n",
              "      }\n",
              "\n",
              "      .colab-df-generate:hover {\n",
              "        background-color: #E2EBFA;\n",
              "        box-shadow: 0px 1px 2px rgba(60, 64, 67, 0.3), 0px 1px 3px 1px rgba(60, 64, 67, 0.15);\n",
              "        fill: #174EA6;\n",
              "      }\n",
              "\n",
              "      [theme=dark] .colab-df-generate {\n",
              "        background-color: #3B4455;\n",
              "        fill: #D2E3FC;\n",
              "      }\n",
              "\n",
              "      [theme=dark] .colab-df-generate:hover {\n",
              "        background-color: #434B5C;\n",
              "        box-shadow: 0px 1px 3px 1px rgba(0, 0, 0, 0.15);\n",
              "        filter: drop-shadow(0px 1px 2px rgba(0, 0, 0, 0.3));\n",
              "        fill: #FFFFFF;\n",
              "      }\n",
              "    </style>\n",
              "    <button class=\"colab-df-generate\" onclick=\"generateWithVariable('CorrelationMatrix')\"\n",
              "            title=\"Generate code using this dataframe.\"\n",
              "            style=\"display:none;\">\n",
              "\n",
              "  <svg xmlns=\"http://www.w3.org/2000/svg\" height=\"24px\"viewBox=\"0 0 24 24\"\n",
              "       width=\"24px\">\n",
              "    <path d=\"M7,19H8.4L18.45,9,17,7.55,7,17.6ZM5,21V16.75L18.45,3.32a2,2,0,0,1,2.83,0l1.4,1.43a1.91,1.91,0,0,1,.58,1.4,1.91,1.91,0,0,1-.58,1.4L9.25,21ZM18.45,9,17,7.55Zm-12,3A5.31,5.31,0,0,0,4.9,8.1,5.31,5.31,0,0,0,1,6.5,5.31,5.31,0,0,0,4.9,4.9,5.31,5.31,0,0,0,6.5,1,5.31,5.31,0,0,0,8.1,4.9,5.31,5.31,0,0,0,12,6.5,5.46,5.46,0,0,0,6.5,12Z\"/>\n",
              "  </svg>\n",
              "    </button>\n",
              "    <script>\n",
              "      (() => {\n",
              "      const buttonEl =\n",
              "        document.querySelector('#id_8b79856e-0c76-4589-bf3f-9cf4d6f56a49 button.colab-df-generate');\n",
              "      buttonEl.style.display =\n",
              "        google.colab.kernel.accessAllowed ? 'block' : 'none';\n",
              "\n",
              "      buttonEl.onclick = () => {\n",
              "        google.colab.notebook.generateWithVariable('CorrelationMatrix');\n",
              "      }\n",
              "      })();\n",
              "    </script>\n",
              "  </div>\n",
              "\n",
              "    </div>\n",
              "  </div>\n"
            ],
            "application/vnd.google.colaboratory.intrinsic+json": {
              "type": "dataframe",
              "variable_name": "CorrelationMatrix",
              "summary": "{\n  \"name\": \"CorrelationMatrix\",\n  \"rows\": 15,\n  \"fields\": [\n    {\n      \"column\": \"GHI\",\n      \"properties\": {\n        \"dtype\": \"number\",\n        \"std\": 0.40789466511971834,\n        \"min\": -0.6021858834444297,\n        \"max\": 1.0,\n        \"num_unique_values\": 15,\n        \"samples\": [\n          0.5401505681678659,\n          0.47190686089521144,\n          1.0\n        ],\n        \"semantic_type\": \"\",\n        \"description\": \"\"\n      }\n    },\n    {\n      \"column\": \"temp\",\n      \"properties\": {\n        \"dtype\": \"number\",\n        \"std\": 0.38811599536357366,\n        \"min\": -0.5173579376067314,\n        \"max\": 1.0,\n        \"num_unique_values\": 15,\n        \"samples\": [\n          0.5044491014100838,\n          0.3826715186939032,\n          0.4927317720586198\n        ],\n        \"semantic_type\": \"\",\n        \"description\": \"\"\n      }\n    },\n    {\n      \"column\": \"pressure\",\n      \"properties\": {\n        \"dtype\": \"number\",\n        \"std\": 0.31147582887889813,\n        \"min\": -0.31992545074093137,\n        \"max\": 1.0,\n        \"num_unique_values\": 15,\n        \"samples\": [\n          0.006731395367901155,\n          0.0017908326202690159,\n          0.09639171923823103\n        ],\n        \"semantic_type\": \"\",\n        \"description\": \"\"\n      }\n    },\n    {\n      \"column\": \"humidity\",\n      \"properties\": {\n        \"dtype\": \"number\",\n        \"std\": 0.43880863993845615,\n        \"min\": -0.6021858834444297,\n        \"max\": 1.0,\n        \"num_unique_values\": 15,\n        \"samples\": [\n          -0.5981655293107797,\n          -0.5278866669694536,\n          -0.6021858834444297\n        ],\n        \"semantic_type\": \"\",\n        \"description\": \"\"\n      }\n    },\n    {\n      \"column\": \"wind_speed\",\n      \"properties\": {\n        \"dtype\": \"number\",\n        \"std\": 0.2919220738177032,\n        \"min\": -0.3139644844473443,\n        \"max\": 1.0,\n        \"num_unique_values\": 15,\n        \"samples\": [\n          0.05458038449595476,\n          0.09266143968810399,\n          0.017226831544822185\n        ],\n        \"semantic_type\": \"\",\n        \"description\": \"\"\n      }\n    },\n    {\n      \"column\": \"rain_1h\",\n      \"properties\": {\n        \"dtype\": \"number\",\n        \"std\": 0.26955652330261687,\n        \"min\": -0.20184240046693877,\n        \"max\": 1.0,\n        \"num_unique_values\": 15,\n        \"samples\": [\n          0.05931817888799461,\n          0.050163588512963375,\n          -0.048570179746585514\n        ],\n        \"semantic_type\": \"\",\n        \"description\": \"\"\n      }\n    },\n    {\n      \"column\": \"snow_1h\",\n      \"properties\": {\n        \"dtype\": \"number\",\n        \"std\": 0.2750441523691693,\n        \"min\": -0.1354851394994857,\n        \"max\": 1.0,\n        \"num_unique_values\": 15,\n        \"samples\": [\n          -0.03829279400424723,\n          -0.021456981051269353,\n          -0.051810836022443144\n        ],\n        \"semantic_type\": \"\",\n        \"description\": \"\"\n      }\n    },\n    {\n      \"column\": \"clouds_all\",\n      \"properties\": {\n        \"dtype\": \"number\",\n        \"std\": 0.3713025939036765,\n        \"min\": -0.26385179124271463,\n        \"max\": 1.0,\n        \"num_unique_values\": 15,\n        \"samples\": [\n          -0.030414869049497948,\n          0.00476057902959271,\n          -0.18876531091232224\n        ],\n        \"semantic_type\": \"\",\n        \"description\": \"\"\n      }\n    },\n    {\n      \"column\": \"isSun\",\n      \"properties\": {\n        \"dtype\": \"number\",\n        \"std\": 0.3926843970147644,\n        \"min\": -0.38914352444930056,\n        \"max\": 1.0,\n        \"num_unique_values\": 15,\n        \"samples\": [\n          0.7427145435319816,\n          0.7744236640028155,\n          0.6003259740558108\n        ],\n        \"semantic_type\": \"\",\n        \"description\": \"\"\n      }\n    },\n    {\n      \"column\": \"sunlightTime\",\n      \"properties\": {\n        \"dtype\": \"number\",\n        \"std\": 0.43360034154350496,\n        \"min\": -0.5981655293107797,\n        \"max\": 1.0,\n        \"num_unique_values\": 15,\n        \"samples\": [\n          1.0,\n          0.9579723439901459,\n          0.5401505681678659\n        ],\n        \"semantic_type\": \"\",\n        \"description\": \"\"\n      }\n    },\n    {\n      \"column\": \"dayLength\",\n      \"properties\": {\n        \"dtype\": \"number\",\n        \"std\": 0.3809867588486499,\n        \"min\": -0.4164603845099932,\n        \"max\": 1.0,\n        \"num_unique_values\": 15,\n        \"samples\": [\n          0.3687124137828182,\n          0.20569800272470434,\n          0.4011148801251078\n        ],\n        \"semantic_type\": \"\",\n        \"description\": \"\"\n      }\n    },\n    {\n      \"column\": \"SunlightTime/daylength\",\n      \"properties\": {\n        \"dtype\": \"number\",\n        \"std\": 0.4141683174689564,\n        \"min\": -0.5278866669694536,\n        \"max\": 1.0,\n        \"num_unique_values\": 15,\n        \"samples\": [\n          0.9579723439901459,\n          1.0,\n          0.47190686089521144\n        ],\n        \"semantic_type\": \"\",\n        \"description\": \"\"\n      }\n    },\n    {\n      \"column\": \"weather_type\",\n      \"properties\": {\n        \"dtype\": \"number\",\n        \"std\": 0.37194307640481794,\n        \"min\": -0.31992545074093137,\n        \"max\": 1.0,\n        \"num_unique_values\": 15,\n        \"samples\": [\n          0.00614044785776624,\n          0.034283456111349205,\n          -0.1636156929679901\n        ],\n        \"semantic_type\": \"\",\n        \"description\": \"\"\n      }\n    },\n    {\n      \"column\": \"hour\",\n      \"properties\": {\n        \"dtype\": \"number\",\n        \"std\": 0.27543024700074714,\n        \"min\": -0.19492441351017334,\n        \"max\": 1.0,\n        \"num_unique_values\": 15,\n        \"samples\": [\n          0.14491933858119474,\n          0.13688930647450234,\n          -0.08372706189332138\n        ],\n        \"semantic_type\": \"\",\n        \"description\": \"\"\n      }\n    },\n    {\n      \"column\": \"month\",\n      \"properties\": {\n        \"dtype\": \"number\",\n        \"std\": 0.27055087826225044,\n        \"min\": -0.09098060147631418,\n        \"max\": 1.0,\n        \"num_unique_values\": 15,\n        \"samples\": [\n          -0.028355350055518324,\n          -0.018653300215205885,\n          -0.039460724346153615\n        ],\n        \"semantic_type\": \"\",\n        \"description\": \"\"\n      }\n    }\n  ]\n}"
            }
          },
          "metadata": {},
          "execution_count": 15
        }
      ],
      "source": [
        "CorrelationMatrix=X.corr()\n",
        "CorrelationMatrix"
      ]
    },
    {
      "cell_type": "code",
      "execution_count": 16,
      "metadata": {
        "id": "fyF8LXN2SK0C",
        "colab": {
          "base_uri": "https://localhost:8080/",
          "height": 987
        },
        "outputId": "9e13fed1-6d26-40a5-90d6-abbe3d745e1c"
      },
      "outputs": [
        {
          "output_type": "display_data",
          "data": {
            "text/plain": [
              "<Figure size 1200x1000 with 2 Axes>"
            ],
            "image/png": "[encoded data removed]"
          },
          "metadata": {}
        }
      ],
      "source": [
        "import seaborn as sns\n",
        "import matplotlib.pyplot as plt\n",
        "#Using Pearson Correlation\n",
        "plt.figure(figsize=(12,10))\n",
        "cor = CorrelationMatrix.corr()\n",
        "sns.heatmap(cor, annot=True, cmap=plt.cm.CMRmap_r)\n",
        "plt.show()"
      ]
    },
    {
      "cell_type": "code",
      "execution_count": 17,
      "metadata": {
        "id": "FdQfRsmMSM9i"
      },
      "outputs": [],
      "source": [
        "def correlation(dataset, threshold):\n",
        "    col_corr = set()  # Set of all the names of correlated columns\n",
        "    corr_matrix = dataset.corr()\n",
        "    for i in range(len(corr_matrix.columns)):\n",
        "        for j in range(i):\n",
        "            if abs(corr_matrix.iloc[i, j]) > threshold: # we are interested in absolute coeff value\n",
        "                colname = corr_matrix.columns[i]  # getting the name of column\n",
        "                col_corr.add(colname)\n",
        "    return col_corr\n"
      ]
    },
    {
      "cell_type": "code",
      "execution_count": 18,
      "metadata": {
        "id": "f9THLKjZSPMK",
        "colab": {
          "base_uri": "https://localhost:8080/",
          "height": 472
        },
        "outputId": "48f98fa2-6597-4056-f626-94a8b1bff108"
      },
      "outputs": [
        {
          "output_type": "stream",
          "name": "stdout",
          "text": [
            "{'weather_type', 'SunlightTime/daylength'}\n"
          ]
        },
        {
          "output_type": "execute_result",
          "data": {
            "text/plain": [
              "                      GHI  temp  pressure  humidity  wind_speed  rain_1h  \\\n",
              "Time                                                                       \n",
              "2017-01-01 00:00:00   0.0   1.6      1021       100         4.9      0.0   \n",
              "2017-01-01 00:15:00   0.0   1.6      1021       100         4.9      0.0   \n",
              "2017-01-01 00:30:00   0.0   1.6      1021       100         4.9      0.0   \n",
              "2017-01-01 00:45:00   0.0   1.6      1021       100         4.9      0.0   \n",
              "2017-01-01 01:00:00   0.0   1.7      1020       100         5.2      0.0   \n",
              "...                   ...   ...       ...       ...         ...      ...   \n",
              "2022-08-31 16:45:00  23.7  18.6      1023        57         3.8      0.0   \n",
              "2022-08-31 17:00:00  15.6  18.5      1023        61         4.2      0.0   \n",
              "2022-08-31 17:15:00   8.0  18.5      1023        61         4.2      0.0   \n",
              "2022-08-31 17:30:00   2.1  18.5      1023        61         4.2      0.0   \n",
              "2022-08-31 17:45:00   0.0  18.5      1023        61         4.2      0.0   \n",
              "\n",
              "                     snow_1h  clouds_all  isSun  sunlightTime  dayLength  \\\n",
              "Time                                                                       \n",
              "2017-01-01 00:00:00      0.0         100      0             0        450   \n",
              "2017-01-01 00:15:00      0.0         100      0             0        450   \n",
              "2017-01-01 00:30:00      0.0         100      0             0        450   \n",
              "2017-01-01 00:45:00      0.0         100      0             0        450   \n",
              "2017-01-01 01:00:00      0.0         100      0             0        450   \n",
              "...                      ...         ...    ...           ...        ...   \n",
              "2022-08-31 16:45:00      0.0          52      1           780        825   \n",
              "2022-08-31 17:00:00      0.0          60      1           795        825   \n",
              "2022-08-31 17:15:00      0.0          60      1           810        825   \n",
              "2022-08-31 17:30:00      0.0          60      1           825        825   \n",
              "2022-08-31 17:45:00      0.0          60      0             0        825   \n",
              "\n",
              "                     hour  month  \n",
              "Time                              \n",
              "2017-01-01 00:00:00     0      1  \n",
              "2017-01-01 00:15:00     0      1  \n",
              "2017-01-01 00:30:00     0      1  \n",
              "2017-01-01 00:45:00     0      1  \n",
              "2017-01-01 01:00:00     1      1  \n",
              "...                   ...    ...  \n",
              "2022-08-31 16:45:00    16      8  \n",
              "2022-08-31 17:00:00    17      8  \n",
              "2022-08-31 17:15:00    17      8  \n",
              "2022-08-31 17:30:00    17      8  \n",
              "2022-08-31 17:45:00    17      8  \n",
              "\n",
              "[196776 rows x 13 columns]"
            ],
            "text/html": [
              "\n",
              "  <div id=\"df-6e015d33-42c9-46fa-8dd0-0c1c6134583c\" class=\"colab-df-container\">\n",
              "    <div>\n",
              "<style scoped>\n",
              "    .dataframe tbody tr th:only-of-type {\n",
              "        vertical-align: middle;\n",
              "    }\n",
              "\n",
              "    .dataframe tbody tr th {\n",
              "        vertical-align: top;\n",
              "    }\n",
              "\n",
              "    .dataframe thead th {\n",
              "        text-align: right;\n",
              "    }\n",
              "</style>\n",
              "<table border=\"1\" class=\"dataframe\">\n",
              "  <thead>\n",
              "    <tr style=\"text-align: right;\">\n",
              "      <th></th>\n",
              "      <th>GHI</th>\n",
              "      <th>temp</th>\n",
              "      <th>pressure</th>\n",
              "      <th>humidity</th>\n",
              "      <th>wind_speed</th>\n",
              "      <th>rain_1h</th>\n",
              "      <th>snow_1h</th>\n",
              "      <th>clouds_all</th>\n",
              "      <th>isSun</th>\n",
              "      <th>sunlightTime</th>\n",
              "      <th>dayLength</th>\n",
              "      <th>hour</th>\n",
              "      <th>month</th>\n",
              "    </tr>\n",
              "    <tr>\n",
              "      <th>Time</th>\n",
              "      <th></th>\n",
              "      <th></th>\n",
              "      <th></th>\n",
              "      <th></th>\n",
              "      <th></th>\n",
              "      <th></th>\n",
              "      <th></th>\n",
              "      <th></th>\n",
              "      <th></th>\n",
              "      <th></th>\n",
              "      <th></th>\n",
              "      <th></th>\n",
              "      <th></th>\n",
              "    </tr>\n",
              "  </thead>\n",
              "  <tbody>\n",
              "    <tr>\n",
              "      <th>2017-01-01 00:00:00</th>\n",
              "      <td>0.0</td>\n",
              "      <td>1.6</td>\n",
              "      <td>1021</td>\n",
              "      <td>100</td>\n",
              "      <td>4.9</td>\n",
              "      <td>0.0</td>\n",
              "      <td>0.0</td>\n",
              "      <td>100</td>\n",
              "      <td>0</td>\n",
              "      <td>0</td>\n",
              "      <td>450</td>\n",
              "      <td>0</td>\n",
              "      <td>1</td>\n",
              "    </tr>\n",
              "    <tr>\n",
              "      <th>2017-01-01 00:15:00</th>\n",
              "      <td>0.0</td>\n",
              "      <td>1.6</td>\n",
              "      <td>1021</td>\n",
              "      <td>100</td>\n",
              "      <td>4.9</td>\n",
              "      <td>0.0</td>\n",
              "      <td>0.0</td>\n",
              "      <td>100</td>\n",
              "      <td>0</td>\n",
              "      <td>0</td>\n",
              "      <td>450</td>\n",
              "      <td>0</td>\n",
              "      <td>1</td>\n",
              "    </tr>\n",
              "    <tr>\n",
              "      <th>2017-01-01 00:30:00</th>\n",
              "      <td>0.0</td>\n",
              "      <td>1.6</td>\n",
              "      <td>1021</td>\n",
              "      <td>100</td>\n",
              "      <td>4.9</td>\n",
              "      <td>0.0</td>\n",
              "      <td>0.0</td>\n",
              "      <td>100</td>\n",
              "      <td>0</td>\n",
              "      <td>0</td>\n",
              "      <td>450</td>\n",
              "      <td>0</td>\n",
              "      <td>1</td>\n",
              "    </tr>\n",
              "    <tr>\n",
              "      <th>2017-01-01 00:45:00</th>\n",
              "      <td>0.0</td>\n",
              "      <td>1.6</td>\n",
              "      <td>1021</td>\n",
              "      <td>100</td>\n",
              "      <td>4.9</td>\n",
              "      <td>0.0</td>\n",
              "      <td>0.0</td>\n",
              "      <td>100</td>\n",
              "      <td>0</td>\n",
              "      <td>0</td>\n",
              "      <td>450</td>\n",
              "      <td>0</td>\n",
              "      <td>1</td>\n",
              "    </tr>\n",
              "    <tr>\n",
              "      <th>2017-01-01 01:00:00</th>\n",
              "      <td>0.0</td>\n",
              "      <td>1.7</td>\n",
              "      <td>1020</td>\n",
              "      <td>100</td>\n",
              "      <td>5.2</td>\n",
              "      <td>0.0</td>\n",
              "      <td>0.0</td>\n",
              "      <td>100</td>\n",
              "      <td>0</td>\n",
              "      <td>0</td>\n",
              "      <td>450</td>\n",
              "      <td>1</td>\n",
              "      <td>1</td>\n",
              "    </tr>\n",
              "    <tr>\n",
              "      <th>...</th>\n",
              "      <td>...</td>\n",
              "      <td>...</td>\n",
              "      <td>...</td>\n",
              "      <td>...</td>\n",
              "      <td>...</td>\n",
              "      <td>...</td>\n",
              "      <td>...</td>\n",
              "      <td>...</td>\n",
              "      <td>...</td>\n",
              "      <td>...</td>\n",
              "      <td>...</td>\n",
              "      <td>...</td>\n",
              "      <td>...</td>\n",
              "    </tr>\n",
              "    <tr>\n",
              "      <th>2022-08-31 16:45:00</th>\n",
              "      <td>23.7</td>\n",
              "      <td>18.6</td>\n",
              "      <td>1023</td>\n",
              "      <td>57</td>\n",
              "      <td>3.8</td>\n",
              "      <td>0.0</td>\n",
              "      <td>0.0</td>\n",
              "      <td>52</td>\n",
              "      <td>1</td>\n",
              "      <td>780</td>\n",
              "      <td>825</td>\n",
              "      <td>16</td>\n",
              "      <td>8</td>\n",
              "    </tr>\n",
              "    <tr>\n",
              "      <th>2022-08-31 17:00:00</th>\n",
              "      <td>15.6</td>\n",
              "      <td>18.5</td>\n",
              "      <td>1023</td>\n",
              "      <td>61</td>\n",
              "      <td>4.2</td>\n",
              "      <td>0.0</td>\n",
              "      <td>0.0</td>\n",
              "      <td>60</td>\n",
              "      <td>1</td>\n",
              "      <td>795</td>\n",
              "      <td>825</td>\n",
              "      <td>17</td>\n",
              "      <td>8</td>\n",
              "    </tr>\n",
              "    <tr>\n",
              "      <th>2022-08-31 17:15:00</th>\n",
              "      <td>8.0</td>\n",
              "      <td>18.5</td>\n",
              "      <td>1023</td>\n",
              "      <td>61</td>\n",
              "      <td>4.2</td>\n",
              "      <td>0.0</td>\n",
              "      <td>0.0</td>\n",
              "      <td>60</td>\n",
              "      <td>1</td>\n",
              "      <td>810</td>\n",
              "      <td>825</td>\n",
              "      <td>17</td>\n",
              "      <td>8</td>\n",
              "    </tr>\n",
              "    <tr>\n",
              "      <th>2022-08-31 17:30:00</th>\n",
              "      <td>2.1</td>\n",
              "      <td>18.5</td>\n",
              "      <td>1023</td>\n",
              "      <td>61</td>\n",
              "      <td>4.2</td>\n",
              "      <td>0.0</td>\n",
              "      <td>0.0</td>\n",
              "      <td>60</td>\n",
              "      <td>1</td>\n",
              "      <td>825</td>\n",
              "      <td>825</td>\n",
              "      <td>17</td>\n",
              "      <td>8</td>\n",
              "    </tr>\n",
              "    <tr>\n",
              "      <th>2022-08-31 17:45:00</th>\n",
              "      <td>0.0</td>\n",
              "      <td>18.5</td>\n",
              "      <td>1023</td>\n",
              "      <td>61</td>\n",
              "      <td>4.2</td>\n",
              "      <td>0.0</td>\n",
              "      <td>0.0</td>\n",
              "      <td>60</td>\n",
              "      <td>0</td>\n",
              "      <td>0</td>\n",
              "      <td>825</td>\n",
              "      <td>17</td>\n",
              "      <td>8</td>\n",
              "    </tr>\n",
              "  </tbody>\n",
              "</table>\n",
              "<p>196776 rows × 13 columns</p>\n",
              "</div>\n",
              "    <div class=\"colab-df-buttons\">\n",
              "\n",
              "  <div class=\"colab-df-container\">\n",
              "    <button class=\"colab-df-convert\" onclick=\"convertToInteractive('df-6e015d33-42c9-46fa-8dd0-0c1c6134583c')\"\n",
              "            title=\"Convert this dataframe to an interactive table.\"\n",
              "            style=\"display:none;\">\n",
              "\n",
              "  <svg xmlns=\"http://www.w3.org/2000/svg\" height=\"24px\" viewBox=\"0 -960 960 960\">\n",
              "    <path d=\"M120-120v-720h720v720H120Zm60-500h600v-160H180v160Zm220 220h160v-160H400v160Zm0 220h160v-160H400v160ZM180-400h160v-160H180v160Zm440 0h160v-160H620v160ZM180-180h160v-160H180v160Zm440 0h160v-160H620v160Z\"/>\n",
              "  </svg>\n",
              "    </button>\n",
              "\n",
              "  <style>\n",
              "    .colab-df-container {\n",
              "      display:flex;\n",
              "      gap: 12px;\n",
              "    }\n",
              "\n",
              "    .colab-df-convert {\n",
              "      background-color: #E8F0FE;\n",
              "      border: none;\n",
              "      border-radius: 50%;\n",
              "      cursor: pointer;\n",
              "      display: none;\n",
              "      fill: #1967D2;\n",
              "      height: 32px;\n",
              "      padding: 0 0 0 0;\n",
              "      width: 32px;\n",
              "    }\n",
              "\n",
              "    .colab-df-convert:hover {\n",
              "      background-color: #E2EBFA;\n",
              "      box-shadow: 0px 1px 2px rgba(60, 64, 67, 0.3), 0px 1px 3px 1px rgba(60, 64, 67, 0.15);\n",
              "      fill: #174EA6;\n",
              "    }\n",
              "\n",
              "    .colab-df-buttons div {\n",
              "      margin-bottom: 4px;\n",
              "    }\n",
              "\n",
              "    [theme=dark] .colab-df-convert {\n",
              "      background-color: #3B4455;\n",
              "      fill: #D2E3FC;\n",
              "    }\n",
              "\n",
              "    [theme=dark] .colab-df-convert:hover {\n",
              "      background-color: #434B5C;\n",
              "      box-shadow: 0px 1px 3px 1px rgba(0, 0, 0, 0.15);\n",
              "      filter: drop-shadow(0px 1px 2px rgba(0, 0, 0, 0.3));\n",
              "      fill: #FFFFFF;\n",
              "    }\n",
              "  </style>\n",
              "\n",
              "    <script>\n",
              "      const buttonEl =\n",
              "        document.querySelector('#df-6e015d33-42c9-46fa-8dd0-0c1c6134583c button.colab-df-convert');\n",
              "      buttonEl.style.display =\n",
              "        google.colab.kernel.accessAllowed ? 'block' : 'none';\n",
              "\n",
              "      async function convertToInteractive(key) {\n",
              "        const element = document.querySelector('#df-6e015d33-42c9-46fa-8dd0-0c1c6134583c');\n",
              "        const dataTable =\n",
              "          await google.colab.kernel.invokeFunction('convertToInteractive',\n",
              "                                                    [key], {});\n",
              "        if (!dataTable) return;\n",
              "\n",
              "        const docLinkHtml = 'Like what you see? Visit the ' +\n",
              "          '<a target=\"_blank\" href=https://colab.research.google.com/notebooks/data_table.ipynb>data table notebook</a>'\n",
              "          + ' to learn more about interactive tables.';\n",
              "        element.innerHTML = '';\n",
              "        dataTable['output_type'] = 'display_data';\n",
              "        await google.colab.output.renderOutput(dataTable, element);\n",
              "        const docLink = document.createElement('div');\n",
              "        docLink.innerHTML = docLinkHtml;\n",
              "        element.appendChild(docLink);\n",
              "      }\n",
              "    </script>\n",
              "  </div>\n",
              "\n",
              "\n",
              "    <div id=\"df-5532fb53-5316-44e7-8761-7a13238d8859\">\n",
              "      <button class=\"colab-df-quickchart\" onclick=\"quickchart('df-5532fb53-5316-44e7-8761-7a13238d8859')\"\n",
              "                title=\"Suggest charts\"\n",
              "                style=\"display:none;\">\n",
              "\n",
              "<svg xmlns=\"http://www.w3.org/2000/svg\" height=\"24px\"viewBox=\"0 0 24 24\"\n",
              "     width=\"24px\">\n",
              "    <g>\n",
              "        <path d=\"M19 3H5c-1.1 0-2 .9-2 2v14c0 1.1.9 2 2 2h14c1.1 0 2-.9 2-2V5c0-1.1-.9-2-2-2zM9 17H7v-7h2v7zm4 0h-2V7h2v10zm4 0h-2v-4h2v4z\"/>\n",
              "    </g>\n",
              "</svg>\n",
              "      </button>\n",
              "\n",
              "<style>\n",
              "  .colab-df-quickchart {\n",
              "      --bg-color: #E8F0FE;\n",
              "      --fill-color: #1967D2;\n",
              "      --hover-bg-color: #E2EBFA;\n",
              "      --hover-fill-color: #174EA6;\n",
              "      --disabled-fill-color: #AAA;\n",
              "      --disabled-bg-color: #DDD;\n",
              "  }\n",
              "\n",
              "  [theme=dark] .colab-df-quickchart {\n",
              "      --bg-color: #3B4455;\n",
              "      --fill-color: #D2E3FC;\n",
              "      --hover-bg-color: #434B5C;\n",
              "      --hover-fill-color: #FFFFFF;\n",
              "      --disabled-bg-color: #3B4455;\n",
              "      --disabled-fill-color: #666;\n",
              "  }\n",
              "\n",
              "  .colab-df-quickchart {\n",
              "    background-color: var(--bg-color);\n",
              "    border: none;\n",
              "    border-radius: 50%;\n",
              "    cursor: pointer;\n",
              "    display: none;\n",
              "    fill: var(--fill-color);\n",
              "    height: 32px;\n",
              "    padding: 0;\n",
              "    width: 32px;\n",
              "  }\n",
              "\n",
              "  .colab-df-quickchart:hover {\n",
              "    background-color: var(--hover-bg-color);\n",
              "    box-shadow: 0 1px 2px rgba(60, 64, 67, 0.3), 0 1px 3px 1px rgba(60, 64, 67, 0.15);\n",
              "    fill: var(--button-hover-fill-color);\n",
              "  }\n",
              "\n",
              "  .colab-df-quickchart-complete:disabled,\n",
              "  .colab-df-quickchart-complete:disabled:hover {\n",
              "    background-color: var(--disabled-bg-color);\n",
              "    fill: var(--disabled-fill-color);\n",
              "    box-shadow: none;\n",
              "  }\n",
              "\n",
              "  .colab-df-spinner {\n",
              "    border: 2px solid var(--fill-color);\n",
              "    border-color: transparent;\n",
              "    border-bottom-color: var(--fill-color);\n",
              "    animation:\n",
              "      spin 1s steps(1) infinite;\n",
              "  }\n",
              "\n",
              "  @keyframes spin {\n",
              "    0% {\n",
              "      border-color: transparent;\n",
              "      border-bottom-color: var(--fill-color);\n",
              "      border-left-color: var(--fill-color);\n",
              "    }\n",
              "    20% {\n",
              "      border-color: transparent;\n",
              "      border-left-color: var(--fill-color);\n",
              "      border-top-color: var(--fill-color);\n",
              "    }\n",
              "    30% {\n",
              "      border-color: transparent;\n",
              "      border-left-color: var(--fill-color);\n",
              "      border-top-color: var(--fill-color);\n",
              "      border-right-color: var(--fill-color);\n",
              "    }\n",
              "    40% {\n",
              "      border-color: transparent;\n",
              "      border-right-color: var(--fill-color);\n",
              "      border-top-color: var(--fill-color);\n",
              "    }\n",
              "    60% {\n",
              "      border-color: transparent;\n",
              "      border-right-color: var(--fill-color);\n",
              "    }\n",
              "    80% {\n",
              "      border-color: transparent;\n",
              "      border-right-color: var(--fill-color);\n",
              "      border-bottom-color: var(--fill-color);\n",
              "    }\n",
              "    90% {\n",
              "      border-color: transparent;\n",
              "      border-bottom-color: var(--fill-color);\n",
              "    }\n",
              "  }\n",
              "</style>\n",
              "\n",
              "      <script>\n",
              "        async function quickchart(key) {\n",
              "          const quickchartButtonEl =\n",
              "            document.querySelector('#' + key + ' button');\n",
              "          quickchartButtonEl.disabled = true;  // To prevent multiple clicks.\n",
              "          quickchartButtonEl.classList.add('colab-df-spinner');\n",
              "          try {\n",
              "            const charts = await google.colab.kernel.invokeFunction(\n",
              "                'suggestCharts', [key], {});\n",
              "          } catch (error) {\n",
              "            console.error('Error during call to suggestCharts:', error);\n",
              "          }\n",
              "          quickchartButtonEl.classList.remove('colab-df-spinner');\n",
              "          quickchartButtonEl.classList.add('colab-df-quickchart-complete');\n",
              "        }\n",
              "        (() => {\n",
              "          let quickchartButtonEl =\n",
              "            document.querySelector('#df-5532fb53-5316-44e7-8761-7a13238d8859 button');\n",
              "          quickchartButtonEl.style.display =\n",
              "            google.colab.kernel.accessAllowed ? 'block' : 'none';\n",
              "        })();\n",
              "      </script>\n",
              "    </div>\n",
              "\n",
              "  <div id=\"id_fda170a0-193d-4c86-8040-8892ec35563e\">\n",
              "    <style>\n",
              "      .colab-df-generate {\n",
              "        background-color: #E8F0FE;\n",
              "        border: none;\n",
              "        border-radius: 50%;\n",
              "        cursor: pointer;\n",
              "        display: none;\n",
              "        fill: #1967D2;\n",
              "        height: 32px;\n",
              "        padding: 0 0 0 0;\n",
              "        width: 32px;\n",
              "      }\n",
              "\n",
              "      .colab-df-generate:hover {\n",
              "        background-color: #E2EBFA;\n",
              "        box-shadow: 0px 1px 2px rgba(60, 64, 67, 0.3), 0px 1px 3px 1px rgba(60, 64, 67, 0.15);\n",
              "        fill: #174EA6;\n",
              "      }\n",
              "\n",
              "      [theme=dark] .colab-df-generate {\n",
              "        background-color: #3B4455;\n",
              "        fill: #D2E3FC;\n",
              "      }\n",
              "\n",
              "      [theme=dark] .colab-df-generate:hover {\n",
              "        background-color: #434B5C;\n",
              "        box-shadow: 0px 1px 3px 1px rgba(0, 0, 0, 0.15);\n",
              "        filter: drop-shadow(0px 1px 2px rgba(0, 0, 0, 0.3));\n",
              "        fill: #FFFFFF;\n",
              "      }\n",
              "    </style>\n",
              "    <button class=\"colab-df-generate\" onclick=\"generateWithVariable('X')\"\n",
              "            title=\"Generate code using this dataframe.\"\n",
              "            style=\"display:none;\">\n",
              "\n",
              "  <svg xmlns=\"http://www.w3.org/2000/svg\" height=\"24px\"viewBox=\"0 0 24 24\"\n",
              "       width=\"24px\">\n",
              "    <path d=\"M7,19H8.4L18.45,9,17,7.55,7,17.6ZM5,21V16.75L18.45,3.32a2,2,0,0,1,2.83,0l1.4,1.43a1.91,1.91,0,0,1,.58,1.4,1.91,1.91,0,0,1-.58,1.4L9.25,21ZM18.45,9,17,7.55Zm-12,3A5.31,5.31,0,0,0,4.9,8.1,5.31,5.31,0,0,0,1,6.5,5.31,5.31,0,0,0,4.9,4.9,5.31,5.31,0,0,0,6.5,1,5.31,5.31,0,0,0,8.1,4.9,5.31,5.31,0,0,0,12,6.5,5.46,5.46,0,0,0,6.5,12Z\"/>\n",
              "  </svg>\n",
              "    </button>\n",
              "    <script>\n",
              "      (() => {\n",
              "      const buttonEl =\n",
              "        document.querySelector('#id_fda170a0-193d-4c86-8040-8892ec35563e button.colab-df-generate');\n",
              "      buttonEl.style.display =\n",
              "        google.colab.kernel.accessAllowed ? 'block' : 'none';\n",
              "\n",
              "      buttonEl.onclick = () => {\n",
              "        google.colab.notebook.generateWithVariable('X');\n",
              "      }\n",
              "      })();\n",
              "    </script>\n",
              "  </div>\n",
              "\n",
              "    </div>\n",
              "  </div>\n"
            ],
            "application/vnd.google.colaboratory.intrinsic+json": {
              "type": "dataframe",
              "variable_name": "X"
            }
          },
          "metadata": {},
          "execution_count": 18
        }
      ],
      "source": [
        "correlation=correlation(X,0.9)\n",
        "print(correlation)\n",
        "X=X.drop(correlation,axis=1)\n",
        "X"
      ]
    },
    {
      "cell_type": "code",
      "execution_count": 19,
      "metadata": {
        "id": "hWy2sIEqSSMC",
        "colab": {
          "base_uri": "https://localhost:8080/"
        },
        "outputId": "82c5eb73-7c1d-4a77-8b84-8a69d081874d"
      },
      "outputs": [
        {
          "output_type": "stream",
          "name": "stdout",
          "text": [
            "Requirement already satisfied: mlxtend in /usr/local/lib/python3.11/dist-packages (0.23.4)\n",
            "Requirement already satisfied: scipy>=1.2.1 in /usr/local/lib/python3.11/dist-packages (from mlxtend) (1.15.3)\n",
            "Requirement already satisfied: numpy>=1.16.2 in /usr/local/lib/python3.11/dist-packages (from mlxtend) (2.0.2)\n",
            "Requirement already satisfied: pandas>=0.24.2 in /usr/local/lib/python3.11/dist-packages (from mlxtend) (2.2.2)\n",
            "Requirement already satisfied: scikit-learn>=1.3.1 in /usr/local/lib/python3.11/dist-packages (from mlxtend) (1.6.1)\n",
            "Requirement already satisfied: matplotlib>=3.0.0 in /usr/local/lib/python3.11/dist-packages (from mlxtend) (3.10.0)\n",
            "Requirement already satisfied: joblib>=0.13.2 in /usr/local/lib/python3.11/dist-packages (from mlxtend) (1.5.0)\n",
            "Requirement already satisfied: contourpy>=1.0.1 in /usr/local/lib/python3.11/dist-packages (from matplotlib>=3.0.0->mlxtend) (1.3.2)\n",
            "Requirement already satisfied: cycler>=0.10 in /usr/local/lib/python3.11/dist-packages (from matplotlib>=3.0.0->mlxtend) (0.12.1)\n",
            "Requirement already satisfied: fonttools>=4.22.0 in /usr/local/lib/python3.11/dist-packages (from matplotlib>=3.0.0->mlxtend) (4.58.0)\n",
            "Requirement already satisfied: kiwisolver>=1.3.1 in /usr/local/lib/python3.11/dist-packages (from matplotlib>=3.0.0->mlxtend) (1.4.8)\n",
            "Requirement already satisfied: packaging>=20.0 in /usr/local/lib/python3.11/dist-packages (from matplotlib>=3.0.0->mlxtend) (24.2)\n",
            "Requirement already satisfied: pillow>=8 in /usr/local/lib/python3.11/dist-packages (from matplotlib>=3.0.0->mlxtend) (11.2.1)\n",
            "Requirement already satisfied: pyparsing>=2.3.1 in /usr/local/lib/python3.11/dist-packages (from matplotlib>=3.0.0->mlxtend) (3.2.3)\n",
            "Requirement already satisfied: python-dateutil>=2.7 in /usr/local/lib/python3.11/dist-packages (from matplotlib>=3.0.0->mlxtend) (2.9.0.post0)\n",
            "Requirement already satisfied: pytz>=2020.1 in /usr/local/lib/python3.11/dist-packages (from pandas>=0.24.2->mlxtend) (2025.2)\n",
            "Requirement already satisfied: tzdata>=2022.7 in /usr/local/lib/python3.11/dist-packages (from pandas>=0.24.2->mlxtend) (2025.2)\n",
            "Requirement already satisfied: threadpoolctl>=3.1.0 in /usr/local/lib/python3.11/dist-packages (from scikit-learn>=1.3.1->mlxtend) (3.6.0)\n",
            "Requirement already satisfied: six>=1.5 in /usr/local/lib/python3.11/dist-packages (from python-dateutil>=2.7->matplotlib>=3.0.0->mlxtend) (1.17.0)\n",
            "Requirement already satisfied: scikit-learn in /usr/local/lib/python3.11/dist-packages (1.6.1)\n",
            "Requirement already satisfied: mlxtend in /usr/local/lib/python3.11/dist-packages (0.23.4)\n",
            "Requirement already satisfied: numpy>=1.19.5 in /usr/local/lib/python3.11/dist-packages (from scikit-learn) (2.0.2)\n",
            "Requirement already satisfied: scipy>=1.6.0 in /usr/local/lib/python3.11/dist-packages (from scikit-learn) (1.15.3)\n",
            "Requirement already satisfied: joblib>=1.2.0 in /usr/local/lib/python3.11/dist-packages (from scikit-learn) (1.5.0)\n",
            "Requirement already satisfied: threadpoolctl>=3.1.0 in /usr/local/lib/python3.11/dist-packages (from scikit-learn) (3.6.0)\n",
            "Requirement already satisfied: pandas>=0.24.2 in /usr/local/lib/python3.11/dist-packages (from mlxtend) (2.2.2)\n",
            "Requirement already satisfied: matplotlib>=3.0.0 in /usr/local/lib/python3.11/dist-packages (from mlxtend) (3.10.0)\n",
            "Requirement already satisfied: contourpy>=1.0.1 in /usr/local/lib/python3.11/dist-packages (from matplotlib>=3.0.0->mlxtend) (1.3.2)\n",
            "Requirement already satisfied: cycler>=0.10 in /usr/local/lib/python3.11/dist-packages (from matplotlib>=3.0.0->mlxtend) (0.12.1)\n",
            "Requirement already satisfied: fonttools>=4.22.0 in /usr/local/lib/python3.11/dist-packages (from matplotlib>=3.0.0->mlxtend) (4.58.0)\n",
            "Requirement already satisfied: kiwisolver>=1.3.1 in /usr/local/lib/python3.11/dist-packages (from matplotlib>=3.0.0->mlxtend) (1.4.8)\n",
            "Requirement already satisfied: packaging>=20.0 in /usr/local/lib/python3.11/dist-packages (from matplotlib>=3.0.0->mlxtend) (24.2)\n",
            "Requirement already satisfied: pillow>=8 in /usr/local/lib/python3.11/dist-packages (from matplotlib>=3.0.0->mlxtend) (11.2.1)\n",
            "Requirement already satisfied: pyparsing>=2.3.1 in /usr/local/lib/python3.11/dist-packages (from matplotlib>=3.0.0->mlxtend) (3.2.3)\n",
            "Requirement already satisfied: python-dateutil>=2.7 in /usr/local/lib/python3.11/dist-packages (from matplotlib>=3.0.0->mlxtend) (2.9.0.post0)\n",
            "Requirement already satisfied: pytz>=2020.1 in /usr/local/lib/python3.11/dist-packages (from pandas>=0.24.2->mlxtend) (2025.2)\n",
            "Requirement already satisfied: tzdata>=2022.7 in /usr/local/lib/python3.11/dist-packages (from pandas>=0.24.2->mlxtend) (2025.2)\n",
            "Requirement already satisfied: six>=1.5 in /usr/local/lib/python3.11/dist-packages (from python-dateutil>=2.7->matplotlib>=3.0.0->mlxtend) (1.17.0)\n"
          ]
        }
      ],
      "source": [
        "!pip install mlxtend\n",
        "!pip install --upgrade scikit-learn mlxtend\n"
      ]
    },
    {
      "cell_type": "code",
      "execution_count": 20,
      "metadata": {
        "id": "zpKcwqtySUvo"
      },
      "outputs": [],
      "source": [
        "import sklearn\n",
        "from mlxtend.feature_selection import SequentialFeatureSelector\n",
        "from sklearn.linear_model import LinearRegression"
      ]
    },
    {
      "cell_type": "code",
      "execution_count": 21,
      "metadata": {
        "id": "WRzYNaNTSXe2",
        "colab": {
          "base_uri": "https://localhost:8080/"
        },
        "outputId": "a291b3bd-8735-450b-848f-d65f6d69bfe2"
      },
      "outputs": [
        {
          "output_type": "stream",
          "name": "stderr",
          "text": [
            "[Parallel(n_jobs=1)]: Done  13 out of  13 | elapsed:   16.7s finished\n",
            "\n",
            "[2025-05-24 16:54:47] Features: 12/8 -- score: 0.8478691095841286[Parallel(n_jobs=1)]: Done  12 out of  12 | elapsed:   13.8s finished\n",
            "\n",
            "[2025-05-24 16:55:01] Features: 11/8 -- score: 0.8478407488741244[Parallel(n_jobs=1)]: Done  11 out of  11 | elapsed:    5.5s finished\n",
            "\n",
            "[2025-05-24 16:55:06] Features: 10/8 -- score: 0.847797289371746[Parallel(n_jobs=1)]: Done  10 out of  10 | elapsed:    5.6s finished\n",
            "\n",
            "[2025-05-24 16:55:12] Features: 9/8 -- score: 0.8477052092831985[Parallel(n_jobs=1)]: Done   9 out of   9 | elapsed:    2.6s finished\n",
            "\n",
            "[2025-05-24 16:55:14] Features: 8/8 -- score: 0.8475987806046874"
          ]
        }
      ],
      "source": [
        "bakward_feature_selector = SequentialFeatureSelector(LinearRegression(n_jobs=1),\n",
        "                                                    k_features=8,\n",
        "                                                    forward=False,\n",
        "                                                    floating=False,\n",
        "                                                    verbose=2,\n",
        "                                                    scoring= \"r2\",\n",
        "                                                    cv= 5).fit(X,Y)"
      ]
    },
    {
      "cell_type": "code",
      "execution_count": 22,
      "metadata": {
        "id": "o63rLRoGSZrZ",
        "colab": {
          "base_uri": "https://localhost:8080/"
        },
        "outputId": "6439b6b7-dacd-4cd5-affd-43771de35194"
      },
      "outputs": [
        {
          "output_type": "execute_result",
          "data": {
            "text/plain": [
              "('GHI',\n",
              " 'temp',\n",
              " 'pressure',\n",
              " 'humidity',\n",
              " 'clouds_all',\n",
              " 'isSun',\n",
              " 'sunlightTime',\n",
              " 'dayLength')"
            ]
          },
          "metadata": {},
          "execution_count": 22
        }
      ],
      "source": [
        "columns=bakward_feature_selector.k_feature_names_\n",
        "columns\n"
      ]
    },
    {
      "cell_type": "code",
      "execution_count": 23,
      "metadata": {
        "id": "P4i3igSrSbyx",
        "colab": {
          "base_uri": "https://localhost:8080/"
        },
        "outputId": "ac3ee659-ed1c-4da4-fbc8-8a70aaa345bc"
      },
      "outputs": [
        {
          "output_type": "execute_result",
          "data": {
            "text/plain": [
              "np.float64(0.8475987806046874)"
            ]
          },
          "metadata": {},
          "execution_count": 23
        }
      ],
      "source": [
        "bakward_feature_selector.k_score_"
      ]
    },
    {
      "cell_type": "code",
      "execution_count": 24,
      "metadata": {
        "id": "qHKQ556qSeHg",
        "colab": {
          "base_uri": "https://localhost:8080/",
          "height": 237
        },
        "outputId": "0a006358-0bde-4ed3-f115-297bdec831f0"
      },
      "outputs": [
        {
          "output_type": "execute_result",
          "data": {
            "text/plain": [
              "                     GHI  temp  pressure  humidity  clouds_all  isSun  \\\n",
              "Time                                                                    \n",
              "2017-01-01 00:00:00  0.0   1.6      1021       100         100      0   \n",
              "2017-01-01 00:15:00  0.0   1.6      1021       100         100      0   \n",
              "2017-01-01 00:30:00  0.0   1.6      1021       100         100      0   \n",
              "2017-01-01 00:45:00  0.0   1.6      1021       100         100      0   \n",
              "2017-01-01 01:00:00  0.0   1.7      1020       100         100      0   \n",
              "\n",
              "                     sunlightTime  dayLength  \n",
              "Time                                          \n",
              "2017-01-01 00:00:00             0        450  \n",
              "2017-01-01 00:15:00             0        450  \n",
              "2017-01-01 00:30:00             0        450  \n",
              "2017-01-01 00:45:00             0        450  \n",
              "2017-01-01 01:00:00             0        450  "
            ],
            "text/html": [
              "\n",
              "  <div id=\"df-6d97f4bf-6cc6-444f-b9b3-0ef2b1507eca\" class=\"colab-df-container\">\n",
              "    <div>\n",
              "<style scoped>\n",
              "    .dataframe tbody tr th:only-of-type {\n",
              "        vertical-align: middle;\n",
              "    }\n",
              "\n",
              "    .dataframe tbody tr th {\n",
              "        vertical-align: top;\n",
              "    }\n",
              "\n",
              "    .dataframe thead th {\n",
              "        text-align: right;\n",
              "    }\n",
              "</style>\n",
              "<table border=\"1\" class=\"dataframe\">\n",
              "  <thead>\n",
              "    <tr style=\"text-align: right;\">\n",
              "      <th></th>\n",
              "      <th>GHI</th>\n",
              "      <th>temp</th>\n",
              "      <th>pressure</th>\n",
              "      <th>humidity</th>\n",
              "      <th>clouds_all</th>\n",
              "      <th>isSun</th>\n",
              "      <th>sunlightTime</th>\n",
              "      <th>dayLength</th>\n",
              "    </tr>\n",
              "    <tr>\n",
              "      <th>Time</th>\n",
              "      <th></th>\n",
              "      <th></th>\n",
              "      <th></th>\n",
              "      <th></th>\n",
              "      <th></th>\n",
              "      <th></th>\n",
              "      <th></th>\n",
              "      <th></th>\n",
              "    </tr>\n",
              "  </thead>\n",
              "  <tbody>\n",
              "    <tr>\n",
              "      <th>2017-01-01 00:00:00</th>\n",
              "      <td>0.0</td>\n",
              "      <td>1.6</td>\n",
              "      <td>1021</td>\n",
              "      <td>100</td>\n",
              "      <td>100</td>\n",
              "      <td>0</td>\n",
              "      <td>0</td>\n",
              "      <td>450</td>\n",
              "    </tr>\n",
              "    <tr>\n",
              "      <th>2017-01-01 00:15:00</th>\n",
              "      <td>0.0</td>\n",
              "      <td>1.6</td>\n",
              "      <td>1021</td>\n",
              "      <td>100</td>\n",
              "      <td>100</td>\n",
              "      <td>0</td>\n",
              "      <td>0</td>\n",
              "      <td>450</td>\n",
              "    </tr>\n",
              "    <tr>\n",
              "      <th>2017-01-01 00:30:00</th>\n",
              "      <td>0.0</td>\n",
              "      <td>1.6</td>\n",
              "      <td>1021</td>\n",
              "      <td>100</td>\n",
              "      <td>100</td>\n",
              "      <td>0</td>\n",
              "      <td>0</td>\n",
              "      <td>450</td>\n",
              "    </tr>\n",
              "    <tr>\n",
              "      <th>2017-01-01 00:45:00</th>\n",
              "      <td>0.0</td>\n",
              "      <td>1.6</td>\n",
              "      <td>1021</td>\n",
              "      <td>100</td>\n",
              "      <td>100</td>\n",
              "      <td>0</td>\n",
              "      <td>0</td>\n",
              "      <td>450</td>\n",
              "    </tr>\n",
              "    <tr>\n",
              "      <th>2017-01-01 01:00:00</th>\n",
              "      <td>0.0</td>\n",
              "      <td>1.7</td>\n",
              "      <td>1020</td>\n",
              "      <td>100</td>\n",
              "      <td>100</td>\n",
              "      <td>0</td>\n",
              "      <td>0</td>\n",
              "      <td>450</td>\n",
              "    </tr>\n",
              "  </tbody>\n",
              "</table>\n",
              "</div>\n",
              "    <div class=\"colab-df-buttons\">\n",
              "\n",
              "  <div class=\"colab-df-container\">\n",
              "    <button class=\"colab-df-convert\" onclick=\"convertToInteractive('df-6d97f4bf-6cc6-444f-b9b3-0ef2b1507eca')\"\n",
              "            title=\"Convert this dataframe to an interactive table.\"\n",
              "            style=\"display:none;\">\n",
              "\n",
              "  <svg xmlns=\"http://www.w3.org/2000/svg\" height=\"24px\" viewBox=\"0 -960 960 960\">\n",
              "    <path d=\"M120-120v-720h720v720H120Zm60-500h600v-160H180v160Zm220 220h160v-160H400v160Zm0 220h160v-160H400v160ZM180-400h160v-160H180v160Zm440 0h160v-160H620v160ZM180-180h160v-160H180v160Zm440 0h160v-160H620v160Z\"/>\n",
              "  </svg>\n",
              "    </button>\n",
              "\n",
              "  <style>\n",
              "    .colab-df-container {\n",
              "      display:flex;\n",
              "      gap: 12px;\n",
              "    }\n",
              "\n",
              "    .colab-df-convert {\n",
              "      background-color: #E8F0FE;\n",
              "      border: none;\n",
              "      border-radius: 50%;\n",
              "      cursor: pointer;\n",
              "      display: none;\n",
              "      fill: #1967D2;\n",
              "      height: 32px;\n",
              "      padding: 0 0 0 0;\n",
              "      width: 32px;\n",
              "    }\n",
              "\n",
              "    .colab-df-convert:hover {\n",
              "      background-color: #E2EBFA;\n",
              "      box-shadow: 0px 1px 2px rgba(60, 64, 67, 0.3), 0px 1px 3px 1px rgba(60, 64, 67, 0.15);\n",
              "      fill: #174EA6;\n",
              "    }\n",
              "\n",
              "    .colab-df-buttons div {\n",
              "      margin-bottom: 4px;\n",
              "    }\n",
              "\n",
              "    [theme=dark] .colab-df-convert {\n",
              "      background-color: #3B4455;\n",
              "      fill: #D2E3FC;\n",
              "    }\n",
              "\n",
              "    [theme=dark] .colab-df-convert:hover {\n",
              "      background-color: #434B5C;\n",
              "      box-shadow: 0px 1px 3px 1px rgba(0, 0, 0, 0.15);\n",
              "      filter: drop-shadow(0px 1px 2px rgba(0, 0, 0, 0.3));\n",
              "      fill: #FFFFFF;\n",
              "    }\n",
              "  </style>\n",
              "\n",
              "    <script>\n",
              "      const buttonEl =\n",
              "        document.querySelector('#df-6d97f4bf-6cc6-444f-b9b3-0ef2b1507eca button.colab-df-convert');\n",
              "      buttonEl.style.display =\n",
              "        google.colab.kernel.accessAllowed ? 'block' : 'none';\n",
              "\n",
              "      async function convertToInteractive(key) {\n",
              "        const element = document.querySelector('#df-6d97f4bf-6cc6-444f-b9b3-0ef2b1507eca');\n",
              "        const dataTable =\n",
              "          await google.colab.kernel.invokeFunction('convertToInteractive',\n",
              "                                                    [key], {});\n",
              "        if (!dataTable) return;\n",
              "\n",
              "        const docLinkHtml = 'Like what you see? Visit the ' +\n",
              "          '<a target=\"_blank\" href=https://colab.research.google.com/notebooks/data_table.ipynb>data table notebook</a>'\n",
              "          + ' to learn more about interactive tables.';\n",
              "        element.innerHTML = '';\n",
              "        dataTable['output_type'] = 'display_data';\n",
              "        await google.colab.output.renderOutput(dataTable, element);\n",
              "        const docLink = document.createElement('div');\n",
              "        docLink.innerHTML = docLinkHtml;\n",
              "        element.appendChild(docLink);\n",
              "      }\n",
              "    </script>\n",
              "  </div>\n",
              "\n",
              "\n",
              "    <div id=\"df-cb2bc78d-d795-436b-a048-8dc91b4db33d\">\n",
              "      <button class=\"colab-df-quickchart\" onclick=\"quickchart('df-cb2bc78d-d795-436b-a048-8dc91b4db33d')\"\n",
              "                title=\"Suggest charts\"\n",
              "                style=\"display:none;\">\n",
              "\n",
              "<svg xmlns=\"http://www.w3.org/2000/svg\" height=\"24px\"viewBox=\"0 0 24 24\"\n",
              "     width=\"24px\">\n",
              "    <g>\n",
              "        <path d=\"M19 3H5c-1.1 0-2 .9-2 2v14c0 1.1.9 2 2 2h14c1.1 0 2-.9 2-2V5c0-1.1-.9-2-2-2zM9 17H7v-7h2v7zm4 0h-2V7h2v10zm4 0h-2v-4h2v4z\"/>\n",
              "    </g>\n",
              "</svg>\n",
              "      </button>\n",
              "\n",
              "<style>\n",
              "  .colab-df-quickchart {\n",
              "      --bg-color: #E8F0FE;\n",
              "      --fill-color: #1967D2;\n",
              "      --hover-bg-color: #E2EBFA;\n",
              "      --hover-fill-color: #174EA6;\n",
              "      --disabled-fill-color: #AAA;\n",
              "      --disabled-bg-color: #DDD;\n",
              "  }\n",
              "\n",
              "  [theme=dark] .colab-df-quickchart {\n",
              "      --bg-color: #3B4455;\n",
              "      --fill-color: #D2E3FC;\n",
              "      --hover-bg-color: #434B5C;\n",
              "      --hover-fill-color: #FFFFFF;\n",
              "      --disabled-bg-color: #3B4455;\n",
              "      --disabled-fill-color: #666;\n",
              "  }\n",
              "\n",
              "  .colab-df-quickchart {\n",
              "    background-color: var(--bg-color);\n",
              "    border: none;\n",
              "    border-radius: 50%;\n",
              "    cursor: pointer;\n",
              "    display: none;\n",
              "    fill: var(--fill-color);\n",
              "    height: 32px;\n",
              "    padding: 0;\n",
              "    width: 32px;\n",
              "  }\n",
              "\n",
              "  .colab-df-quickchart:hover {\n",
              "    background-color: var(--hover-bg-color);\n",
              "    box-shadow: 0 1px 2px rgba(60, 64, 67, 0.3), 0 1px 3px 1px rgba(60, 64, 67, 0.15);\n",
              "    fill: var(--button-hover-fill-color);\n",
              "  }\n",
              "\n",
              "  .colab-df-quickchart-complete:disabled,\n",
              "  .colab-df-quickchart-complete:disabled:hover {\n",
              "    background-color: var(--disabled-bg-color);\n",
              "    fill: var(--disabled-fill-color);\n",
              "    box-shadow: none;\n",
              "  }\n",
              "\n",
              "  .colab-df-spinner {\n",
              "    border: 2px solid var(--fill-color);\n",
              "    border-color: transparent;\n",
              "    border-bottom-color: var(--fill-color);\n",
              "    animation:\n",
              "      spin 1s steps(1) infinite;\n",
              "  }\n",
              "\n",
              "  @keyframes spin {\n",
              "    0% {\n",
              "      border-color: transparent;\n",
              "      border-bottom-color: var(--fill-color);\n",
              "      border-left-color: var(--fill-color);\n",
              "    }\n",
              "    20% {\n",
              "      border-color: transparent;\n",
              "      border-left-color: var(--fill-color);\n",
              "      border-top-color: var(--fill-color);\n",
              "    }\n",
              "    30% {\n",
              "      border-color: transparent;\n",
              "      border-left-color: var(--fill-color);\n",
              "      border-top-color: var(--fill-color);\n",
              "      border-right-color: var(--fill-color);\n",
              "    }\n",
              "    40% {\n",
              "      border-color: transparent;\n",
              "      border-right-color: var(--fill-color);\n",
              "      border-top-color: var(--fill-color);\n",
              "    }\n",
              "    60% {\n",
              "      border-color: transparent;\n",
              "      border-right-color: var(--fill-color);\n",
              "    }\n",
              "    80% {\n",
              "      border-color: transparent;\n",
              "      border-right-color: var(--fill-color);\n",
              "      border-bottom-color: var(--fill-color);\n",
              "    }\n",
              "    90% {\n",
              "      border-color: transparent;\n",
              "      border-bottom-color: var(--fill-color);\n",
              "    }\n",
              "  }\n",
              "</style>\n",
              "\n",
              "      <script>\n",
              "        async function quickchart(key) {\n",
              "          const quickchartButtonEl =\n",
              "            document.querySelector('#' + key + ' button');\n",
              "          quickchartButtonEl.disabled = true;  // To prevent multiple clicks.\n",
              "          quickchartButtonEl.classList.add('colab-df-spinner');\n",
              "          try {\n",
              "            const charts = await google.colab.kernel.invokeFunction(\n",
              "                'suggestCharts', [key], {});\n",
              "          } catch (error) {\n",
              "            console.error('Error during call to suggestCharts:', error);\n",
              "          }\n",
              "          quickchartButtonEl.classList.remove('colab-df-spinner');\n",
              "          quickchartButtonEl.classList.add('colab-df-quickchart-complete');\n",
              "        }\n",
              "        (() => {\n",
              "          let quickchartButtonEl =\n",
              "            document.querySelector('#df-cb2bc78d-d795-436b-a048-8dc91b4db33d button');\n",
              "          quickchartButtonEl.style.display =\n",
              "            google.colab.kernel.accessAllowed ? 'block' : 'none';\n",
              "        })();\n",
              "      </script>\n",
              "    </div>\n",
              "\n",
              "    </div>\n",
              "  </div>\n"
            ],
            "application/vnd.google.colaboratory.intrinsic+json": {
              "type": "dataframe",
              "variable_name": "X"
            }
          },
          "metadata": {},
          "execution_count": 24
        }
      ],
      "source": [
        "X = X[[col for col in X.columns if col in columns]]\n",
        "X.head()"
      ]
    },
    {
      "cell_type": "code",
      "execution_count": 25,
      "metadata": {
        "id": "a-7W-_8TSlOx",
        "colab": {
          "base_uri": "https://localhost:8080/"
        },
        "outputId": "bc0f5a6e-3fa6-4a5f-e12e-59445cd29dc9"
      },
      "outputs": [
        {
          "output_type": "stream",
          "name": "stdout",
          "text": [
            "                     Energy delta[Wh]  GHI  temp  pressure  humidity  \\\n",
            "Time                                                                   \n",
            "2017-01-01 00:00:00                 0  0.0   1.6      1021       100   \n",
            "2017-01-01 00:15:00                 0  0.0   1.6      1021       100   \n",
            "2017-01-01 00:30:00                 0  0.0   1.6      1021       100   \n",
            "2017-01-01 00:45:00                 0  0.0   1.6      1021       100   \n",
            "2017-01-01 01:00:00                 0  0.0   1.7      1020       100   \n",
            "\n",
            "                     wind_speed  rain_1h  snow_1h  clouds_all  isSun  \\\n",
            "Time                                                                   \n",
            "2017-01-01 00:00:00         4.9      0.0      0.0         100      0   \n",
            "2017-01-01 00:15:00         4.9      0.0      0.0         100      0   \n",
            "2017-01-01 00:30:00         4.9      0.0      0.0         100      0   \n",
            "2017-01-01 00:45:00         4.9      0.0      0.0         100      0   \n",
            "2017-01-01 01:00:00         5.2      0.0      0.0         100      0   \n",
            "\n",
            "                     sunlightTime  dayLength  SunlightTime/daylength  \\\n",
            "Time                                                                   \n",
            "2017-01-01 00:00:00             0        450                     0.0   \n",
            "2017-01-01 00:15:00             0        450                     0.0   \n",
            "2017-01-01 00:30:00             0        450                     0.0   \n",
            "2017-01-01 00:45:00             0        450                     0.0   \n",
            "2017-01-01 01:00:00             0        450                     0.0   \n",
            "\n",
            "                     weather_type  hour  month  \n",
            "Time                                            \n",
            "2017-01-01 00:00:00             4     0      1  \n",
            "2017-01-01 00:15:00             4     0      1  \n",
            "2017-01-01 00:30:00             4     0      1  \n",
            "2017-01-01 00:45:00             4     0      1  \n",
            "2017-01-01 01:00:00             4     1      1  \n"
          ]
        }
      ],
      "source": [
        "print(dataset.head())"
      ]
    },
    {
      "cell_type": "code",
      "execution_count": 26,
      "metadata": {
        "id": "y5Lik7OASnX8",
        "colab": {
          "base_uri": "https://localhost:8080/"
        },
        "outputId": "b5d02265-698a-4581-efad-8a965f03b587"
      },
      "outputs": [
        {
          "output_type": "stream",
          "name": "stdout",
          "text": [
            "Requirement already satisfied: statsmodels in /usr/local/lib/python3.11/dist-packages (0.14.4)\n",
            "Requirement already satisfied: numpy<3,>=1.22.3 in /usr/local/lib/python3.11/dist-packages (from statsmodels) (2.0.2)\n",
            "Requirement already satisfied: scipy!=1.9.2,>=1.8 in /usr/local/lib/python3.11/dist-packages (from statsmodels) (1.15.3)\n",
            "Requirement already satisfied: pandas!=2.1.0,>=1.4 in /usr/local/lib/python3.11/dist-packages (from statsmodels) (2.2.2)\n",
            "Requirement already satisfied: patsy>=0.5.6 in /usr/local/lib/python3.11/dist-packages (from statsmodels) (1.0.1)\n",
            "Requirement already satisfied: packaging>=21.3 in /usr/local/lib/python3.11/dist-packages (from statsmodels) (24.2)\n",
            "Requirement already satisfied: python-dateutil>=2.8.2 in /usr/local/lib/python3.11/dist-packages (from pandas!=2.1.0,>=1.4->statsmodels) (2.9.0.post0)\n",
            "Requirement already satisfied: pytz>=2020.1 in /usr/local/lib/python3.11/dist-packages (from pandas!=2.1.0,>=1.4->statsmodels) (2025.2)\n",
            "Requirement already satisfied: tzdata>=2022.7 in /usr/local/lib/python3.11/dist-packages (from pandas!=2.1.0,>=1.4->statsmodels) (2025.2)\n",
            "Requirement already satisfied: six>=1.5 in /usr/local/lib/python3.11/dist-packages (from python-dateutil>=2.8.2->pandas!=2.1.0,>=1.4->statsmodels) (1.17.0)\n"
          ]
        }
      ],
      "source": [
        "!pip install statsmodels"
      ]
    },
    {
      "cell_type": "markdown",
      "source": [
        "# ***Temporal Fusion Transformer***"
      ],
      "metadata": {
        "id": "0Pj1cSYNKNnA"
      }
    },
    {
      "cell_type": "code",
      "source": [
        "X_ft=dataset\n",
        "X_ft['Energy delta[MWh]']=X_ft['Energy delta[Wh]']*1e-6\n",
        "X_ft=X_ft.drop('Energy delta[Wh]',axis=1)\n",
        "X_ft.head()"
      ],
      "metadata": {
        "colab": {
          "base_uri": "https://localhost:8080/",
          "height": 448
        },
        "id": "LNWwb7eUMwcD",
        "outputId": "ad661eac-a5d0-42f0-b790-2a7a10251792"
      },
      "execution_count": 34,
      "outputs": [
        {
          "output_type": "execute_result",
          "data": {
            "text/plain": [
              "                     GHI  temp  pressure  humidity  wind_speed  rain_1h  \\\n",
              "Time                                                                      \n",
              "2017-01-01 00:00:00  0.0   1.6      1021       100         4.9      0.0   \n",
              "2017-01-01 00:15:00  0.0   1.6      1021       100         4.9      0.0   \n",
              "2017-01-01 00:30:00  0.0   1.6      1021       100         4.9      0.0   \n",
              "2017-01-01 00:45:00  0.0   1.6      1021       100         4.9      0.0   \n",
              "2017-01-01 01:00:00  0.0   1.7      1020       100         5.2      0.0   \n",
              "\n",
              "                     snow_1h  clouds_all  isSun  sunlightTime  dayLength  \\\n",
              "Time                                                                       \n",
              "2017-01-01 00:00:00      0.0         100      0             0        450   \n",
              "2017-01-01 00:15:00      0.0         100      0             0        450   \n",
              "2017-01-01 00:30:00      0.0         100      0             0        450   \n",
              "2017-01-01 00:45:00      0.0         100      0             0        450   \n",
              "2017-01-01 01:00:00      0.0         100      0             0        450   \n",
              "\n",
              "                     SunlightTime/daylength  weather_type  hour  month  \\\n",
              "Time                                                                     \n",
              "2017-01-01 00:00:00                     0.0             4     0      1   \n",
              "2017-01-01 00:15:00                     0.0             4     0      1   \n",
              "2017-01-01 00:30:00                     0.0             4     0      1   \n",
              "2017-01-01 00:45:00                     0.0             4     0      1   \n",
              "2017-01-01 01:00:00                     0.0             4     1      1   \n",
              "\n",
              "                     Energy delta[MWh]  \n",
              "Time                                    \n",
              "2017-01-01 00:00:00                0.0  \n",
              "2017-01-01 00:15:00                0.0  \n",
              "2017-01-01 00:30:00                0.0  \n",
              "2017-01-01 00:45:00                0.0  \n",
              "2017-01-01 01:00:00                0.0  "
            ],
            "text/html": [
              "\n",
              "  <div id=\"df-dfd330e2-c581-4d4e-9ff2-751a42bc4c0c\" class=\"colab-df-container\">\n",
              "    <div>\n",
              "<style scoped>\n",
              "    .dataframe tbody tr th:only-of-type {\n",
              "        vertical-align: middle;\n",
              "    }\n",
              "\n",
              "    .dataframe tbody tr th {\n",
              "        vertical-align: top;\n",
              "    }\n",
              "\n",
              "    .dataframe thead th {\n",
              "        text-align: right;\n",
              "    }\n",
              "</style>\n",
              "<table border=\"1\" class=\"dataframe\">\n",
              "  <thead>\n",
              "    <tr style=\"text-align: right;\">\n",
              "      <th></th>\n",
              "      <th>GHI</th>\n",
              "      <th>temp</th>\n",
              "      <th>pressure</th>\n",
              "      <th>humidity</th>\n",
              "      <th>wind_speed</th>\n",
              "      <th>rain_1h</th>\n",
              "      <th>snow_1h</th>\n",
              "      <th>clouds_all</th>\n",
              "      <th>isSun</th>\n",
              "      <th>sunlightTime</th>\n",
              "      <th>dayLength</th>\n",
              "      <th>SunlightTime/daylength</th>\n",
              "      <th>weather_type</th>\n",
              "      <th>hour</th>\n",
              "      <th>month</th>\n",
              "      <th>Energy delta[MWh]</th>\n",
              "    </tr>\n",
              "    <tr>\n",
              "      <th>Time</th>\n",
              "      <th></th>\n",
              "      <th></th>\n",
              "      <th></th>\n",
              "      <th></th>\n",
              "      <th></th>\n",
              "      <th></th>\n",
              "      <th></th>\n",
              "      <th></th>\n",
              "      <th></th>\n",
              "      <th></th>\n",
              "      <th></th>\n",
              "      <th></th>\n",
              "      <th></th>\n",
              "      <th></th>\n",
              "      <th></th>\n",
              "      <th></th>\n",
              "    </tr>\n",
              "  </thead>\n",
              "  <tbody>\n",
              "    <tr>\n",
              "      <th>2017-01-01 00:00:00</th>\n",
              "      <td>0.0</td>\n",
              "      <td>1.6</td>\n",
              "      <td>1021</td>\n",
              "      <td>100</td>\n",
              "      <td>4.9</td>\n",
              "      <td>0.0</td>\n",
              "      <td>0.0</td>\n",
              "      <td>100</td>\n",
              "      <td>0</td>\n",
              "      <td>0</td>\n",
              "      <td>450</td>\n",
              "      <td>0.0</td>\n",
              "      <td>4</td>\n",
              "      <td>0</td>\n",
              "      <td>1</td>\n",
              "      <td>0.0</td>\n",
              "    </tr>\n",
              "    <tr>\n",
              "      <th>2017-01-01 00:15:00</th>\n",
              "      <td>0.0</td>\n",
              "      <td>1.6</td>\n",
              "      <td>1021</td>\n",
              "      <td>100</td>\n",
              "      <td>4.9</td>\n",
              "      <td>0.0</td>\n",
              "      <td>0.0</td>\n",
              "      <td>100</td>\n",
              "      <td>0</td>\n",
              "      <td>0</td>\n",
              "      <td>450</td>\n",
              "      <td>0.0</td>\n",
              "      <td>4</td>\n",
              "      <td>0</td>\n",
              "      <td>1</td>\n",
              "      <td>0.0</td>\n",
              "    </tr>\n",
              "    <tr>\n",
              "      <th>2017-01-01 00:30:00</th>\n",
              "      <td>0.0</td>\n",
              "      <td>1.6</td>\n",
              "      <td>1021</td>\n",
              "      <td>100</td>\n",
              "      <td>4.9</td>\n",
              "      <td>0.0</td>\n",
              "      <td>0.0</td>\n",
              "      <td>100</td>\n",
              "      <td>0</td>\n",
              "      <td>0</td>\n",
              "      <td>450</td>\n",
              "      <td>0.0</td>\n",
              "      <td>4</td>\n",
              "      <td>0</td>\n",
              "      <td>1</td>\n",
              "      <td>0.0</td>\n",
              "    </tr>\n",
              "    <tr>\n",
              "      <th>2017-01-01 00:45:00</th>\n",
              "      <td>0.0</td>\n",
              "      <td>1.6</td>\n",
              "      <td>1021</td>\n",
              "      <td>100</td>\n",
              "      <td>4.9</td>\n",
              "      <td>0.0</td>\n",
              "      <td>0.0</td>\n",
              "      <td>100</td>\n",
              "      <td>0</td>\n",
              "      <td>0</td>\n",
              "      <td>450</td>\n",
              "      <td>0.0</td>\n",
              "      <td>4</td>\n",
              "      <td>0</td>\n",
              "      <td>1</td>\n",
              "      <td>0.0</td>\n",
              "    </tr>\n",
              "    <tr>\n",
              "      <th>2017-01-01 01:00:00</th>\n",
              "      <td>0.0</td>\n",
              "      <td>1.7</td>\n",
              "      <td>1020</td>\n",
              "      <td>100</td>\n",
              "      <td>5.2</td>\n",
              "      <td>0.0</td>\n",
              "      <td>0.0</td>\n",
              "      <td>100</td>\n",
              "      <td>0</td>\n",
              "      <td>0</td>\n",
              "      <td>450</td>\n",
              "      <td>0.0</td>\n",
              "      <td>4</td>\n",
              "      <td>1</td>\n",
              "      <td>1</td>\n",
              "      <td>0.0</td>\n",
              "    </tr>\n",
              "  </tbody>\n",
              "</table>\n",
              "</div>\n",
              "    <div class=\"colab-df-buttons\">\n",
              "\n",
              "  <div class=\"colab-df-container\">\n",
              "    <button class=\"colab-df-convert\" onclick=\"convertToInteractive('df-dfd330e2-c581-4d4e-9ff2-751a42bc4c0c')\"\n",
              "            title=\"Convert this dataframe to an interactive table.\"\n",
              "            style=\"display:none;\">\n",
              "\n",
              "  <svg xmlns=\"http://www.w3.org/2000/svg\" height=\"24px\" viewBox=\"0 -960 960 960\">\n",
              "    <path d=\"M120-120v-720h720v720H120Zm60-500h600v-160H180v160Zm220 220h160v-160H400v160Zm0 220h160v-160H400v160ZM180-400h160v-160H180v160Zm440 0h160v-160H620v160ZM180-180h160v-160H180v160Zm440 0h160v-160H620v160Z\"/>\n",
              "  </svg>\n",
              "    </button>\n",
              "\n",
              "  <style>\n",
              "    .colab-df-container {\n",
              "      display:flex;\n",
              "      gap: 12px;\n",
              "    }\n",
              "\n",
              "    .colab-df-convert {\n",
              "      background-color: #E8F0FE;\n",
              "      border: none;\n",
              "      border-radius: 50%;\n",
              "      cursor: pointer;\n",
              "      display: none;\n",
              "      fill: #1967D2;\n",
              "      height: 32px;\n",
              "      padding: 0 0 0 0;\n",
              "      width: 32px;\n",
              "    }\n",
              "\n",
              "    .colab-df-convert:hover {\n",
              "      background-color: #E2EBFA;\n",
              "      box-shadow: 0px 1px 2px rgba(60, 64, 67, 0.3), 0px 1px 3px 1px rgba(60, 64, 67, 0.15);\n",
              "      fill: #174EA6;\n",
              "    }\n",
              "\n",
              "    .colab-df-buttons div {\n",
              "      margin-bottom: 4px;\n",
              "    }\n",
              "\n",
              "    [theme=dark] .colab-df-convert {\n",
              "      background-color: #3B4455;\n",
              "      fill: #D2E3FC;\n",
              "    }\n",
              "\n",
              "    [theme=dark] .colab-df-convert:hover {\n",
              "      background-color: #434B5C;\n",
              "      box-shadow: 0px 1px 3px 1px rgba(0, 0, 0, 0.15);\n",
              "      filter: drop-shadow(0px 1px 2px rgba(0, 0, 0, 0.3));\n",
              "      fill: #FFFFFF;\n",
              "    }\n",
              "  </style>\n",
              "\n",
              "    <script>\n",
              "      const buttonEl =\n",
              "        document.querySelector('#df-dfd330e2-c581-4d4e-9ff2-751a42bc4c0c button.colab-df-convert');\n",
              "      buttonEl.style.display =\n",
              "        google.colab.kernel.accessAllowed ? 'block' : 'none';\n",
              "\n",
              "      async function convertToInteractive(key) {\n",
              "        const element = document.querySelector('#df-dfd330e2-c581-4d4e-9ff2-751a42bc4c0c');\n",
              "        const dataTable =\n",
              "          await google.colab.kernel.invokeFunction('convertToInteractive',\n",
              "                                                    [key], {});\n",
              "        if (!dataTable) return;\n",
              "\n",
              "        const docLinkHtml = 'Like what you see? Visit the ' +\n",
              "          '<a target=\"_blank\" href=https://colab.research.google.com/notebooks/data_table.ipynb>data table notebook</a>'\n",
              "          + ' to learn more about interactive tables.';\n",
              "        element.innerHTML = '';\n",
              "        dataTable['output_type'] = 'display_data';\n",
              "        await google.colab.output.renderOutput(dataTable, element);\n",
              "        const docLink = document.createElement('div');\n",
              "        docLink.innerHTML = docLinkHtml;\n",
              "        element.appendChild(docLink);\n",
              "      }\n",
              "    </script>\n",
              "  </div>\n",
              "\n",
              "\n",
              "    <div id=\"df-91c84815-9abc-4f03-a6c0-d842a564379e\">\n",
              "      <button class=\"colab-df-quickchart\" onclick=\"quickchart('df-91c84815-9abc-4f03-a6c0-d842a564379e')\"\n",
              "                title=\"Suggest charts\"\n",
              "                style=\"display:none;\">\n",
              "\n",
              "<svg xmlns=\"http://www.w3.org/2000/svg\" height=\"24px\"viewBox=\"0 0 24 24\"\n",
              "     width=\"24px\">\n",
              "    <g>\n",
              "        <path d=\"M19 3H5c-1.1 0-2 .9-2 2v14c0 1.1.9 2 2 2h14c1.1 0 2-.9 2-2V5c0-1.1-.9-2-2-2zM9 17H7v-7h2v7zm4 0h-2V7h2v10zm4 0h-2v-4h2v4z\"/>\n",
              "    </g>\n",
              "</svg>\n",
              "      </button>\n",
              "\n",
              "<style>\n",
              "  .colab-df-quickchart {\n",
              "      --bg-color: #E8F0FE;\n",
              "      --fill-color: #1967D2;\n",
              "      --hover-bg-color: #E2EBFA;\n",
              "      --hover-fill-color: #174EA6;\n",
              "      --disabled-fill-color: #AAA;\n",
              "      --disabled-bg-color: #DDD;\n",
              "  }\n",
              "\n",
              "  [theme=dark] .colab-df-quickchart {\n",
              "      --bg-color: #3B4455;\n",
              "      --fill-color: #D2E3FC;\n",
              "      --hover-bg-color: #434B5C;\n",
              "      --hover-fill-color: #FFFFFF;\n",
              "      --disabled-bg-color: #3B4455;\n",
              "      --disabled-fill-color: #666;\n",
              "  }\n",
              "\n",
              "  .colab-df-quickchart {\n",
              "    background-color: var(--bg-color);\n",
              "    border: none;\n",
              "    border-radius: 50%;\n",
              "    cursor: pointer;\n",
              "    display: none;\n",
              "    fill: var(--fill-color);\n",
              "    height: 32px;\n",
              "    padding: 0;\n",
              "    width: 32px;\n",
              "  }\n",
              "\n",
              "  .colab-df-quickchart:hover {\n",
              "    background-color: var(--hover-bg-color);\n",
              "    box-shadow: 0 1px 2px rgba(60, 64, 67, 0.3), 0 1px 3px 1px rgba(60, 64, 67, 0.15);\n",
              "    fill: var(--button-hover-fill-color);\n",
              "  }\n",
              "\n",
              "  .colab-df-quickchart-complete:disabled,\n",
              "  .colab-df-quickchart-complete:disabled:hover {\n",
              "    background-color: var(--disabled-bg-color);\n",
              "    fill: var(--disabled-fill-color);\n",
              "    box-shadow: none;\n",
              "  }\n",
              "\n",
              "  .colab-df-spinner {\n",
              "    border: 2px solid var(--fill-color);\n",
              "    border-color: transparent;\n",
              "    border-bottom-color: var(--fill-color);\n",
              "    animation:\n",
              "      spin 1s steps(1) infinite;\n",
              "  }\n",
              "\n",
              "  @keyframes spin {\n",
              "    0% {\n",
              "      border-color: transparent;\n",
              "      border-bottom-color: var(--fill-color);\n",
              "      border-left-color: var(--fill-color);\n",
              "    }\n",
              "    20% {\n",
              "      border-color: transparent;\n",
              "      border-left-color: var(--fill-color);\n",
              "      border-top-color: var(--fill-color);\n",
              "    }\n",
              "    30% {\n",
              "      border-color: transparent;\n",
              "      border-left-color: var(--fill-color);\n",
              "      border-top-color: var(--fill-color);\n",
              "      border-right-color: var(--fill-color);\n",
              "    }\n",
              "    40% {\n",
              "      border-color: transparent;\n",
              "      border-right-color: var(--fill-color);\n",
              "      border-top-color: var(--fill-color);\n",
              "    }\n",
              "    60% {\n",
              "      border-color: transparent;\n",
              "      border-right-color: var(--fill-color);\n",
              "    }\n",
              "    80% {\n",
              "      border-color: transparent;\n",
              "      border-right-color: var(--fill-color);\n",
              "      border-bottom-color: var(--fill-color);\n",
              "    }\n",
              "    90% {\n",
              "      border-color: transparent;\n",
              "      border-bottom-color: var(--fill-color);\n",
              "    }\n",
              "  }\n",
              "</style>\n",
              "\n",
              "      <script>\n",
              "        async function quickchart(key) {\n",
              "          const quickchartButtonEl =\n",
              "            document.querySelector('#' + key + ' button');\n",
              "          quickchartButtonEl.disabled = true;  // To prevent multiple clicks.\n",
              "          quickchartButtonEl.classList.add('colab-df-spinner');\n",
              "          try {\n",
              "            const charts = await google.colab.kernel.invokeFunction(\n",
              "                'suggestCharts', [key], {});\n",
              "          } catch (error) {\n",
              "            console.error('Error during call to suggestCharts:', error);\n",
              "          }\n",
              "          quickchartButtonEl.classList.remove('colab-df-spinner');\n",
              "          quickchartButtonEl.classList.add('colab-df-quickchart-complete');\n",
              "        }\n",
              "        (() => {\n",
              "          let quickchartButtonEl =\n",
              "            document.querySelector('#df-91c84815-9abc-4f03-a6c0-d842a564379e button');\n",
              "          quickchartButtonEl.style.display =\n",
              "            google.colab.kernel.accessAllowed ? 'block' : 'none';\n",
              "        })();\n",
              "      </script>\n",
              "    </div>\n",
              "\n",
              "    </div>\n",
              "  </div>\n"
            ],
            "application/vnd.google.colaboratory.intrinsic+json": {
              "type": "dataframe",
              "variable_name": "X_ft"
            }
          },
          "metadata": {},
          "execution_count": 34
        }
      ]
    },
    {
      "cell_type": "markdown",
      "source": [],
      "metadata": {
        "id": "rw9Gx_m5P2jb"
      }
    },
    {
      "cell_type": "code",
      "source": [
        "X_ft['time_interval'] = ((X_ft.index - X_ft.index.min()).total_seconds() / 60).astype(int)\n",
        "X_ft['group_id']='group'\n",
        "X_ft"
      ],
      "metadata": {
        "colab": {
          "base_uri": "https://localhost:8080/",
          "height": 839
        },
        "id": "4B7MJal_POPm",
        "outputId": "459af1f0-8c80-4777-f78d-011c85c8afe3"
      },
      "execution_count": 35,
      "outputs": [
        {
          "output_type": "execute_result",
          "data": {
            "text/plain": [
              "                      GHI  temp  pressure  humidity  wind_speed  rain_1h  \\\n",
              "Time                                                                       \n",
              "2017-01-01 00:00:00   0.0   1.6      1021       100         4.9      0.0   \n",
              "2017-01-01 00:15:00   0.0   1.6      1021       100         4.9      0.0   \n",
              "2017-01-01 00:30:00   0.0   1.6      1021       100         4.9      0.0   \n",
              "2017-01-01 00:45:00   0.0   1.6      1021       100         4.9      0.0   \n",
              "2017-01-01 01:00:00   0.0   1.7      1020       100         5.2      0.0   \n",
              "...                   ...   ...       ...       ...         ...      ...   \n",
              "2022-08-31 16:45:00  23.7  18.6      1023        57         3.8      0.0   \n",
              "2022-08-31 17:00:00  15.6  18.5      1023        61         4.2      0.0   \n",
              "2022-08-31 17:15:00   8.0  18.5      1023        61         4.2      0.0   \n",
              "2022-08-31 17:30:00   2.1  18.5      1023        61         4.2      0.0   \n",
              "2022-08-31 17:45:00   0.0  18.5      1023        61         4.2      0.0   \n",
              "\n",
              "                     snow_1h  clouds_all  isSun  sunlightTime  dayLength  \\\n",
              "Time                                                                       \n",
              "2017-01-01 00:00:00      0.0         100      0             0        450   \n",
              "2017-01-01 00:15:00      0.0         100      0             0        450   \n",
              "2017-01-01 00:30:00      0.0         100      0             0        450   \n",
              "2017-01-01 00:45:00      0.0         100      0             0        450   \n",
              "2017-01-01 01:00:00      0.0         100      0             0        450   \n",
              "...                      ...         ...    ...           ...        ...   \n",
              "2022-08-31 16:45:00      0.0          52      1           780        825   \n",
              "2022-08-31 17:00:00      0.0          60      1           795        825   \n",
              "2022-08-31 17:15:00      0.0          60      1           810        825   \n",
              "2022-08-31 17:30:00      0.0          60      1           825        825   \n",
              "2022-08-31 17:45:00      0.0          60      0             0        825   \n",
              "\n",
              "                     SunlightTime/daylength  weather_type  hour  month  \\\n",
              "Time                                                                     \n",
              "2017-01-01 00:00:00                    0.00             4     0      1   \n",
              "2017-01-01 00:15:00                    0.00             4     0      1   \n",
              "2017-01-01 00:30:00                    0.00             4     0      1   \n",
              "2017-01-01 00:45:00                    0.00             4     0      1   \n",
              "2017-01-01 01:00:00                    0.00             4     1      1   \n",
              "...                                     ...           ...   ...    ...   \n",
              "2022-08-31 16:45:00                    0.95             3    16      8   \n",
              "2022-08-31 17:00:00                    0.96             3    17      8   \n",
              "2022-08-31 17:15:00                    0.98             3    17      8   \n",
              "2022-08-31 17:30:00                    1.00             3    17      8   \n",
              "2022-08-31 17:45:00                    0.00             3    17      8   \n",
              "\n",
              "                     Energy delta[MWh]  time_interval group_id  \n",
              "Time                                                            \n",
              "2017-01-01 00:00:00           0.000000              0    group  \n",
              "2017-01-01 00:15:00           0.000000             15    group  \n",
              "2017-01-01 00:30:00           0.000000             30    group  \n",
              "2017-01-01 00:45:00           0.000000             45    group  \n",
              "2017-01-01 01:00:00           0.000000             60    group  \n",
              "...                                ...            ...      ...  \n",
              "2022-08-31 16:45:00           0.000118        2978925    group  \n",
              "2022-08-31 17:00:00           0.000082        2978940    group  \n",
              "2022-08-31 17:15:00           0.000051        2978955    group  \n",
              "2022-08-31 17:30:00           0.000024        2978970    group  \n",
              "2022-08-31 17:45:00           0.000000        2978985    group  \n",
              "\n",
              "[196776 rows x 18 columns]"
            ],
            "text/html": [
              "\n",
              "  <div id=\"df-70af2bad-3c7c-4faa-abba-451163d1e6a7\" class=\"colab-df-container\">\n",
              "    <div>\n",
              "<style scoped>\n",
              "    .dataframe tbody tr th:only-of-type {\n",
              "        vertical-align: middle;\n",
              "    }\n",
              "\n",
              "    .dataframe tbody tr th {\n",
              "        vertical-align: top;\n",
              "    }\n",
              "\n",
              "    .dataframe thead th {\n",
              "        text-align: right;\n",
              "    }\n",
              "</style>\n",
              "<table border=\"1\" class=\"dataframe\">\n",
              "  <thead>\n",
              "    <tr style=\"text-align: right;\">\n",
              "      <th></th>\n",
              "      <th>GHI</th>\n",
              "      <th>temp</th>\n",
              "      <th>pressure</th>\n",
              "      <th>humidity</th>\n",
              "      <th>wind_speed</th>\n",
              "      <th>rain_1h</th>\n",
              "      <th>snow_1h</th>\n",
              "      <th>clouds_all</th>\n",
              "      <th>isSun</th>\n",
              "      <th>sunlightTime</th>\n",
              "      <th>dayLength</th>\n",
              "      <th>SunlightTime/daylength</th>\n",
              "      <th>weather_type</th>\n",
              "      <th>hour</th>\n",
              "      <th>month</th>\n",
              "      <th>Energy delta[MWh]</th>\n",
              "      <th>time_interval</th>\n",
              "      <th>group_id</th>\n",
              "    </tr>\n",
              "    <tr>\n",
              "      <th>Time</th>\n",
              "      <th></th>\n",
              "      <th></th>\n",
              "      <th></th>\n",
              "      <th></th>\n",
              "      <th></th>\n",
              "      <th></th>\n",
              "      <th></th>\n",
              "      <th></th>\n",
              "      <th></th>\n",
              "      <th></th>\n",
              "      <th></th>\n",
              "      <th></th>\n",
              "      <th></th>\n",
              "      <th></th>\n",
              "      <th></th>\n",
              "      <th></th>\n",
              "      <th></th>\n",
              "      <th></th>\n",
              "    </tr>\n",
              "  </thead>\n",
              "  <tbody>\n",
              "    <tr>\n",
              "      <th>2017-01-01 00:00:00</th>\n",
              "      <td>0.0</td>\n",
              "      <td>1.6</td>\n",
              "      <td>1021</td>\n",
              "      <td>100</td>\n",
              "      <td>4.9</td>\n",
              "      <td>0.0</td>\n",
              "      <td>0.0</td>\n",
              "      <td>100</td>\n",
              "      <td>0</td>\n",
              "      <td>0</td>\n",
              "      <td>450</td>\n",
              "      <td>0.00</td>\n",
              "      <td>4</td>\n",
              "      <td>0</td>\n",
              "      <td>1</td>\n",
              "      <td>0.000000</td>\n",
              "      <td>0</td>\n",
              "      <td>group</td>\n",
              "    </tr>\n",
              "    <tr>\n",
              "      <th>2017-01-01 00:15:00</th>\n",
              "      <td>0.0</td>\n",
              "      <td>1.6</td>\n",
              "      <td>1021</td>\n",
              "      <td>100</td>\n",
              "      <td>4.9</td>\n",
              "      <td>0.0</td>\n",
              "      <td>0.0</td>\n",
              "      <td>100</td>\n",
              "      <td>0</td>\n",
              "      <td>0</td>\n",
              "      <td>450</td>\n",
              "      <td>0.00</td>\n",
              "      <td>4</td>\n",
              "      <td>0</td>\n",
              "      <td>1</td>\n",
              "      <td>0.000000</td>\n",
              "      <td>15</td>\n",
              "      <td>group</td>\n",
              "    </tr>\n",
              "    <tr>\n",
              "      <th>2017-01-01 00:30:00</th>\n",
              "      <td>0.0</td>\n",
              "      <td>1.6</td>\n",
              "      <td>1021</td>\n",
              "      <td>100</td>\n",
              "      <td>4.9</td>\n",
              "      <td>0.0</td>\n",
              "      <td>0.0</td>\n",
              "      <td>100</td>\n",
              "      <td>0</td>\n",
              "      <td>0</td>\n",
              "      <td>450</td>\n",
              "      <td>0.00</td>\n",
              "      <td>4</td>\n",
              "      <td>0</td>\n",
              "      <td>1</td>\n",
              "      <td>0.000000</td>\n",
              "      <td>30</td>\n",
              "      <td>group</td>\n",
              "    </tr>\n",
              "    <tr>\n",
              "      <th>2017-01-01 00:45:00</th>\n",
              "      <td>0.0</td>\n",
              "      <td>1.6</td>\n",
              "      <td>1021</td>\n",
              "      <td>100</td>\n",
              "      <td>4.9</td>\n",
              "      <td>0.0</td>\n",
              "      <td>0.0</td>\n",
              "      <td>100</td>\n",
              "      <td>0</td>\n",
              "      <td>0</td>\n",
              "      <td>450</td>\n",
              "      <td>0.00</td>\n",
              "      <td>4</td>\n",
              "      <td>0</td>\n",
              "      <td>1</td>\n",
              "      <td>0.000000</td>\n",
              "      <td>45</td>\n",
              "      <td>group</td>\n",
              "    </tr>\n",
              "    <tr>\n",
              "      <th>2017-01-01 01:00:00</th>\n",
              "      <td>0.0</td>\n",
              "      <td>1.7</td>\n",
              "      <td>1020</td>\n",
              "      <td>100</td>\n",
              "      <td>5.2</td>\n",
              "      <td>0.0</td>\n",
              "      <td>0.0</td>\n",
              "      <td>100</td>\n",
              "      <td>0</td>\n",
              "      <td>0</td>\n",
              "      <td>450</td>\n",
              "      <td>0.00</td>\n",
              "      <td>4</td>\n",
              "      <td>1</td>\n",
              "      <td>1</td>\n",
              "      <td>0.000000</td>\n",
              "      <td>60</td>\n",
              "      <td>group</td>\n",
              "    </tr>\n",
              "    <tr>\n",
              "      <th>...</th>\n",
              "      <td>...</td>\n",
              "      <td>...</td>\n",
              "      <td>...</td>\n",
              "      <td>...</td>\n",
              "      <td>...</td>\n",
              "      <td>...</td>\n",
              "      <td>...</td>\n",
              "      <td>...</td>\n",
              "      <td>...</td>\n",
              "      <td>...</td>\n",
              "      <td>...</td>\n",
              "      <td>...</td>\n",
              "      <td>...</td>\n",
              "      <td>...</td>\n",
              "      <td>...</td>\n",
              "      <td>...</td>\n",
              "      <td>...</td>\n",
              "      <td>...</td>\n",
              "    </tr>\n",
              "    <tr>\n",
              "      <th>2022-08-31 16:45:00</th>\n",
              "      <td>23.7</td>\n",
              "      <td>18.6</td>\n",
              "      <td>1023</td>\n",
              "      <td>57</td>\n",
              "      <td>3.8</td>\n",
              "      <td>0.0</td>\n",
              "      <td>0.0</td>\n",
              "      <td>52</td>\n",
              "      <td>1</td>\n",
              "      <td>780</td>\n",
              "      <td>825</td>\n",
              "      <td>0.95</td>\n",
              "      <td>3</td>\n",
              "      <td>16</td>\n",
              "      <td>8</td>\n",
              "      <td>0.000118</td>\n",
              "      <td>2978925</td>\n",
              "      <td>group</td>\n",
              "    </tr>\n",
              "    <tr>\n",
              "      <th>2022-08-31 17:00:00</th>\n",
              "      <td>15.6</td>\n",
              "      <td>18.5</td>\n",
              "      <td>1023</td>\n",
              "      <td>61</td>\n",
              "      <td>4.2</td>\n",
              "      <td>0.0</td>\n",
              "      <td>0.0</td>\n",
              "      <td>60</td>\n",
              "      <td>1</td>\n",
              "      <td>795</td>\n",
              "      <td>825</td>\n",
              "      <td>0.96</td>\n",
              "      <td>3</td>\n",
              "      <td>17</td>\n",
              "      <td>8</td>\n",
              "      <td>0.000082</td>\n",
              "      <td>2978940</td>\n",
              "      <td>group</td>\n",
              "    </tr>\n",
              "    <tr>\n",
              "      <th>2022-08-31 17:15:00</th>\n",
              "      <td>8.0</td>\n",
              "      <td>18.5</td>\n",
              "      <td>1023</td>\n",
              "      <td>61</td>\n",
              "      <td>4.2</td>\n",
              "      <td>0.0</td>\n",
              "      <td>0.0</td>\n",
              "      <td>60</td>\n",
              "      <td>1</td>\n",
              "      <td>810</td>\n",
              "      <td>825</td>\n",
              "      <td>0.98</td>\n",
              "      <td>3</td>\n",
              "      <td>17</td>\n",
              "      <td>8</td>\n",
              "      <td>0.000051</td>\n",
              "      <td>2978955</td>\n",
              "      <td>group</td>\n",
              "    </tr>\n",
              "    <tr>\n",
              "      <th>2022-08-31 17:30:00</th>\n",
              "      <td>2.1</td>\n",
              "      <td>18.5</td>\n",
              "      <td>1023</td>\n",
              "      <td>61</td>\n",
              "      <td>4.2</td>\n",
              "      <td>0.0</td>\n",
              "      <td>0.0</td>\n",
              "      <td>60</td>\n",
              "      <td>1</td>\n",
              "      <td>825</td>\n",
              "      <td>825</td>\n",
              "      <td>1.00</td>\n",
              "      <td>3</td>\n",
              "      <td>17</td>\n",
              "      <td>8</td>\n",
              "      <td>0.000024</td>\n",
              "      <td>2978970</td>\n",
              "      <td>group</td>\n",
              "    </tr>\n",
              "    <tr>\n",
              "      <th>2022-08-31 17:45:00</th>\n",
              "      <td>0.0</td>\n",
              "      <td>18.5</td>\n",
              "      <td>1023</td>\n",
              "      <td>61</td>\n",
              "      <td>4.2</td>\n",
              "      <td>0.0</td>\n",
              "      <td>0.0</td>\n",
              "      <td>60</td>\n",
              "      <td>0</td>\n",
              "      <td>0</td>\n",
              "      <td>825</td>\n",
              "      <td>0.00</td>\n",
              "      <td>3</td>\n",
              "      <td>17</td>\n",
              "      <td>8</td>\n",
              "      <td>0.000000</td>\n",
              "      <td>2978985</td>\n",
              "      <td>group</td>\n",
              "    </tr>\n",
              "  </tbody>\n",
              "</table>\n",
              "<p>196776 rows × 18 columns</p>\n",
              "</div>\n",
              "    <div class=\"colab-df-buttons\">\n",
              "\n",
              "  <div class=\"colab-df-container\">\n",
              "    <button class=\"colab-df-convert\" onclick=\"convertToInteractive('df-70af2bad-3c7c-4faa-abba-451163d1e6a7')\"\n",
              "            title=\"Convert this dataframe to an interactive table.\"\n",
              "            style=\"display:none;\">\n",
              "\n",
              "  <svg xmlns=\"http://www.w3.org/2000/svg\" height=\"24px\" viewBox=\"0 -960 960 960\">\n",
              "    <path d=\"M120-120v-720h720v720H120Zm60-500h600v-160H180v160Zm220 220h160v-160H400v160Zm0 220h160v-160H400v160ZM180-400h160v-160H180v160Zm440 0h160v-160H620v160ZM180-180h160v-160H180v160Zm440 0h160v-160H620v160Z\"/>\n",
              "  </svg>\n",
              "    </button>\n",
              "\n",
              "  <style>\n",
              "    .colab-df-container {\n",
              "      display:flex;\n",
              "      gap: 12px;\n",
              "    }\n",
              "\n",
              "    .colab-df-convert {\n",
              "      background-color: #E8F0FE;\n",
              "      border: none;\n",
              "      border-radius: 50%;\n",
              "      cursor: pointer;\n",
              "      display: none;\n",
              "      fill: #1967D2;\n",
              "      height: 32px;\n",
              "      padding: 0 0 0 0;\n",
              "      width: 32px;\n",
              "    }\n",
              "\n",
              "    .colab-df-convert:hover {\n",
              "      background-color: #E2EBFA;\n",
              "      box-shadow: 0px 1px 2px rgba(60, 64, 67, 0.3), 0px 1px 3px 1px rgba(60, 64, 67, 0.15);\n",
              "      fill: #174EA6;\n",
              "    }\n",
              "\n",
              "    .colab-df-buttons div {\n",
              "      margin-bottom: 4px;\n",
              "    }\n",
              "\n",
              "    [theme=dark] .colab-df-convert {\n",
              "      background-color: #3B4455;\n",
              "      fill: #D2E3FC;\n",
              "    }\n",
              "\n",
              "    [theme=dark] .colab-df-convert:hover {\n",
              "      background-color: #434B5C;\n",
              "      box-shadow: 0px 1px 3px 1px rgba(0, 0, 0, 0.15);\n",
              "      filter: drop-shadow(0px 1px 2px rgba(0, 0, 0, 0.3));\n",
              "      fill: #FFFFFF;\n",
              "    }\n",
              "  </style>\n",
              "\n",
              "    <script>\n",
              "      const buttonEl =\n",
              "        document.querySelector('#df-70af2bad-3c7c-4faa-abba-451163d1e6a7 button.colab-df-convert');\n",
              "      buttonEl.style.display =\n",
              "        google.colab.kernel.accessAllowed ? 'block' : 'none';\n",
              "\n",
              "      async function convertToInteractive(key) {\n",
              "        const element = document.querySelector('#df-70af2bad-3c7c-4faa-abba-451163d1e6a7');\n",
              "        const dataTable =\n",
              "          await google.colab.kernel.invokeFunction('convertToInteractive',\n",
              "                                                    [key], {});\n",
              "        if (!dataTable) return;\n",
              "\n",
              "        const docLinkHtml = 'Like what you see? Visit the ' +\n",
              "          '<a target=\"_blank\" href=https://colab.research.google.com/notebooks/data_table.ipynb>data table notebook</a>'\n",
              "          + ' to learn more about interactive tables.';\n",
              "        element.innerHTML = '';\n",
              "        dataTable['output_type'] = 'display_data';\n",
              "        await google.colab.output.renderOutput(dataTable, element);\n",
              "        const docLink = document.createElement('div');\n",
              "        docLink.innerHTML = docLinkHtml;\n",
              "        element.appendChild(docLink);\n",
              "      }\n",
              "    </script>\n",
              "  </div>\n",
              "\n",
              "\n",
              "    <div id=\"df-d4a9425b-6064-44d2-b89f-e4e8a67d0d4e\">\n",
              "      <button class=\"colab-df-quickchart\" onclick=\"quickchart('df-d4a9425b-6064-44d2-b89f-e4e8a67d0d4e')\"\n",
              "                title=\"Suggest charts\"\n",
              "                style=\"display:none;\">\n",
              "\n",
              "<svg xmlns=\"http://www.w3.org/2000/svg\" height=\"24px\"viewBox=\"0 0 24 24\"\n",
              "     width=\"24px\">\n",
              "    <g>\n",
              "        <path d=\"M19 3H5c-1.1 0-2 .9-2 2v14c0 1.1.9 2 2 2h14c1.1 0 2-.9 2-2V5c0-1.1-.9-2-2-2zM9 17H7v-7h2v7zm4 0h-2V7h2v10zm4 0h-2v-4h2v4z\"/>\n",
              "    </g>\n",
              "</svg>\n",
              "      </button>\n",
              "\n",
              "<style>\n",
              "  .colab-df-quickchart {\n",
              "      --bg-color: #E8F0FE;\n",
              "      --fill-color: #1967D2;\n",
              "      --hover-bg-color: #E2EBFA;\n",
              "      --hover-fill-color: #174EA6;\n",
              "      --disabled-fill-color: #AAA;\n",
              "      --disabled-bg-color: #DDD;\n",
              "  }\n",
              "\n",
              "  [theme=dark] .colab-df-quickchart {\n",
              "      --bg-color: #3B4455;\n",
              "      --fill-color: #D2E3FC;\n",
              "      --hover-bg-color: #434B5C;\n",
              "      --hover-fill-color: #FFFFFF;\n",
              "      --disabled-bg-color: #3B4455;\n",
              "      --disabled-fill-color: #666;\n",
              "  }\n",
              "\n",
              "  .colab-df-quickchart {\n",
              "    background-color: var(--bg-color);\n",
              "    border: none;\n",
              "    border-radius: 50%;\n",
              "    cursor: pointer;\n",
              "    display: none;\n",
              "    fill: var(--fill-color);\n",
              "    height: 32px;\n",
              "    padding: 0;\n",
              "    width: 32px;\n",
              "  }\n",
              "\n",
              "  .colab-df-quickchart:hover {\n",
              "    background-color: var(--hover-bg-color);\n",
              "    box-shadow: 0 1px 2px rgba(60, 64, 67, 0.3), 0 1px 3px 1px rgba(60, 64, 67, 0.15);\n",
              "    fill: var(--button-hover-fill-color);\n",
              "  }\n",
              "\n",
              "  .colab-df-quickchart-complete:disabled,\n",
              "  .colab-df-quickchart-complete:disabled:hover {\n",
              "    background-color: var(--disabled-bg-color);\n",
              "    fill: var(--disabled-fill-color);\n",
              "    box-shadow: none;\n",
              "  }\n",
              "\n",
              "  .colab-df-spinner {\n",
              "    border: 2px solid var(--fill-color);\n",
              "    border-color: transparent;\n",
              "    border-bottom-color: var(--fill-color);\n",
              "    animation:\n",
              "      spin 1s steps(1) infinite;\n",
              "  }\n",
              "\n",
              "  @keyframes spin {\n",
              "    0% {\n",
              "      border-color: transparent;\n",
              "      border-bottom-color: var(--fill-color);\n",
              "      border-left-color: var(--fill-color);\n",
              "    }\n",
              "    20% {\n",
              "      border-color: transparent;\n",
              "      border-left-color: var(--fill-color);\n",
              "      border-top-color: var(--fill-color);\n",
              "    }\n",
              "    30% {\n",
              "      border-color: transparent;\n",
              "      border-left-color: var(--fill-color);\n",
              "      border-top-color: var(--fill-color);\n",
              "      border-right-color: var(--fill-color);\n",
              "    }\n",
              "    40% {\n",
              "      border-color: transparent;\n",
              "      border-right-color: var(--fill-color);\n",
              "      border-top-color: var(--fill-color);\n",
              "    }\n",
              "    60% {\n",
              "      border-color: transparent;\n",
              "      border-right-color: var(--fill-color);\n",
              "    }\n",
              "    80% {\n",
              "      border-color: transparent;\n",
              "      border-right-color: var(--fill-color);\n",
              "      border-bottom-color: var(--fill-color);\n",
              "    }\n",
              "    90% {\n",
              "      border-color: transparent;\n",
              "      border-bottom-color: var(--fill-color);\n",
              "    }\n",
              "  }\n",
              "</style>\n",
              "\n",
              "      <script>\n",
              "        async function quickchart(key) {\n",
              "          const quickchartButtonEl =\n",
              "            document.querySelector('#' + key + ' button');\n",
              "          quickchartButtonEl.disabled = true;  // To prevent multiple clicks.\n",
              "          quickchartButtonEl.classList.add('colab-df-spinner');\n",
              "          try {\n",
              "            const charts = await google.colab.kernel.invokeFunction(\n",
              "                'suggestCharts', [key], {});\n",
              "          } catch (error) {\n",
              "            console.error('Error during call to suggestCharts:', error);\n",
              "          }\n",
              "          quickchartButtonEl.classList.remove('colab-df-spinner');\n",
              "          quickchartButtonEl.classList.add('colab-df-quickchart-complete');\n",
              "        }\n",
              "        (() => {\n",
              "          let quickchartButtonEl =\n",
              "            document.querySelector('#df-d4a9425b-6064-44d2-b89f-e4e8a67d0d4e button');\n",
              "          quickchartButtonEl.style.display =\n",
              "            google.colab.kernel.accessAllowed ? 'block' : 'none';\n",
              "        })();\n",
              "      </script>\n",
              "    </div>\n",
              "\n",
              "  <div id=\"id_458b951c-50e5-4d4c-926c-53cd52788117\">\n",
              "    <style>\n",
              "      .colab-df-generate {\n",
              "        background-color: #E8F0FE;\n",
              "        border: none;\n",
              "        border-radius: 50%;\n",
              "        cursor: pointer;\n",
              "        display: none;\n",
              "        fill: #1967D2;\n",
              "        height: 32px;\n",
              "        padding: 0 0 0 0;\n",
              "        width: 32px;\n",
              "      }\n",
              "\n",
              "      .colab-df-generate:hover {\n",
              "        background-color: #E2EBFA;\n",
              "        box-shadow: 0px 1px 2px rgba(60, 64, 67, 0.3), 0px 1px 3px 1px rgba(60, 64, 67, 0.15);\n",
              "        fill: #174EA6;\n",
              "      }\n",
              "\n",
              "      [theme=dark] .colab-df-generate {\n",
              "        background-color: #3B4455;\n",
              "        fill: #D2E3FC;\n",
              "      }\n",
              "\n",
              "      [theme=dark] .colab-df-generate:hover {\n",
              "        background-color: #434B5C;\n",
              "        box-shadow: 0px 1px 3px 1px rgba(0, 0, 0, 0.15);\n",
              "        filter: drop-shadow(0px 1px 2px rgba(0, 0, 0, 0.3));\n",
              "        fill: #FFFFFF;\n",
              "      }\n",
              "    </style>\n",
              "    <button class=\"colab-df-generate\" onclick=\"generateWithVariable('X_ft')\"\n",
              "            title=\"Generate code using this dataframe.\"\n",
              "            style=\"display:none;\">\n",
              "\n",
              "  <svg xmlns=\"http://www.w3.org/2000/svg\" height=\"24px\"viewBox=\"0 0 24 24\"\n",
              "       width=\"24px\">\n",
              "    <path d=\"M7,19H8.4L18.45,9,17,7.55,7,17.6ZM5,21V16.75L18.45,3.32a2,2,0,0,1,2.83,0l1.4,1.43a1.91,1.91,0,0,1,.58,1.4,1.91,1.91,0,0,1-.58,1.4L9.25,21ZM18.45,9,17,7.55Zm-12,3A5.31,5.31,0,0,0,4.9,8.1,5.31,5.31,0,0,0,1,6.5,5.31,5.31,0,0,0,4.9,4.9,5.31,5.31,0,0,0,6.5,1,5.31,5.31,0,0,0,8.1,4.9,5.31,5.31,0,0,0,12,6.5,5.46,5.46,0,0,0,6.5,12Z\"/>\n",
              "  </svg>\n",
              "    </button>\n",
              "    <script>\n",
              "      (() => {\n",
              "      const buttonEl =\n",
              "        document.querySelector('#id_458b951c-50e5-4d4c-926c-53cd52788117 button.colab-df-generate');\n",
              "      buttonEl.style.display =\n",
              "        google.colab.kernel.accessAllowed ? 'block' : 'none';\n",
              "\n",
              "      buttonEl.onclick = () => {\n",
              "        google.colab.notebook.generateWithVariable('X_ft');\n",
              "      }\n",
              "      })();\n",
              "    </script>\n",
              "  </div>\n",
              "\n",
              "    </div>\n",
              "  </div>\n"
            ],
            "application/vnd.google.colaboratory.intrinsic+json": {
              "type": "dataframe",
              "variable_name": "X_ft"
            }
          },
          "metadata": {},
          "execution_count": 35
        }
      ]
    },
    {
      "cell_type": "code",
      "source": [
        "#Hyperparameters\n",
        "#batch size=64\n",
        "#number heads=4, hidden sizes=160, lr=0.001, gr_clip=0.1\n",
        "\n",
        "max_prediction_length = 24\n",
        "max_encoder_length = 7*24\n",
        "training_cutoff = X_ft[\"time_interval\"].max() - max_prediction_length\n",
        "\n",
        "training = TimeSeriesDataSet(\n",
        "    X_ft[lambda x: x.time_interval <= training_cutoff],\n",
        "    time_idx=\"time_interval\",\n",
        "    target=\"Energy delta[MWh]\",\n",
        "    group_ids=[\"group_id\"],\n",
        "    min_encoder_length=max_encoder_length // 2,\n",
        "    max_encoder_length=max_encoder_length,\n",
        "    min_prediction_length=1,\n",
        "    max_prediction_length=max_prediction_length,\n",
        "    static_categoricals=[\"group_id\"],\n",
        "    time_varying_known_reals=[\"time_interval\", \"month\", 'hour'],\n",
        "    time_varying_unknown_reals=['Energy delta[MWh]','GHI',\n",
        " 'temp',\n",
        " 'pressure',\n",
        " 'humidity',\n",
        " 'clouds_all',\n",
        " 'isSun',\n",
        " 'sunlightTime',\n",
        " 'dayLength'],\n",
        "    target_normalizer=GroupNormalizer(\n",
        "        groups=[\"group_id\"], transformation=\"softplus\"\n",
        "    ),  # we normalize by group\n",
        "    add_relative_time_idx=True,\n",
        "    add_target_scales=True,\n",
        "    add_encoder_length=True,\n",
        "    allow_missing_timesteps=True\n",
        ")\n",
        "\n",
        "\n",
        "validation = TimeSeriesDataSet.from_dataset(training, X_ft, predict=True, stop_randomization=True)\n",
        "\n",
        "# create dataloaders for  our model\n",
        "batch_size = 64\n",
        "# if you have a strong GPU, feel free to increase the number of workers\n",
        "train_dataloader = training.to_dataloader(train=True, batch_size=batch_size, num_workers=0)\n",
        "val_dataloader = validation.to_dataloader(train=False, batch_size=batch_size * 10, num_workers=0)"
      ],
      "metadata": {
        "id": "ZgH3tPDyKNSI"
      },
      "execution_count": 37,
      "outputs": []
    },
    {
      "cell_type": "code",
      "source": [
        "early_stop_callback = EarlyStopping(monitor=\"val_loss\", min_delta=1e-4, patience=5, verbose=True, mode=\"min\")\n",
        "lr_logger = LearningRateMonitor()\n",
        "logger = TensorBoardLogger(\"lightning_logs\")\n",
        "\n",
        "trainer = pl.Trainer(\n",
        "    max_epochs=45,\n",
        "    accelerator='gpu',\n",
        "    devices=1,\n",
        "    enable_model_summary=True,\n",
        "    gradient_clip_val=0.1,\n",
        "    callbacks=[lr_logger, early_stop_callback],\n",
        "    logger=logger,\n",
        ")\n",
        "\n",
        "\n",
        "tft = TemporalFusionTransformer.from_dataset(\n",
        "    training,\n",
        "    learning_rate=0.001,\n",
        "    hidden_size=160,\n",
        "    attention_head_size=4,\n",
        "    dropout=0.1,\n",
        "    hidden_continuous_size=160,\n",
        "    output_size=7,  # there are 7 quantiles by default: [0.02, 0.1, 0.25, 0.5, 0.75, 0.9, 0.98]\n",
        "    loss=QuantileLoss(),\n",
        "    log_interval=10,\n",
        "    reduce_on_plateau_patience=4,\n",
        ")"
      ],
      "metadata": {
        "colab": {
          "base_uri": "https://localhost:8080/"
        },
        "id": "5KHKGa8ULPQ2",
        "outputId": "479d1700-8478-4d29-f861-a1b3fe5e48fa"
      },
      "execution_count": 38,
      "outputs": [
        {
          "output_type": "stream",
          "name": "stderr",
          "text": [
            "INFO: Using default `ModelCheckpoint`. Consider installing `litmodels` package to enable `LitModelCheckpoint` for automatic upload to the Lightning model registry.\n",
            "INFO:lightning.pytorch.utilities.rank_zero:Using default `ModelCheckpoint`. Consider installing `litmodels` package to enable `LitModelCheckpoint` for automatic upload to the Lightning model registry.\n",
            "INFO: GPU available: True (cuda), used: True\n",
            "INFO:lightning.pytorch.utilities.rank_zero:GPU available: True (cuda), used: True\n",
            "INFO: TPU available: False, using: 0 TPU cores\n",
            "INFO:lightning.pytorch.utilities.rank_zero:TPU available: False, using: 0 TPU cores\n",
            "INFO: HPU available: False, using: 0 HPUs\n",
            "INFO:lightning.pytorch.utilities.rank_zero:HPU available: False, using: 0 HPUs\n",
            "/usr/local/lib/python3.11/dist-packages/lightning/pytorch/utilities/parsing.py:209: Attribute 'loss' is an instance of `nn.Module` and is already saved during checkpointing. It is recommended to ignore them using `self.save_hyperparameters(ignore=['loss'])`.\n",
            "/usr/local/lib/python3.11/dist-packages/lightning/pytorch/utilities/parsing.py:209: Attribute 'logging_metrics' is an instance of `nn.Module` and is already saved during checkpointing. It is recommended to ignore them using `self.save_hyperparameters(ignore=['logging_metrics'])`.\n"
          ]
        }
      ]
    },
    {
      "cell_type": "code",
      "source": [
        "trainer.fit(\n",
        "    tft,\n",
        "    train_dataloaders=train_dataloader,\n",
        "    val_dataloaders=val_dataloader,\n",
        ")"
      ],
      "metadata": {
        "colab": {
          "base_uri": "https://localhost:8080/",
          "height": 1000,
          "referenced_widgets": [
            "f23c626f206b4587ab085b372ce6a867",
            "2bbb05374b954a6e8e6d823ec4001c61",
            "bdf69311288744c4b0bab3b9b5aa0719",
            "dc50b663579740f28ba18e76930a7c3a",
            "38b0c489927e4608ab76dc9996dff1d4",
            "5b125b7439524f04b5ca68c8f34c031a",
            "54d5b6f5552a408b8d5b6a6ee5d5ed3e",
            "24a6ee82284e42c7876dc2818e10d9c3",
            "eaaec40077b048dc84411d5713ffa9ae",
            "982fc36219434a76b7124538daf7d62b",
            "a1cf9811e62f4689b15353eb3e04b2ea",
            "56d7906bcb3d44b8be0089472857c928",
            "8d50dcc814ae496d846fea7cb904bde1",
            "dfb23ab626dd4efc83ba4dda84266fef",
            "4b279c4077a24c36b7459a66fced58a4",
            "0c594811304740258e4d7e10ce338d2c",
            "f6d65a51908a4cbb838f849f50ca2882",
            "8f937d7f6b274e4f93e7db906002eb0d",
            "ba0e3360ddf7431c96f0a4932151b2d5",
            "434e397a508d4f3ea2c5049983d81a78",
            "a88585740ca54a18a8f184eddcecdcd6",
            "fd6ae0a334244430866e5af8f1d347fd"
          ]
        },
        "id": "EfV8DSq5LR_z",
        "outputId": "63c2f02c-c300-4a66-eea1-92b5ab512019"
      },
      "execution_count": 39,
      "outputs": [
        {
          "output_type": "stream",
          "name": "stderr",
          "text": [
            "INFO: LOCAL_RANK: 0 - CUDA_VISIBLE_DEVICES: [0]\n",
            "INFO:lightning.pytorch.accelerators.cuda:LOCAL_RANK: 0 - CUDA_VISIBLE_DEVICES: [0]\n",
            "INFO: \n",
            "   | Name                               | Type                            | Params | Mode \n",
            "------------------------------------------------------------------------------------------------\n",
            "0  | loss                               | QuantileLoss                    | 0      | train\n",
            "1  | logging_metrics                    | ModuleList                      | 0      | train\n",
            "2  | input_embeddings                   | MultiEmbedding                  | 1      | train\n",
            "3  | prescalers                         | ModuleDict                      | 5.1 K  | train\n",
            "4  | static_variable_selection          | VariableSelectionNetwork        | 313 K  | train\n",
            "5  | encoder_variable_selection         | VariableSelectionNetwork        | 1.4 M  | train\n",
            "6  | decoder_variable_selection         | VariableSelectionNetwork        | 418 K  | train\n",
            "7  | static_context_variable_selection  | GatedResidualNetwork            | 103 K  | train\n",
            "8  | static_context_initial_hidden_lstm | GatedResidualNetwork            | 103 K  | train\n",
            "9  | static_context_initial_cell_lstm   | GatedResidualNetwork            | 103 K  | train\n",
            "10 | static_context_enrichment          | GatedResidualNetwork            | 103 K  | train\n",
            "11 | lstm_encoder                       | LSTM                            | 206 K  | train\n",
            "12 | lstm_decoder                       | LSTM                            | 206 K  | train\n",
            "13 | post_lstm_gate_encoder             | GatedLinearUnit                 | 51.5 K | train\n",
            "14 | post_lstm_add_norm_encoder         | AddNorm                         | 320    | train\n",
            "15 | static_enrichment                  | GatedResidualNetwork            | 128 K  | train\n",
            "16 | multihead_attn                     | InterpretableMultiHeadAttention | 64.4 K | train\n",
            "17 | post_attn_gate_norm                | GateAddNorm                     | 51.8 K | train\n",
            "18 | pos_wise_ff                        | GatedResidualNetwork            | 103 K  | train\n",
            "19 | pre_output_gate_norm               | GateAddNorm                     | 51.8 K | train\n",
            "20 | output_layer                       | Linear                          | 1.1 K  | train\n",
            "------------------------------------------------------------------------------------------------\n",
            "3.4 M     Trainable params\n",
            "0         Non-trainable params\n",
            "3.4 M     Total params\n",
            "13.547    Total estimated model params size (MB)\n",
            "382       Modules in train mode\n",
            "0         Modules in eval mode\n",
            "INFO:lightning.pytorch.callbacks.model_summary:\n",
            "   | Name                               | Type                            | Params | Mode \n",
            "------------------------------------------------------------------------------------------------\n",
            "0  | loss                               | QuantileLoss                    | 0      | train\n",
            "1  | logging_metrics                    | ModuleList                      | 0      | train\n",
            "2  | input_embeddings                   | MultiEmbedding                  | 1      | train\n",
            "3  | prescalers                         | ModuleDict                      | 5.1 K  | train\n",
            "4  | static_variable_selection          | VariableSelectionNetwork        | 313 K  | train\n",
            "5  | encoder_variable_selection         | VariableSelectionNetwork        | 1.4 M  | train\n",
            "6  | decoder_variable_selection         | VariableSelectionNetwork        | 418 K  | train\n",
            "7  | static_context_variable_selection  | GatedResidualNetwork            | 103 K  | train\n",
            "8  | static_context_initial_hidden_lstm | GatedResidualNetwork            | 103 K  | train\n",
            "9  | static_context_initial_cell_lstm   | GatedResidualNetwork            | 103 K  | train\n",
            "10 | static_context_enrichment          | GatedResidualNetwork            | 103 K  | train\n",
            "11 | lstm_encoder                       | LSTM                            | 206 K  | train\n",
            "12 | lstm_decoder                       | LSTM                            | 206 K  | train\n",
            "13 | post_lstm_gate_encoder             | GatedLinearUnit                 | 51.5 K | train\n",
            "14 | post_lstm_add_norm_encoder         | AddNorm                         | 320    | train\n",
            "15 | static_enrichment                  | GatedResidualNetwork            | 128 K  | train\n",
            "16 | multihead_attn                     | InterpretableMultiHeadAttention | 64.4 K | train\n",
            "17 | post_attn_gate_norm                | GateAddNorm                     | 51.8 K | train\n",
            "18 | pos_wise_ff                        | GatedResidualNetwork            | 103 K  | train\n",
            "19 | pre_output_gate_norm               | GateAddNorm                     | 51.8 K | train\n",
            "20 | output_layer                       | Linear                          | 1.1 K  | train\n",
            "------------------------------------------------------------------------------------------------\n",
            "3.4 M     Trainable params\n",
            "0         Non-trainable params\n",
            "3.4 M     Total params\n",
            "13.547    Total estimated model params size (MB)\n",
            "382       Modules in train mode\n",
            "0         Modules in eval mode\n"
          ]
        },
        {
          "output_type": "display_data",
          "data": {
            "text/plain": [
              "Sanity Checking: |          | 0/? [00:00<?, ?it/s]"
            ],
            "application/vnd.jupyter.widget-view+json": {
              "version_major": 2,
              "version_minor": 0,
              "model_id": "f23c626f206b4587ab085b372ce6a867"
            }
          },
          "metadata": {}
        },
        {
          "output_type": "display_data",
          "data": {
            "text/plain": [
              "Training: |          | 0/? [00:00<?, ?it/s]"
            ],
            "application/vnd.jupyter.widget-view+json": {
              "version_major": 2,
              "version_minor": 0,
              "model_id": "56d7906bcb3d44b8be0089472857c928"
            }
          },
          "metadata": {}
        },
        {
          "output_type": "stream",
          "name": "stderr",
          "text": [
            "INFO: \n",
            "Detected KeyboardInterrupt, attempting graceful shutdown ...\n",
            "INFO:lightning.pytorch.utilities.rank_zero:\n",
            "Detected KeyboardInterrupt, attempting graceful shutdown ...\n"
          ]
        },
        {
          "output_type": "error",
          "ename": "NameError",
          "evalue": "name 'exit' is not defined",
          "traceback": [
            "\u001b[0;31m---------------------------------------------------------------------------\u001b[0m",
            "\u001b[0;31mKeyboardInterrupt\u001b[0m                         Traceback (most recent call last)",
            "\u001b[0;32m/usr/local/lib/python3.11/dist-packages/lightning/pytorch/trainer/call.py\u001b[0m in \u001b[0;36m_call_and_handle_interrupt\u001b[0;34m(trainer, trainer_fn, *args, **kwargs)\u001b[0m\n\u001b[1;32m     47\u001b[0m             \u001b[0;32mreturn\u001b[0m \u001b[0mtrainer\u001b[0m\u001b[0;34m.\u001b[0m\u001b[0mstrategy\u001b[0m\u001b[0;34m.\u001b[0m\u001b[0mlauncher\u001b[0m\u001b[0;34m.\u001b[0m\u001b[0mlaunch\u001b[0m\u001b[0;34m(\u001b[0m\u001b[0mtrainer_fn\u001b[0m\u001b[0;34m,\u001b[0m \u001b[0;34m*\u001b[0m\u001b[0margs\u001b[0m\u001b[0;34m,\u001b[0m \u001b[0mtrainer\u001b[0m\u001b[0;34m=\u001b[0m\u001b[0mtrainer\u001b[0m\u001b[0;34m,\u001b[0m \u001b[0;34m**\u001b[0m\u001b[0mkwargs\u001b[0m\u001b[0;34m)\u001b[0m\u001b[0;34m\u001b[0m\u001b[0;34m\u001b[0m\u001b[0m\n\u001b[0;32m---> 48\u001b[0;31m         \u001b[0;32mreturn\u001b[0m \u001b[0mtrainer_fn\u001b[0m\u001b[0;34m(\u001b[0m\u001b[0;34m*\u001b[0m\u001b[0margs\u001b[0m\u001b[0;34m,\u001b[0m \u001b[0;34m**\u001b[0m\u001b[0mkwargs\u001b[0m\u001b[0;34m)\u001b[0m\u001b[0;34m\u001b[0m\u001b[0;34m\u001b[0m\u001b[0m\n\u001b[0m\u001b[1;32m     49\u001b[0m \u001b[0;34m\u001b[0m\u001b[0m\n",
            "\u001b[0;32m/usr/local/lib/python3.11/dist-packages/lightning/pytorch/trainer/trainer.py\u001b[0m in \u001b[0;36m_fit_impl\u001b[0;34m(self, model, train_dataloaders, val_dataloaders, datamodule, ckpt_path)\u001b[0m\n\u001b[1;32m    598\u001b[0m         )\n\u001b[0;32m--> 599\u001b[0;31m         \u001b[0mself\u001b[0m\u001b[0;34m.\u001b[0m\u001b[0m_run\u001b[0m\u001b[0;34m(\u001b[0m\u001b[0mmodel\u001b[0m\u001b[0;34m,\u001b[0m \u001b[0mckpt_path\u001b[0m\u001b[0;34m=\u001b[0m\u001b[0mckpt_path\u001b[0m\u001b[0;34m)\u001b[0m\u001b[0;34m\u001b[0m\u001b[0;34m\u001b[0m\u001b[0m\n\u001b[0m\u001b[1;32m    600\u001b[0m \u001b[0;34m\u001b[0m\u001b[0m\n",
            "\u001b[0;32m/usr/local/lib/python3.11/dist-packages/lightning/pytorch/trainer/trainer.py\u001b[0m in \u001b[0;36m_run\u001b[0;34m(self, model, ckpt_path)\u001b[0m\n\u001b[1;32m   1011\u001b[0m         \u001b[0;31m# ----------------------------\u001b[0m\u001b[0;34m\u001b[0m\u001b[0;34m\u001b[0m\u001b[0m\n\u001b[0;32m-> 1012\u001b[0;31m         \u001b[0mresults\u001b[0m \u001b[0;34m=\u001b[0m \u001b[0mself\u001b[0m\u001b[0;34m.\u001b[0m\u001b[0m_run_stage\u001b[0m\u001b[0;34m(\u001b[0m\u001b[0;34m)\u001b[0m\u001b[0;34m\u001b[0m\u001b[0;34m\u001b[0m\u001b[0m\n\u001b[0m\u001b[1;32m   1013\u001b[0m \u001b[0;34m\u001b[0m\u001b[0m\n",
            "\u001b[0;32m/usr/local/lib/python3.11/dist-packages/lightning/pytorch/trainer/trainer.py\u001b[0m in \u001b[0;36m_run_stage\u001b[0;34m(self)\u001b[0m\n\u001b[1;32m   1055\u001b[0m             \u001b[0;32mwith\u001b[0m \u001b[0mtorch\u001b[0m\u001b[0;34m.\u001b[0m\u001b[0mautograd\u001b[0m\u001b[0;34m.\u001b[0m\u001b[0mset_detect_anomaly\u001b[0m\u001b[0;34m(\u001b[0m\u001b[0mself\u001b[0m\u001b[0;34m.\u001b[0m\u001b[0m_detect_anomaly\u001b[0m\u001b[0;34m)\u001b[0m\u001b[0;34m:\u001b[0m\u001b[0;34m\u001b[0m\u001b[0;34m\u001b[0m\u001b[0m\n\u001b[0;32m-> 1056\u001b[0;31m                 \u001b[0mself\u001b[0m\u001b[0;34m.\u001b[0m\u001b[0mfit_loop\u001b[0m\u001b[0;34m.\u001b[0m\u001b[0mrun\u001b[0m\u001b[0;34m(\u001b[0m\u001b[0;34m)\u001b[0m\u001b[0;34m\u001b[0m\u001b[0;34m\u001b[0m\u001b[0m\n\u001b[0m\u001b[1;32m   1057\u001b[0m             \u001b[0;32mreturn\u001b[0m \u001b[0;32mNone\u001b[0m\u001b[0;34m\u001b[0m\u001b[0;34m\u001b[0m\u001b[0m\n",
            "\u001b[0;32m/usr/local/lib/python3.11/dist-packages/lightning/pytorch/loops/fit_loop.py\u001b[0m in \u001b[0;36mrun\u001b[0;34m(self)\u001b[0m\n\u001b[1;32m    215\u001b[0m                 \u001b[0mself\u001b[0m\u001b[0;34m.\u001b[0m\u001b[0mon_advance_start\u001b[0m\u001b[0;34m(\u001b[0m\u001b[0;34m)\u001b[0m\u001b[0;34m\u001b[0m\u001b[0;34m\u001b[0m\u001b[0m\n\u001b[0;32m--> 216\u001b[0;31m                 \u001b[0mself\u001b[0m\u001b[0;34m.\u001b[0m\u001b[0madvance\u001b[0m\u001b[0;34m(\u001b[0m\u001b[0;34m)\u001b[0m\u001b[0;34m\u001b[0m\u001b[0;34m\u001b[0m\u001b[0m\n\u001b[0m\u001b[1;32m    217\u001b[0m                 \u001b[0mself\u001b[0m\u001b[0;34m.\u001b[0m\u001b[0mon_advance_end\u001b[0m\u001b[0;34m(\u001b[0m\u001b[0;34m)\u001b[0m\u001b[0;34m\u001b[0m\u001b[0;34m\u001b[0m\u001b[0m\n",
            "\u001b[0;32m/usr/local/lib/python3.11/dist-packages/lightning/pytorch/loops/fit_loop.py\u001b[0m in \u001b[0;36madvance\u001b[0;34m(self)\u001b[0m\n\u001b[1;32m    454\u001b[0m             \u001b[0;32massert\u001b[0m \u001b[0mself\u001b[0m\u001b[0;34m.\u001b[0m\u001b[0m_data_fetcher\u001b[0m \u001b[0;32mis\u001b[0m \u001b[0;32mnot\u001b[0m \u001b[0;32mNone\u001b[0m\u001b[0;34m\u001b[0m\u001b[0;34m\u001b[0m\u001b[0m\n\u001b[0;32m--> 455\u001b[0;31m             \u001b[0mself\u001b[0m\u001b[0;34m.\u001b[0m\u001b[0mepoch_loop\u001b[0m\u001b[0;34m.\u001b[0m\u001b[0mrun\u001b[0m\u001b[0;34m(\u001b[0m\u001b[0mself\u001b[0m\u001b[0;34m.\u001b[0m\u001b[0m_data_fetcher\u001b[0m\u001b[0;34m)\u001b[0m\u001b[0;34m\u001b[0m\u001b[0;34m\u001b[0m\u001b[0m\n\u001b[0m\u001b[1;32m    456\u001b[0m \u001b[0;34m\u001b[0m\u001b[0m\n",
            "\u001b[0;32m/usr/local/lib/python3.11/dist-packages/lightning/pytorch/loops/training_epoch_loop.py\u001b[0m in \u001b[0;36mrun\u001b[0;34m(self, data_fetcher)\u001b[0m\n\u001b[1;32m    149\u001b[0m             \u001b[0;32mtry\u001b[0m\u001b[0;34m:\u001b[0m\u001b[0;34m\u001b[0m\u001b[0;34m\u001b[0m\u001b[0m\n\u001b[0;32m--> 150\u001b[0;31m                 \u001b[0mself\u001b[0m\u001b[0;34m.\u001b[0m\u001b[0madvance\u001b[0m\u001b[0;34m(\u001b[0m\u001b[0mdata_fetcher\u001b[0m\u001b[0;34m)\u001b[0m\u001b[0;34m\u001b[0m\u001b[0;34m\u001b[0m\u001b[0m\n\u001b[0m\u001b[1;32m    151\u001b[0m                 \u001b[0mself\u001b[0m\u001b[0;34m.\u001b[0m\u001b[0mon_advance_end\u001b[0m\u001b[0;34m(\u001b[0m\u001b[0mdata_fetcher\u001b[0m\u001b[0;34m)\u001b[0m\u001b[0;34m\u001b[0m\u001b[0;34m\u001b[0m\u001b[0m\n",
            "\u001b[0;32m/usr/local/lib/python3.11/dist-packages/lightning/pytorch/loops/training_epoch_loop.py\u001b[0m in \u001b[0;36madvance\u001b[0;34m(self, data_fetcher)\u001b[0m\n\u001b[1;32m    281\u001b[0m             \u001b[0mdataloader_iter\u001b[0m \u001b[0;34m=\u001b[0m \u001b[0;32mNone\u001b[0m\u001b[0;34m\u001b[0m\u001b[0;34m\u001b[0m\u001b[0m\n\u001b[0;32m--> 282\u001b[0;31m             \u001b[0mbatch\u001b[0m\u001b[0;34m,\u001b[0m \u001b[0m_\u001b[0m\u001b[0;34m,\u001b[0m \u001b[0m__\u001b[0m \u001b[0;34m=\u001b[0m \u001b[0mnext\u001b[0m\u001b[0;34m(\u001b[0m\u001b[0mdata_fetcher\u001b[0m\u001b[0;34m)\u001b[0m\u001b[0;34m\u001b[0m\u001b[0;34m\u001b[0m\u001b[0m\n\u001b[0m\u001b[1;32m    283\u001b[0m             \u001b[0;31m# TODO: we should instead use the batch_idx returned by the fetcher, however, that will require saving the\u001b[0m\u001b[0;34m\u001b[0m\u001b[0;34m\u001b[0m\u001b[0m\n",
            "\u001b[0;32m/usr/local/lib/python3.11/dist-packages/lightning/pytorch/loops/fetchers.py\u001b[0m in \u001b[0;36m__next__\u001b[0;34m(self)\u001b[0m\n\u001b[1;32m    133\u001b[0m             \u001b[0;31m# this will run only when no pre-fetching was done.\u001b[0m\u001b[0;34m\u001b[0m\u001b[0;34m\u001b[0m\u001b[0m\n\u001b[0;32m--> 134\u001b[0;31m             \u001b[0mbatch\u001b[0m \u001b[0;34m=\u001b[0m \u001b[0msuper\u001b[0m\u001b[0;34m(\u001b[0m\u001b[0;34m)\u001b[0m\u001b[0;34m.\u001b[0m\u001b[0m__next__\u001b[0m\u001b[0;34m(\u001b[0m\u001b[0;34m)\u001b[0m\u001b[0;34m\u001b[0m\u001b[0;34m\u001b[0m\u001b[0m\n\u001b[0m\u001b[1;32m    135\u001b[0m         \u001b[0;32melse\u001b[0m\u001b[0;34m:\u001b[0m\u001b[0;34m\u001b[0m\u001b[0;34m\u001b[0m\u001b[0m\n",
            "\u001b[0;32m/usr/local/lib/python3.11/dist-packages/lightning/pytorch/loops/fetchers.py\u001b[0m in \u001b[0;36m__next__\u001b[0;34m(self)\u001b[0m\n\u001b[1;32m     60\u001b[0m         \u001b[0;32mtry\u001b[0m\u001b[0;34m:\u001b[0m\u001b[0;34m\u001b[0m\u001b[0;34m\u001b[0m\u001b[0m\n\u001b[0;32m---> 61\u001b[0;31m             \u001b[0mbatch\u001b[0m \u001b[0;34m=\u001b[0m \u001b[0mnext\u001b[0m\u001b[0;34m(\u001b[0m\u001b[0mself\u001b[0m\u001b[0;34m.\u001b[0m\u001b[0miterator\u001b[0m\u001b[0;34m)\u001b[0m\u001b[0;34m\u001b[0m\u001b[0;34m\u001b[0m\u001b[0m\n\u001b[0m\u001b[1;32m     62\u001b[0m         \u001b[0;32mexcept\u001b[0m \u001b[0mStopIteration\u001b[0m\u001b[0;34m:\u001b[0m\u001b[0;34m\u001b[0m\u001b[0;34m\u001b[0m\u001b[0m\n",
            "\u001b[0;32m/usr/local/lib/python3.11/dist-packages/lightning/pytorch/utilities/combined_loader.py\u001b[0m in \u001b[0;36m__next__\u001b[0;34m(self)\u001b[0m\n\u001b[1;32m    340\u001b[0m         \u001b[0;32massert\u001b[0m \u001b[0mself\u001b[0m\u001b[0;34m.\u001b[0m\u001b[0m_iterator\u001b[0m \u001b[0;32mis\u001b[0m \u001b[0;32mnot\u001b[0m \u001b[0;32mNone\u001b[0m\u001b[0;34m\u001b[0m\u001b[0;34m\u001b[0m\u001b[0m\n\u001b[0;32m--> 341\u001b[0;31m         \u001b[0mout\u001b[0m \u001b[0;34m=\u001b[0m \u001b[0mnext\u001b[0m\u001b[0;34m(\u001b[0m\u001b[0mself\u001b[0m\u001b[0;34m.\u001b[0m\u001b[0m_iterator\u001b[0m\u001b[0;34m)\u001b[0m\u001b[0;34m\u001b[0m\u001b[0;34m\u001b[0m\u001b[0m\n\u001b[0m\u001b[1;32m    342\u001b[0m         \u001b[0;32mif\u001b[0m \u001b[0misinstance\u001b[0m\u001b[0;34m(\u001b[0m\u001b[0mself\u001b[0m\u001b[0;34m.\u001b[0m\u001b[0m_iterator\u001b[0m\u001b[0;34m,\u001b[0m \u001b[0m_Sequential\u001b[0m\u001b[0;34m)\u001b[0m\u001b[0;34m:\u001b[0m\u001b[0;34m\u001b[0m\u001b[0;34m\u001b[0m\u001b[0m\n",
            "\u001b[0;32m/usr/local/lib/python3.11/dist-packages/lightning/pytorch/utilities/combined_loader.py\u001b[0m in \u001b[0;36m__next__\u001b[0;34m(self)\u001b[0m\n\u001b[1;32m     77\u001b[0m             \u001b[0;32mtry\u001b[0m\u001b[0;34m:\u001b[0m\u001b[0;34m\u001b[0m\u001b[0;34m\u001b[0m\u001b[0m\n\u001b[0;32m---> 78\u001b[0;31m                 \u001b[0mout\u001b[0m\u001b[0;34m[\u001b[0m\u001b[0mi\u001b[0m\u001b[0;34m]\u001b[0m \u001b[0;34m=\u001b[0m \u001b[0mnext\u001b[0m\u001b[0;34m(\u001b[0m\u001b[0mself\u001b[0m\u001b[0;34m.\u001b[0m\u001b[0miterators\u001b[0m\u001b[0;34m[\u001b[0m\u001b[0mi\u001b[0m\u001b[0;34m]\u001b[0m\u001b[0;34m)\u001b[0m\u001b[0;34m\u001b[0m\u001b[0;34m\u001b[0m\u001b[0m\n\u001b[0m\u001b[1;32m     79\u001b[0m             \u001b[0;32mexcept\u001b[0m \u001b[0mStopIteration\u001b[0m\u001b[0;34m:\u001b[0m\u001b[0;34m\u001b[0m\u001b[0;34m\u001b[0m\u001b[0m\n",
            "\u001b[0;32m/usr/local/lib/python3.11/dist-packages/torch/utils/data/dataloader.py\u001b[0m in \u001b[0;36m__next__\u001b[0;34m(self)\u001b[0m\n\u001b[1;32m    707\u001b[0m                 \u001b[0mself\u001b[0m\u001b[0;34m.\u001b[0m\u001b[0m_reset\u001b[0m\u001b[0;34m(\u001b[0m\u001b[0;34m)\u001b[0m  \u001b[0;31m# type: ignore[call-arg]\u001b[0m\u001b[0;34m\u001b[0m\u001b[0;34m\u001b[0m\u001b[0m\n\u001b[0;32m--> 708\u001b[0;31m             \u001b[0mdata\u001b[0m \u001b[0;34m=\u001b[0m \u001b[0mself\u001b[0m\u001b[0;34m.\u001b[0m\u001b[0m_next_data\u001b[0m\u001b[0;34m(\u001b[0m\u001b[0;34m)\u001b[0m\u001b[0;34m\u001b[0m\u001b[0;34m\u001b[0m\u001b[0m\n\u001b[0m\u001b[1;32m    709\u001b[0m             \u001b[0mself\u001b[0m\u001b[0;34m.\u001b[0m\u001b[0m_num_yielded\u001b[0m \u001b[0;34m+=\u001b[0m \u001b[0;36m1\u001b[0m\u001b[0;34m\u001b[0m\u001b[0;34m\u001b[0m\u001b[0m\n",
            "\u001b[0;32m/usr/local/lib/python3.11/dist-packages/torch/utils/data/dataloader.py\u001b[0m in \u001b[0;36m_next_data\u001b[0;34m(self)\u001b[0m\n\u001b[1;32m    763\u001b[0m         \u001b[0mindex\u001b[0m \u001b[0;34m=\u001b[0m \u001b[0mself\u001b[0m\u001b[0;34m.\u001b[0m\u001b[0m_next_index\u001b[0m\u001b[0;34m(\u001b[0m\u001b[0;34m)\u001b[0m  \u001b[0;31m# may raise StopIteration\u001b[0m\u001b[0;34m\u001b[0m\u001b[0;34m\u001b[0m\u001b[0m\n\u001b[0;32m--> 764\u001b[0;31m         \u001b[0mdata\u001b[0m \u001b[0;34m=\u001b[0m \u001b[0mself\u001b[0m\u001b[0;34m.\u001b[0m\u001b[0m_dataset_fetcher\u001b[0m\u001b[0;34m.\u001b[0m\u001b[0mfetch\u001b[0m\u001b[0;34m(\u001b[0m\u001b[0mindex\u001b[0m\u001b[0;34m)\u001b[0m  \u001b[0;31m# may raise StopIteration\u001b[0m\u001b[0;34m\u001b[0m\u001b[0;34m\u001b[0m\u001b[0m\n\u001b[0m\u001b[1;32m    765\u001b[0m         \u001b[0;32mif\u001b[0m \u001b[0mself\u001b[0m\u001b[0;34m.\u001b[0m\u001b[0m_pin_memory\u001b[0m\u001b[0;34m:\u001b[0m\u001b[0;34m\u001b[0m\u001b[0;34m\u001b[0m\u001b[0m\n",
            "\u001b[0;32m/usr/local/lib/python3.11/dist-packages/torch/utils/data/_utils/fetch.py\u001b[0m in \u001b[0;36mfetch\u001b[0;34m(self, possibly_batched_index)\u001b[0m\n\u001b[1;32m     51\u001b[0m             \u001b[0;32melse\u001b[0m\u001b[0;34m:\u001b[0m\u001b[0;34m\u001b[0m\u001b[0;34m\u001b[0m\u001b[0m\n\u001b[0;32m---> 52\u001b[0;31m                 \u001b[0mdata\u001b[0m \u001b[0;34m=\u001b[0m \u001b[0;34m[\u001b[0m\u001b[0mself\u001b[0m\u001b[0;34m.\u001b[0m\u001b[0mdataset\u001b[0m\u001b[0;34m[\u001b[0m\u001b[0midx\u001b[0m\u001b[0;34m]\u001b[0m \u001b[0;32mfor\u001b[0m \u001b[0midx\u001b[0m \u001b[0;32min\u001b[0m \u001b[0mpossibly_batched_index\u001b[0m\u001b[0;34m]\u001b[0m\u001b[0;34m\u001b[0m\u001b[0;34m\u001b[0m\u001b[0m\n\u001b[0m\u001b[1;32m     53\u001b[0m         \u001b[0;32melse\u001b[0m\u001b[0;34m:\u001b[0m\u001b[0;34m\u001b[0m\u001b[0;34m\u001b[0m\u001b[0m\n",
            "\u001b[0;32m/usr/local/lib/python3.11/dist-packages/torch/utils/data/_utils/fetch.py\u001b[0m in \u001b[0;36m<listcomp>\u001b[0;34m(.0)\u001b[0m\n\u001b[1;32m     51\u001b[0m             \u001b[0;32melse\u001b[0m\u001b[0;34m:\u001b[0m\u001b[0;34m\u001b[0m\u001b[0;34m\u001b[0m\u001b[0m\n\u001b[0;32m---> 52\u001b[0;31m                 \u001b[0mdata\u001b[0m \u001b[0;34m=\u001b[0m \u001b[0;34m[\u001b[0m\u001b[0mself\u001b[0m\u001b[0;34m.\u001b[0m\u001b[0mdataset\u001b[0m\u001b[0;34m[\u001b[0m\u001b[0midx\u001b[0m\u001b[0;34m]\u001b[0m \u001b[0;32mfor\u001b[0m \u001b[0midx\u001b[0m \u001b[0;32min\u001b[0m \u001b[0mpossibly_batched_index\u001b[0m\u001b[0;34m]\u001b[0m\u001b[0;34m\u001b[0m\u001b[0;34m\u001b[0m\u001b[0m\n\u001b[0m\u001b[1;32m     53\u001b[0m         \u001b[0;32melse\u001b[0m\u001b[0;34m:\u001b[0m\u001b[0;34m\u001b[0m\u001b[0;34m\u001b[0m\u001b[0m\n",
            "\u001b[0;32m/usr/local/lib/python3.11/dist-packages/pytorch_forecasting/data/timeseries.py\u001b[0m in \u001b[0;36m__getitem__\u001b[0;34m(self, idx)\u001b[0m\n\u001b[1;32m   2237\u001b[0m         \u001b[0;31m# rescale target\u001b[0m\u001b[0;34m\u001b[0m\u001b[0;34m\u001b[0m\u001b[0m\n\u001b[0;32m-> 2238\u001b[0;31m         \u001b[0;32mfor\u001b[0m \u001b[0midx\u001b[0m\u001b[0;34m,\u001b[0m \u001b[0mtarget_normalizer\u001b[0m \u001b[0;32min\u001b[0m \u001b[0menumerate\u001b[0m\u001b[0;34m(\u001b[0m\u001b[0mself\u001b[0m\u001b[0;34m.\u001b[0m\u001b[0mtarget_normalizers\u001b[0m\u001b[0;34m)\u001b[0m\u001b[0;34m:\u001b[0m\u001b[0;34m\u001b[0m\u001b[0;34m\u001b[0m\u001b[0m\n\u001b[0m\u001b[1;32m   2239\u001b[0m             \u001b[0;32mif\u001b[0m \u001b[0misinstance\u001b[0m\u001b[0;34m(\u001b[0m\u001b[0mtarget_normalizer\u001b[0m\u001b[0;34m,\u001b[0m \u001b[0mEncoderNormalizer\u001b[0m\u001b[0;34m)\u001b[0m\u001b[0;34m:\u001b[0m\u001b[0;34m\u001b[0m\u001b[0;34m\u001b[0m\u001b[0m\n",
            "\u001b[0;32m/usr/local/lib/python3.11/dist-packages/pytorch_forecasting/data/timeseries.py\u001b[0m in \u001b[0;36mtarget_normalizers\u001b[0;34m(self)\u001b[0m\n\u001b[1;32m   1578\u001b[0m \u001b[0;34m\u001b[0m\u001b[0m\n\u001b[0;32m-> 1579\u001b[0;31m     \u001b[0;34m@\u001b[0m\u001b[0mproperty\u001b[0m\u001b[0;34m\u001b[0m\u001b[0;34m\u001b[0m\u001b[0m\n\u001b[0m\u001b[1;32m   1580\u001b[0m     \u001b[0;32mdef\u001b[0m \u001b[0mtarget_normalizers\u001b[0m\u001b[0;34m(\u001b[0m\u001b[0mself\u001b[0m\u001b[0;34m)\u001b[0m \u001b[0;34m->\u001b[0m \u001b[0mList\u001b[0m\u001b[0;34m[\u001b[0m\u001b[0mTorchNormalizer\u001b[0m\u001b[0;34m]\u001b[0m\u001b[0;34m:\u001b[0m\u001b[0;34m\u001b[0m\u001b[0;34m\u001b[0m\u001b[0m\n",
            "\u001b[0;31mKeyboardInterrupt\u001b[0m: ",
            "\nDuring handling of the above exception, another exception occurred:\n",
            "\u001b[0;31mNameError\u001b[0m                                 Traceback (most recent call last)",
            "\u001b[0;32m<ipython-input-39-06e605bfb8f8>\u001b[0m in \u001b[0;36m<cell line: 0>\u001b[0;34m()\u001b[0m\n\u001b[0;32m----> 1\u001b[0;31m trainer.fit(\n\u001b[0m\u001b[1;32m      2\u001b[0m     \u001b[0mtft\u001b[0m\u001b[0;34m,\u001b[0m\u001b[0;34m\u001b[0m\u001b[0;34m\u001b[0m\u001b[0m\n\u001b[1;32m      3\u001b[0m     \u001b[0mtrain_dataloaders\u001b[0m\u001b[0;34m=\u001b[0m\u001b[0mtrain_dataloader\u001b[0m\u001b[0;34m,\u001b[0m\u001b[0;34m\u001b[0m\u001b[0;34m\u001b[0m\u001b[0m\n\u001b[1;32m      4\u001b[0m     \u001b[0mval_dataloaders\u001b[0m\u001b[0;34m=\u001b[0m\u001b[0mval_dataloader\u001b[0m\u001b[0;34m,\u001b[0m\u001b[0;34m\u001b[0m\u001b[0;34m\u001b[0m\u001b[0m\n\u001b[1;32m      5\u001b[0m )\n",
            "\u001b[0;32m/usr/local/lib/python3.11/dist-packages/lightning/pytorch/trainer/trainer.py\u001b[0m in \u001b[0;36mfit\u001b[0;34m(self, model, train_dataloaders, val_dataloaders, datamodule, ckpt_path)\u001b[0m\n\u001b[1;32m    559\u001b[0m         \u001b[0mself\u001b[0m\u001b[0;34m.\u001b[0m\u001b[0mtraining\u001b[0m \u001b[0;34m=\u001b[0m \u001b[0;32mTrue\u001b[0m\u001b[0;34m\u001b[0m\u001b[0;34m\u001b[0m\u001b[0m\n\u001b[1;32m    560\u001b[0m         \u001b[0mself\u001b[0m\u001b[0;34m.\u001b[0m\u001b[0mshould_stop\u001b[0m \u001b[0;34m=\u001b[0m \u001b[0;32mFalse\u001b[0m\u001b[0;34m\u001b[0m\u001b[0;34m\u001b[0m\u001b[0m\n\u001b[0;32m--> 561\u001b[0;31m         call._call_and_handle_interrupt(\n\u001b[0m\u001b[1;32m    562\u001b[0m             \u001b[0mself\u001b[0m\u001b[0;34m,\u001b[0m \u001b[0mself\u001b[0m\u001b[0;34m.\u001b[0m\u001b[0m_fit_impl\u001b[0m\u001b[0;34m,\u001b[0m \u001b[0mmodel\u001b[0m\u001b[0;34m,\u001b[0m \u001b[0mtrain_dataloaders\u001b[0m\u001b[0;34m,\u001b[0m \u001b[0mval_dataloaders\u001b[0m\u001b[0;34m,\u001b[0m \u001b[0mdatamodule\u001b[0m\u001b[0;34m,\u001b[0m \u001b[0mckpt_path\u001b[0m\u001b[0;34m\u001b[0m\u001b[0;34m\u001b[0m\u001b[0m\n\u001b[1;32m    563\u001b[0m         )\n",
            "\u001b[0;32m/usr/local/lib/python3.11/dist-packages/lightning/pytorch/trainer/call.py\u001b[0m in \u001b[0;36m_call_and_handle_interrupt\u001b[0;34m(trainer, trainer_fn, *args, **kwargs)\u001b[0m\n\u001b[1;32m     63\u001b[0m         \u001b[0;32mif\u001b[0m \u001b[0misinstance\u001b[0m\u001b[0;34m(\u001b[0m\u001b[0mlauncher\u001b[0m\u001b[0;34m,\u001b[0m \u001b[0m_SubprocessScriptLauncher\u001b[0m\u001b[0;34m)\u001b[0m\u001b[0;34m:\u001b[0m\u001b[0;34m\u001b[0m\u001b[0;34m\u001b[0m\u001b[0m\n\u001b[1;32m     64\u001b[0m             \u001b[0mlauncher\u001b[0m\u001b[0;34m.\u001b[0m\u001b[0mkill\u001b[0m\u001b[0;34m(\u001b[0m\u001b[0m_get_sigkill_signal\u001b[0m\u001b[0;34m(\u001b[0m\u001b[0;34m)\u001b[0m\u001b[0;34m)\u001b[0m\u001b[0;34m\u001b[0m\u001b[0;34m\u001b[0m\u001b[0m\n\u001b[0;32m---> 65\u001b[0;31m         \u001b[0mexit\u001b[0m\u001b[0;34m(\u001b[0m\u001b[0;36m1\u001b[0m\u001b[0;34m)\u001b[0m\u001b[0;34m\u001b[0m\u001b[0;34m\u001b[0m\u001b[0m\n\u001b[0m\u001b[1;32m     66\u001b[0m \u001b[0;34m\u001b[0m\u001b[0m\n\u001b[1;32m     67\u001b[0m     \u001b[0;32mexcept\u001b[0m \u001b[0mBaseException\u001b[0m \u001b[0;32mas\u001b[0m \u001b[0mexception\u001b[0m\u001b[0;34m:\u001b[0m\u001b[0;34m\u001b[0m\u001b[0;34m\u001b[0m\u001b[0m\n",
            "\u001b[0;31mNameError\u001b[0m: name 'exit' is not defined"
          ]
        }
      ]
    },
    {
      "cell_type": "markdown",
      "metadata": {
        "id": "6bfoJGyFjSnt"
      },
      "source": [
        "# **GRU MODEL**"
      ]
    },
    {
      "cell_type": "code",
      "execution_count": null,
      "metadata": {
        "id": "e1YIhDjYjSnt"
      },
      "outputs": [],
      "source": [
        "X_G=X\n",
        "Y_G=Y\n",
        "print(X.shape)\n",
        "st_time='2018-01-01'\n",
        "X_G"
      ]
    },
    {
      "cell_type": "code",
      "execution_count": null,
      "metadata": {
        "id": "QYw7pG4WjSnu"
      },
      "outputs": [],
      "source": [
        "from sklearn.preprocessing import MinMaxScaler"
      ]
    },
    {
      "cell_type": "code",
      "source": [
        "X_G"
      ],
      "metadata": {
        "id": "58_zYPPZjSnu"
      },
      "execution_count": null,
      "outputs": []
    },
    {
      "cell_type": "code",
      "execution_count": null,
      "metadata": {
        "id": "HbB5mnL-jSnu"
      },
      "outputs": [],
      "source": [
        "#normalizing the data\n",
        "scaler = MinMaxScaler()\n",
        "# Convert Series to DataFrame\n",
        "Y_G = Y_G.to_frame()\n",
        "X_G=pd.concat([X_G,Y_G],axis=1)\n",
        "\n",
        "scaled_values = scaler.fit_transform(X_G)\n",
        "scaled_values.shape\n"
      ]
    },
    {
      "cell_type": "code",
      "source": [
        "X_G\n",
        "features_col=X_G.columns\n",
        "print(features_col)"
      ],
      "metadata": {
        "id": "gDQq30QCjSnu"
      },
      "execution_count": null,
      "outputs": []
    },
    {
      "cell_type": "code",
      "source": [
        "Y_G"
      ],
      "metadata": {
        "id": "CxxIYJisjSnu"
      },
      "execution_count": null,
      "outputs": []
    },
    {
      "cell_type": "code",
      "execution_count": null,
      "metadata": {
        "id": "z0DIDOVCjSnu"
      },
      "outputs": [],
      "source": [
        "figure, axes = plt.subplots(len(X_G.columns),1,figsize=(20, 20))\n",
        "start_time = pd.to_datetime('2018-01-01')\n",
        "end_time = pd.to_datetime('2018-12-31')\n",
        "\n",
        "for ax,col in zip(axes,X_G.columns):\n",
        "    ax.plot(X_G[col])\n",
        "    ax.set_title(col)\n",
        "    ax.axes.xaxis.set_visible(True)\n",
        "\n",
        "\n",
        "plt.tight_layout()\n",
        "plt.show()\n"
      ]
    },
    {
      "cell_type": "code",
      "source": [
        "import numpy as np\n",
        "\n",
        "def create_sequence(data, window_size):\n",
        "    X = []\n",
        "    y = []\n",
        "    for i in range(window_size, len(data)):\n",
        "        # Use numpy slicing instead of iloc\n",
        "        X.append(data[i-window_size:i])  # Use array slicing\n",
        "        y.append(data[i])  # Target value for this sequence\n",
        "    return np.array(X), np.array(y)\n",
        "\n",
        "X_G_scaled, Y_G_scaled = create_sequence(scaled_values, 60)\n",
        "\n",
        "# Print the first sequence and corresponding target\n",
        "\n"
      ],
      "metadata": {
        "id": "QNC3FY_xjSnu"
      },
      "execution_count": null,
      "outputs": []
    },
    {
      "cell_type": "code",
      "source": [
        "X_G_scaled.shape"
      ],
      "metadata": {
        "id": "cnjXIzzTjSnu"
      },
      "execution_count": null,
      "outputs": []
    },
    {
      "cell_type": "code",
      "source": [
        "X_G_scaled.shape[1], X_G_scaled.shape[2]"
      ],
      "metadata": {
        "id": "elB3F0XOjSnv"
      },
      "execution_count": null,
      "outputs": []
    },
    {
      "cell_type": "code",
      "source": [
        "Y_G_scaled.shape"
      ],
      "metadata": {
        "id": "p_jdU6q4jSnv"
      },
      "execution_count": null,
      "outputs": []
    },
    {
      "cell_type": "code",
      "source": [
        "from sklearn.model_selection import train_test_split\n",
        "\n",
        "X_train_G, X_test_G, y_train_G, y_test_G = train_test_split(X_G_scaled, Y_G_scaled, test_size = 0.2, random_state=42,shuffle=False)\n",
        "X_train_G.shape, y_train_G.shape, X_test_G.shape, y_test_G.shape"
      ],
      "metadata": {
        "id": "uQSoGOmzjSnv"
      },
      "execution_count": null,
      "outputs": []
    },
    {
      "cell_type": "code",
      "source": [
        "Y_G_scaled"
      ],
      "metadata": {
        "id": "QazeCKvTjSnv"
      },
      "execution_count": null,
      "outputs": []
    },
    {
      "cell_type": "code",
      "source": [
        "X_test_G.size"
      ],
      "metadata": {
        "id": "s4J5Dj5rjSnv"
      },
      "execution_count": null,
      "outputs": []
    },
    {
      "cell_type": "code",
      "source": [
        "\n",
        "y_test_G=scaler.inverse_transform(y_test_G)\n"
      ],
      "metadata": {
        "id": "s0ym4JFgjSnv"
      },
      "execution_count": null,
      "outputs": []
    },
    {
      "cell_type": "code",
      "source": [
        "y_test_G"
      ],
      "metadata": {
        "id": "2jo-4r5sjSnv"
      },
      "execution_count": null,
      "outputs": []
    },
    {
      "cell_type": "code",
      "source": [
        "X_test_G.shape"
      ],
      "metadata": {
        "id": "rB_6Y_tJjSnv"
      },
      "execution_count": null,
      "outputs": []
    },
    {
      "cell_type": "code",
      "source": [
        "X_train_G.shape"
      ],
      "metadata": {
        "id": "SRh3LRLNjSnv"
      },
      "execution_count": null,
      "outputs": []
    },
    {
      "cell_type": "code",
      "source": [
        "import torch\n",
        "import torch.nn as nn\n",
        "from torch.utils.data import Dataset, DataLoader"
      ],
      "metadata": {
        "id": "sF2nYMW9jSnv"
      },
      "execution_count": null,
      "outputs": []
    },
    {
      "cell_type": "code",
      "source": [
        "class TabulerDataset(Dataset):\n",
        "  def __init__(self ,X,y):\n",
        "    self.X=torch.tensor(X,dtype=torch.float32)\n",
        "    self.y=torch.tensor(y,dtype=torch.float32)\n",
        "  def __len__(self):\n",
        "    return len(self.X)\n",
        "  def __getitem__(self,idx):\n",
        "    return self.X[idx],self.y[idx]"
      ],
      "metadata": {
        "id": "VwIRULykjSnv"
      },
      "execution_count": null,
      "outputs": []
    },
    {
      "cell_type": "code",
      "source": [
        "loader=TabulerDataset(X_train_G,y_train_G)\n",
        "\n",
        "dataloader=DataLoader(loader,batch_size=60,shuffle=False);"
      ],
      "metadata": {
        "id": "_xu4Jc_YjSnw"
      },
      "execution_count": null,
      "outputs": []
    },
    {
      "cell_type": "code",
      "source": [
        "len(dataloader)"
      ],
      "metadata": {
        "id": "hsg86DgXjSnw"
      },
      "execution_count": null,
      "outputs": []
    },
    {
      "cell_type": "code",
      "source": [
        "\n",
        "iterator = iter(dataloader)\n",
        "X_batch, y_batch = next(iterator)\n",
        "\n",
        "print(X_batch.shape)\n",
        "print(y_batch.shape)"
      ],
      "metadata": {
        "id": "Re7QOcy5jSnw"
      },
      "execution_count": null,
      "outputs": []
    },
    {
      "cell_type": "code",
      "source": [
        "device='cuda' if torch.cuda.is_available() else 'cpu'\n",
        "device"
      ],
      "metadata": {
        "id": "Fw1aMYQZjSnw"
      },
      "execution_count": null,
      "outputs": []
    },
    {
      "cell_type": "code",
      "source": [
        "class GRUblock(nn.Module):\n",
        "  def __init__(self,input_size,hidden_size,num_layers):\n",
        "    super(GRUblock,self).__init__()\n",
        "    self.hidden_size=hidden_size\n",
        "    self.num_layers=num_layers\n",
        "    self.input_size=input_size\n",
        "    self.gru1=nn.GRU(input_size, hidden_size, num_layers=1)\n",
        "    self.gru2=nn.GRU(hidden_size, hidden_size, num_layers=1)\n",
        "    self.fc=nn.Linear(hidden_size,9)\n",
        "  def forward(self,x):\n",
        "    h0=torch.zeros(self.num_layers,x.size(0),self.hidden_size).to(device)\n",
        "\n",
        "\n",
        "    h1=torch.zeros(self.num_layers,x.size(0),self.hidden_size).to(device)\n",
        "\n",
        "\n",
        "    x=x.to(device)\n",
        "    out,(h1)=self.gru1(x,(h0))\n",
        "    out,(h1)=self.gru2(out,(h1))\n",
        "    out=self.fc(out[: ,-1 , :])\n",
        "    return out\n",
        "\n"
      ],
      "metadata": {
        "id": "4RFvZq1ajSnw"
      },
      "execution_count": null,
      "outputs": []
    },
    {
      "cell_type": "code",
      "source": [
        "X_train_G.shape"
      ],
      "metadata": {
        "id": "wHMnWh2WjSnw"
      },
      "execution_count": null,
      "outputs": []
    },
    {
      "cell_type": "code",
      "source": [
        "gru=GRUblock(X_train_G.shape[2],64,1).to(device)\n",
        "loss_fn=nn.MSELoss()\n",
        "optimizer=torch.optim.Adam(gru.parameters(),lr=0.001)"
      ],
      "metadata": {
        "id": "RTHZd8WJjSnw"
      },
      "execution_count": null,
      "outputs": []
    },
    {
      "cell_type": "code",
      "source": [
        "def train_gru(model,dataloader,loss_fn,optimizer,device,epochs):\n",
        "  for epochs in range(epochs):\n",
        "    total_loss=0\n",
        "    for i,(X_batch,y_batch) in enumerate(dataloader):\n",
        "      if(i==len(dataloader)-1):\n",
        "        break\n",
        "      X_batch=X_batch.to(device)\n",
        "      y_batch=y_batch.to(device)\n",
        "\n",
        "      y_pred=model(X_batch)\n",
        "\n",
        "      loss=loss_fn(y_pred,y_batch)\n",
        "      optimizer.zero_grad()\n",
        "      loss.backward()\n",
        "      optimizer.step()\n",
        "      total_loss+=loss\n",
        "    avg_loss=total_loss/len(dataloader)\n",
        "    print(f'The avg loss in EPOCH:{epochs} is {avg_loss}')\n",
        "\n"
      ],
      "metadata": {
        "id": "SzUmREFwjSnw"
      },
      "execution_count": null,
      "outputs": []
    },
    {
      "cell_type": "code",
      "source": [
        "# train_gru(gru,dataloader,loss_fn,optimizer,device,30)"
      ],
      "metadata": {
        "id": "sEeWzPzKjSnw"
      },
      "execution_count": null,
      "outputs": []
    },
    {
      "cell_type": "code",
      "source": [
        "# torch.save(gru.state_dict(),'/content/drive/MyDrive/XAI /Other data/SAVEDMODEL PV/gru_model.pt')"
      ],
      "metadata": {
        "id": "1n71rAtKjSnw"
      },
      "execution_count": null,
      "outputs": []
    },
    {
      "cell_type": "code",
      "source": [
        "model_gru=GRUblock(X_train_G.shape[2],64,1).to(device)\n",
        "model_gru.load_state_dict(torch.load('/content/drive/MyDrive/XAI /Other data/SAVEDMODEL PV/gru_model.pt'))\n",
        "model_gru.eval()"
      ],
      "metadata": {
        "id": "etRWf_JFjSnw"
      },
      "execution_count": null,
      "outputs": []
    },
    {
      "cell_type": "code",
      "source": [
        "X_test_G.shape"
      ],
      "metadata": {
        "id": "pFXKzlK4jSnw"
      },
      "execution_count": null,
      "outputs": []
    },
    {
      "cell_type": "code",
      "source": [
        "y_test_G.shape"
      ],
      "metadata": {
        "id": "SGSSBSMxjSnw"
      },
      "execution_count": null,
      "outputs": []
    },
    {
      "cell_type": "code",
      "source": [
        "test_loader=TabulerDataset(X_test_G,y_test_G)\n",
        "test_loader=DataLoader(test_loader,batch_size=60,shuffle=False)\n"
      ],
      "metadata": {
        "id": "0OMJ8niAjSnw"
      },
      "execution_count": null,
      "outputs": []
    },
    {
      "cell_type": "code",
      "source": [
        "len(test_loader)"
      ],
      "metadata": {
        "id": "Ll460XU4jSnw"
      },
      "execution_count": null,
      "outputs": []
    },
    {
      "cell_type": "code",
      "source": [
        "gru.eval()\n",
        "cou=0\n",
        "predicted=[]\n",
        "with torch.no_grad():\n",
        "    for i, (X_batch, y_batch) in enumerate(test_loader):\n",
        "        if i == (len(test_loader) - 1):\n",
        "          continue\n",
        "        X_batch = X_batch.to(device)\n",
        "        yPred = model_gru(X_batch)\n",
        "        predicted.append(yPred.cpu().numpy())\n",
        "\n",
        "\n"
      ],
      "metadata": {
        "id": "i4r78SyOjSnw"
      },
      "execution_count": null,
      "outputs": []
    },
    {
      "cell_type": "code",
      "source": [
        "\n",
        "predicted=np.array(predicted)"
      ],
      "metadata": {
        "id": "A1EllTCDjSnw"
      },
      "execution_count": null,
      "outputs": []
    },
    {
      "cell_type": "code",
      "source": [
        "predicted.shape"
      ],
      "metadata": {
        "id": "GJUXKvmhjSnx"
      },
      "execution_count": null,
      "outputs": []
    },
    {
      "cell_type": "code",
      "source": [
        "predicted=predicted.reshape(-1,9)\n",
        "predicted.shape"
      ],
      "metadata": {
        "id": "JUIUyHAGjSnx"
      },
      "execution_count": null,
      "outputs": []
    },
    {
      "cell_type": "code",
      "source": [
        "yPredDF = pd.DataFrame(predicted)\n",
        "y_pred_inv_df_gru =yPredDF\n",
        "y_pred_inv_df_gru.columns=X_G.columns\n",
        "\n",
        "\n"
      ],
      "metadata": {
        "id": "J-2TPpFLjSnx"
      },
      "execution_count": null,
      "outputs": []
    },
    {
      "cell_type": "code",
      "source": [
        "y_pred_inv_df_gru=scaler.inverse_transform(y_pred_inv_df_gru)"
      ],
      "metadata": {
        "id": "7MLfjzARjSnx"
      },
      "execution_count": null,
      "outputs": []
    },
    {
      "cell_type": "code",
      "source": [
        "y_pred_inv_df_gru=pd.DataFrame(y_pred_inv_df_gru)\n",
        "y_pred_inv_df_gru.columns=X_G.columns"
      ],
      "metadata": {
        "id": "HI9hCncqjSnx"
      },
      "execution_count": null,
      "outputs": []
    },
    {
      "cell_type": "code",
      "source": [
        "y_pred_inv_df_gru.shape"
      ],
      "metadata": {
        "id": "7xpPT4chjSnx"
      },
      "execution_count": null,
      "outputs": []
    },
    {
      "cell_type": "code",
      "source": [
        "y_test_G.shape"
      ],
      "metadata": {
        "id": "zuWseSE4jSnx"
      },
      "execution_count": null,
      "outputs": []
    },
    {
      "cell_type": "code",
      "source": [
        "# Trim index so its length becomes exactly 39300\n",
        "trimmed_index = X_G.index[-len(y_test_G):][:-44]\n",
        "\n",
        "# Now assign this to prediction DataFrame\n",
        "y_pred_inv_df_gru.index = trimmed_index"
      ],
      "metadata": {
        "id": "yrGN5ekNjSnx"
      },
      "execution_count": null,
      "outputs": []
    },
    {
      "cell_type": "code",
      "source": [
        "y_pred_inv_df_gru"
      ],
      "metadata": {
        "id": "l0jkg1-djSnx"
      },
      "execution_count": null,
      "outputs": []
    },
    {
      "cell_type": "code",
      "source": [
        "y_test_G=pd.DataFrame(y_test_G)\n",
        "y_test_G.columns=X_G.columns\n",
        "y_test_G=y_test_G[:-44]\n",
        "y_test_G.index=trimmed_index\n",
        "y_test_G"
      ],
      "metadata": {
        "id": "6-O3pKOujSnx"
      },
      "execution_count": null,
      "outputs": []
    },
    {
      "cell_type": "code",
      "source": [
        "def mean_squared_error(y_true,y_pred):\n",
        "  return np.mean((y_true-y_pred)**2)\n",
        "\n",
        "def mean_absolute_error(y_true,y_pred):\n",
        "  return np.mean(np.abs(y_true-y_pred))\n",
        "\n",
        "def root_mean_squared_error(y_true,y_pred):\n",
        "  return np.sqrt(mean_squared_error(y_true,y_pred))\n"
      ],
      "metadata": {
        "id": "hiSWvyWUtXSz"
      },
      "execution_count": null,
      "outputs": []
    },
    {
      "cell_type": "code",
      "source": [
        "mse_g=mean_squared_error(y_test_G['Energy delta[MWh]'],y_pred_inv_df_gru['Energy delta[MWh]']);\n",
        "mae_g=mean_absolute_error(y_test_G['Energy delta[MWh]'],y_pred_inv_df_gru['Energy delta[MWh]']);\n",
        "rmse_g=root_mean_squared_error(y_test_G['Energy delta[MWh]'],y_pred_inv_df_gru['Energy delta[MWh]']);\n",
        "print(f'MSE:{mse_g}\\nMAE:{mae_g}\\nRMSE:{rmse_g}')\n",
        "plt.figure(figsize=(10, 6))\n",
        "errors={'MSE' : mse_g , 'MAE' : mae_g ,'RMSE' : rmse_g }\n",
        "plt.bar(errors.keys(),errors.values() , color=['blue', 'orange', 'green']);\n",
        "plt.xlabel('Errors')\n",
        "plt.yscale('log')  # Apply log scale to y-axis\n",
        "plt.ylabel('Error (log scale)')\n",
        "plt.title('Errors')\n",
        "plt.show()\n"
      ],
      "metadata": {
        "id": "NVSalEmutxo3"
      },
      "execution_count": null,
      "outputs": []
    },
    {
      "cell_type": "code",
      "source": [
        "fig ,axes=plt.subplots(len(y_pred_inv_df_gru.columns),1,figsize=(20,20))\n",
        "for ax,col in zip(axes,y_pred_inv_df_gru.columns):\n",
        "    ax.plot(y_test_G[col],color='red',label=f'Actual {col}')\n",
        "    ax.plot(y_pred_inv_df_gru[col],color='blue',label=f'Predicted {col}')\n",
        "    ax.legend()\n",
        "    ax.set_title(col)\n",
        "    ax.set_title(col)\n",
        "\n",
        "plt.tight_layout()\n",
        "plt.show()\n"
      ],
      "metadata": {
        "id": "opJeRi5cjSnx"
      },
      "execution_count": null,
      "outputs": []
    },
    {
      "cell_type": "markdown",
      "metadata": {
        "id": "I2W1Z800Yyk-"
      },
      "source": [
        "# **LSTM MODEL**"
      ]
    },
    {
      "cell_type": "code",
      "execution_count": null,
      "metadata": {
        "id": "tNghuaCRdzrI"
      },
      "outputs": [],
      "source": [
        "X_L=X\n",
        "Y_L=Y\n",
        "print(X.shape)\n",
        "st_time='2018-01-01'\n",
        "X_L"
      ]
    },
    {
      "cell_type": "code",
      "execution_count": null,
      "metadata": {
        "id": "Dkx2XhsCS84n"
      },
      "outputs": [],
      "source": [
        "from sklearn.preprocessing import MinMaxScaler"
      ]
    },
    {
      "cell_type": "code",
      "source": [
        "X_L"
      ],
      "metadata": {
        "id": "lQIdVJp05vCy"
      },
      "execution_count": null,
      "outputs": []
    },
    {
      "cell_type": "code",
      "execution_count": null,
      "metadata": {
        "id": "KVz86o3RS_Fs"
      },
      "outputs": [],
      "source": [
        "#normalizing the data\n",
        "scaler = MinMaxScaler()\n",
        "# Convert Series to DataFrame\n",
        "Y_L = Y_L.to_frame()\n",
        "X_L=pd.concat([X_L,Y_L],axis=1)\n",
        "\n",
        "scaled_values = scaler.fit_transform(X_L)\n",
        "scaled_values.shape\n"
      ]
    },
    {
      "cell_type": "code",
      "source": [
        "X_L\n",
        "features_col=X_L.columns\n",
        "print(features_col)"
      ],
      "metadata": {
        "id": "Ruol06TeeooP"
      },
      "execution_count": null,
      "outputs": []
    },
    {
      "cell_type": "code",
      "source": [
        "Y_L"
      ],
      "metadata": {
        "id": "GBmISn9oaVp6"
      },
      "execution_count": null,
      "outputs": []
    },
    {
      "cell_type": "code",
      "execution_count": null,
      "metadata": {
        "id": "yi1_6tTtTDRy"
      },
      "outputs": [],
      "source": [
        "figure, axes = plt.subplots(len(X_L.columns),1,figsize=(20, 20))\n",
        "start_time = pd.to_datetime('2018-01-01')\n",
        "end_time = pd.to_datetime('2018-12-31')\n",
        "\n",
        "for ax,col in zip(axes,X_L.columns):\n",
        "    ax.plot(X_L[col])\n",
        "    ax.set_title(col)\n",
        "    ax.axes.xaxis.set_visible(True)\n",
        "\n",
        "\n",
        "plt.tight_layout()\n",
        "plt.show()\n"
      ]
    },
    {
      "cell_type": "code",
      "source": [
        "import numpy as np\n",
        "\n",
        "def create_sequence(data, window_size):\n",
        "    X = []\n",
        "    y = []\n",
        "    for i in range(window_size, len(data)):\n",
        "        # Use numpy slicing instead of iloc\n",
        "        X.append(data[i-window_size:i])  # Use array slicing\n",
        "        y.append(data[i])  # Target value for this sequence\n",
        "    return np.array(X), np.array(y)\n",
        "\n",
        "X_L_scaled, Y_L_scaled = create_sequence(scaled_values, 60)\n",
        "\n",
        "# Print the first sequence and corresponding target\n",
        "\n"
      ],
      "metadata": {
        "id": "V8dA84g8-7yT"
      },
      "execution_count": null,
      "outputs": []
    },
    {
      "cell_type": "code",
      "source": [
        "X_L_scaled.shape"
      ],
      "metadata": {
        "id": "YwKIwRIdjAvz"
      },
      "execution_count": null,
      "outputs": []
    },
    {
      "cell_type": "code",
      "source": [
        "X_L_scaled.shape[1], X_L_scaled.shape[2]"
      ],
      "metadata": {
        "id": "HuK8SRbtyKtd"
      },
      "execution_count": null,
      "outputs": []
    },
    {
      "cell_type": "code",
      "source": [
        "Y_L_scaled.shape"
      ],
      "metadata": {
        "id": "iB8GwiKDyPg7"
      },
      "execution_count": null,
      "outputs": []
    },
    {
      "cell_type": "code",
      "source": [
        "#train-test-split\n",
        "\n",
        "X_train_L, X_test_L, y_train_L, y_test_L = train_test_split(X_L_scaled, Y_L_scaled, test_size = 0.2, random_state=42,shuffle=False)\n",
        "X_train_L.shape, y_train_L.shape, X_test_L.shape, y_test_L.shape"
      ],
      "metadata": {
        "id": "nDtE5LLjAJxH"
      },
      "execution_count": null,
      "outputs": []
    },
    {
      "cell_type": "code",
      "source": [
        "Y_L_scaled"
      ],
      "metadata": {
        "id": "HfMo-MZWuWuO"
      },
      "execution_count": null,
      "outputs": []
    },
    {
      "cell_type": "code",
      "source": [
        "X_test_L.size"
      ],
      "metadata": {
        "id": "n_XbVgok2yT_"
      },
      "execution_count": null,
      "outputs": []
    },
    {
      "cell_type": "code",
      "source": [
        "\n",
        "y_test_L=scaler.inverse_transform(y_test_L)\n"
      ],
      "metadata": {
        "id": "4HNxoN8T2IBz"
      },
      "execution_count": null,
      "outputs": []
    },
    {
      "cell_type": "code",
      "source": [
        "y_test_L"
      ],
      "metadata": {
        "id": "h1M3t2EytQjB"
      },
      "execution_count": null,
      "outputs": []
    },
    {
      "cell_type": "code",
      "source": [
        "X_test_L.shape"
      ],
      "metadata": {
        "id": "ZkvGlk5p2sLP"
      },
      "execution_count": null,
      "outputs": []
    },
    {
      "cell_type": "code",
      "source": [
        "X_train_L.shape"
      ],
      "metadata": {
        "id": "X-j3LPMtiBZo"
      },
      "execution_count": null,
      "outputs": []
    },
    {
      "cell_type": "code",
      "source": [
        "import torch\n",
        "import torch.nn as nn\n",
        "from torch.utils.data import Dataset, DataLoader"
      ],
      "metadata": {
        "id": "xowTbfiOiLCa"
      },
      "execution_count": null,
      "outputs": []
    },
    {
      "cell_type": "code",
      "source": [
        "class TabulerDataset(Dataset):\n",
        "  def __init__(self ,X,y):\n",
        "    self.X=torch.tensor(X,dtype=torch.float32)\n",
        "    self.y=torch.tensor(y,dtype=torch.float32)\n",
        "  def __len__(self):\n",
        "    return len(self.X)\n",
        "  def __getitem__(self,idx):\n",
        "    return self.X[idx],self.y[idx]"
      ],
      "metadata": {
        "id": "IhbLrsptifyn"
      },
      "execution_count": null,
      "outputs": []
    },
    {
      "cell_type": "code",
      "source": [
        "loader=TabulerDataset(X_train_L,y_train_L)\n",
        "\n",
        "dataloader=DataLoader(loader,batch_size=60,shuffle=False);"
      ],
      "metadata": {
        "id": "dFYDFJg5kcrf"
      },
      "execution_count": null,
      "outputs": []
    },
    {
      "cell_type": "code",
      "source": [
        "len(dataloader)"
      ],
      "metadata": {
        "id": "llvn9kW-LdNO"
      },
      "execution_count": null,
      "outputs": []
    },
    {
      "cell_type": "code",
      "source": [
        "\n",
        "iterator = iter(dataloader)\n",
        "X_batch, y_batch = next(iterator)\n",
        "\n",
        "print(X_batch.shape)\n",
        "print(y_batch.shape)"
      ],
      "metadata": {
        "id": "NZ4GzoDilgN7"
      },
      "execution_count": null,
      "outputs": []
    },
    {
      "cell_type": "code",
      "source": [
        "device='cuda' if torch.cuda.is_available() else 'cpu'\n",
        "device"
      ],
      "metadata": {
        "id": "01tO6qDL2cmW"
      },
      "execution_count": null,
      "outputs": []
    },
    {
      "cell_type": "code",
      "source": [
        "class LSTMblock(nn.Module):\n",
        "  def __init__(self,input_size,hidden_size,num_layers):\n",
        "    super(LSTMblock,self).__init__()\n",
        "    self.hidden_size=hidden_size\n",
        "    self.num_layers=num_layers\n",
        "    self.input_size=input_size\n",
        "    self.lstm1=nn.LSTM(input_size, hidden_size, num_layers=1)\n",
        "    self.lstm2=nn.LSTM(hidden_size, hidden_size, num_layers=1)\n",
        "    self.fc=nn.Linear(hidden_size,9)\n",
        "  def forward(self,x):\n",
        "    h0=torch.zeros(self.num_layers,x.size(0),self.hidden_size).to(device)\n",
        "    c0=torch.zeros(self.num_layers,x.size(0),self.hidden_size).to(device)\n",
        "\n",
        "    h1=torch.zeros(self.num_layers,x.size(0),self.hidden_size).to(device)\n",
        "    c1=torch.zeros(self.num_layers,x.size(0),self.hidden_size).to(device)\n",
        "\n",
        "    x=x.to(device)\n",
        "    out,(h1,c1)=self.lstm1(x,(h0,c0))\n",
        "    out,(h1,c1)=self.lstm2(out,(h1,c1))\n",
        "    out=self.fc(out[: ,-1 , :])\n",
        "    return out\n",
        "\n"
      ],
      "metadata": {
        "id": "N8xWEY1kiHHP"
      },
      "execution_count": null,
      "outputs": []
    },
    {
      "cell_type": "code",
      "source": [
        "X_train_L.shape"
      ],
      "metadata": {
        "id": "XD8NUBk9u-rO"
      },
      "execution_count": null,
      "outputs": []
    },
    {
      "cell_type": "code",
      "source": [
        "lstm=LSTMblock(X_train_L.shape[2],64,1).to(device)\n",
        "loss_fn=nn.MSELoss()\n",
        "optimizer=torch.optim.Adam(lstm.parameters(),lr=0.001)\n"
      ],
      "metadata": {
        "id": "XCzP7PS8uwLc"
      },
      "execution_count": null,
      "outputs": []
    },
    {
      "cell_type": "code",
      "source": [
        "def train_lstm(model,dataloader,loss_fn,optimizer,device,epochs):\n",
        "  for epochs in range(epochs):\n",
        "    total_loss=0\n",
        "    for i,(X_batch,y_batch) in enumerate(dataloader):\n",
        "      if(i==len(dataloader)-1):\n",
        "        break\n",
        "      X_batch=X_batch.to(device)\n",
        "      y_batch=y_batch.to(device)\n",
        "\n",
        "      y_pred=model(X_batch)\n",
        "\n",
        "      loss=loss_fn(y_pred,y_batch)\n",
        "      optimizer.zero_grad()\n",
        "      loss.backward()\n",
        "      optimizer.step()\n",
        "      total_loss+=loss\n",
        "    avg_loss=total_loss/len(dataloader)\n",
        "    print(f'The avg loss in EPOCH:{epochs} is {avg_loss}')\n",
        "\n"
      ],
      "metadata": {
        "id": "Uk9o_xIWAV2a"
      },
      "execution_count": null,
      "outputs": []
    },
    {
      "cell_type": "code",
      "source": [
        "# train_lstm(lstm,dataloader,loss_fn,optimizer,device,30)"
      ],
      "metadata": {
        "id": "LOlSLXZGCUAg"
      },
      "execution_count": null,
      "outputs": []
    },
    {
      "cell_type": "code",
      "source": [
        "# torch.save(lstm.state_dict(),'/content/drive/MyDrive/XAI /Other data/SAVEDMODEL PV/lstm_model')"
      ],
      "metadata": {
        "id": "bnis2cfdZ8T4"
      },
      "execution_count": null,
      "outputs": []
    },
    {
      "cell_type": "code",
      "source": [
        "model_lstm=LSTMblock(X_train_L.shape[2],64,1).to(device)\n",
        "model_lstm.load_state_dict(torch.load('/content/drive/MyDrive/XAI /Other data/SAVEDMODEL PV/lstm_model'))\n",
        "model_lstm.eval()"
      ],
      "metadata": {
        "id": "FxQfYsVdauRT"
      },
      "execution_count": null,
      "outputs": []
    },
    {
      "cell_type": "code",
      "source": [
        "X_test_L.shape"
      ],
      "metadata": {
        "id": "OXcv540PNXy_"
      },
      "execution_count": null,
      "outputs": []
    },
    {
      "cell_type": "code",
      "source": [
        "y_test_L.shape"
      ],
      "metadata": {
        "id": "LArQzI5COGLr"
      },
      "execution_count": null,
      "outputs": []
    },
    {
      "cell_type": "code",
      "source": [
        "test_loader=TabulerDataset(X_test_L,y_test_L)\n",
        "test_loader=DataLoader(test_loader,batch_size=60,shuffle=False)\n"
      ],
      "metadata": {
        "id": "G2O5MM6LGDSd"
      },
      "execution_count": null,
      "outputs": []
    },
    {
      "cell_type": "code",
      "source": [
        "len(test_loader)"
      ],
      "metadata": {
        "id": "uOiWXmdkIkOU"
      },
      "execution_count": null,
      "outputs": []
    },
    {
      "cell_type": "code",
      "source": [
        "lstm.eval()\n",
        "cou=0\n",
        "predicted=[]\n",
        "with torch.no_grad():\n",
        "    for i, (X_batch, y_batch) in enumerate(test_loader):\n",
        "        if i == (len(test_loader) - 1):\n",
        "          continue\n",
        "        X_batch = X_batch.to(device)\n",
        "        yPred = model_lstm(X_batch)\n",
        "        predicted.append(yPred.cpu().numpy())\n",
        "\n",
        "\n"
      ],
      "metadata": {
        "id": "keuU27__iIKl"
      },
      "execution_count": null,
      "outputs": []
    },
    {
      "cell_type": "code",
      "source": [
        "\n",
        "predicted=np.array(predicted)"
      ],
      "metadata": {
        "id": "_Nn06qlzFuXw"
      },
      "execution_count": null,
      "outputs": []
    },
    {
      "cell_type": "code",
      "source": [
        "predicted.shape"
      ],
      "metadata": {
        "id": "Ajk1dJKeIGxM"
      },
      "execution_count": null,
      "outputs": []
    },
    {
      "cell_type": "code",
      "source": [
        "predicted=predicted.reshape(-1,9)\n",
        "predicted.shape"
      ],
      "metadata": {
        "id": "7lKVG8QkUQJG"
      },
      "execution_count": null,
      "outputs": []
    },
    {
      "cell_type": "code",
      "source": [
        "yPredDF = pd.DataFrame(predicted)\n",
        "y_pred_inv_df =yPredDF\n",
        "y_pred_inv_df.columns=X_L.columns\n",
        "\n",
        "\n"
      ],
      "metadata": {
        "id": "PDQuTTAlFsZx"
      },
      "execution_count": null,
      "outputs": []
    },
    {
      "cell_type": "code",
      "source": [
        "y_pred_inv_df=scaler.inverse_transform(y_pred_inv_df)"
      ],
      "metadata": {
        "id": "L7M3PSyVF0B9"
      },
      "execution_count": null,
      "outputs": []
    },
    {
      "cell_type": "code",
      "source": [
        "y_pred_inv_df=pd.DataFrame(y_pred_inv_df)\n",
        "y_pred_inv_df.columns=X_L.columns"
      ],
      "metadata": {
        "id": "kZof1XhjFZ6K"
      },
      "execution_count": null,
      "outputs": []
    },
    {
      "cell_type": "code",
      "source": [
        "y_pred_inv_df.shape"
      ],
      "metadata": {
        "id": "9SR-sTvcgM6i"
      },
      "execution_count": null,
      "outputs": []
    },
    {
      "cell_type": "code",
      "source": [
        "y_test_L.shape"
      ],
      "metadata": {
        "id": "qPoLGJ4lgRYD"
      },
      "execution_count": null,
      "outputs": []
    },
    {
      "cell_type": "code",
      "source": [
        "# Trim index so its length becomes exactly 39300\n",
        "trimmed_index = X_L.index[-len(y_test_L):][:-44]\n",
        "\n",
        "# Now assign this to prediction DataFrame\n",
        "y_pred_inv_df.index = trimmed_index"
      ],
      "metadata": {
        "id": "MXKB0WWlWQ4z"
      },
      "execution_count": null,
      "outputs": []
    },
    {
      "cell_type": "code",
      "source": [
        "y_pred_inv_df"
      ],
      "metadata": {
        "id": "CI1McLc0WYM1"
      },
      "execution_count": null,
      "outputs": []
    },
    {
      "cell_type": "code",
      "source": [
        "y_test_L=pd.DataFrame(y_test_L)\n",
        "y_test_L.columns=X_L.columns\n",
        "y_test_L=y_test_L[:-44]\n",
        "y_test_L.index=trimmed_index\n",
        "y_test_L"
      ],
      "metadata": {
        "id": "UPT7eWmGWk8M"
      },
      "execution_count": null,
      "outputs": []
    },
    {
      "cell_type": "code",
      "source": [
        "def mean_squared_error(y_true,y_pred):\n",
        "  return np.mean((y_true-y_pred)**2)\n",
        "\n",
        "def mean_absolute_error(y_true,y_pred):\n",
        "  return np.mean(np.abs(y_true-y_pred))\n",
        "\n",
        "def root_mean_squared_error(y_true,y_pred):\n",
        "  return np.sqrt(mean_squared_error(y_true,y_pred))\n"
      ],
      "metadata": {
        "id": "cwCgUUX1yF2o"
      },
      "execution_count": null,
      "outputs": []
    },
    {
      "cell_type": "code",
      "source": [
        "mse_l=mean_squared_error(y_test_L['Energy delta[MWh]'],y_pred_inv_df['Energy delta[MWh]']);\n",
        "mae_l=mean_absolute_error(y_test_L['Energy delta[MWh]'],y_pred_inv_df['Energy delta[MWh]']);\n",
        "rmse_l=root_mean_squared_error(y_test_L['Energy delta[MWh]'],y_pred_inv_df['Energy delta[MWh]']);\n",
        "print(f'MSE:{mse_l}\\nMAE:{mae_l}\\nRMSE:{rmse_l}')\n",
        "plt.figure(figsize=(10, 6))\n",
        "errors={'MSE' : mse_l , 'MAE' : mae_l ,'RMSE' : rmse_l }\n",
        "plt.bar(errors.keys(),errors.values() , color=['blue', 'orange', 'green']);\n",
        "plt.xlabel('Errors')\n",
        "plt.yscale('log')  # Apply log scale to y-axis\n",
        "plt.ylabel('Error (log scale)')\n",
        "plt.title('Errors')\n",
        "plt.show()\n"
      ],
      "metadata": {
        "id": "_rUg0fkEyHPX"
      },
      "execution_count": null,
      "outputs": []
    },
    {
      "cell_type": "code",
      "source": [
        "fig ,axes=plt.subplots(len(y_pred_inv_df.columns),1,figsize=(20,20))\n",
        "for ax,col in zip(axes,y_pred_inv_df.columns):\n",
        "    ax.plot(y_test_L[col],color='red',label=f'Actual {col}')\n",
        "    ax.plot(y_pred_inv_df[col],color='blue',label=f'Predicted {col}')\n",
        "    ax.legend()\n",
        "    ax.set_title(col)\n",
        "    ax.set_title(col)\n",
        "\n",
        "plt.tight_layout()\n",
        "plt.show()\n"
      ],
      "metadata": {
        "id": "AQQDEDkoBLAv"
      },
      "execution_count": null,
      "outputs": []
    },
    {
      "cell_type": "markdown",
      "metadata": {
        "id": "9XMyvI4RBCvK"
      },
      "source": [
        "# **TRANSFORMER MODEL**"
      ]
    },
    {
      "cell_type": "code",
      "execution_count": null,
      "metadata": {
        "id": "On_pAYjoBCvL"
      },
      "outputs": [],
      "source": [
        "X_T=X\n",
        "Y_T=Y\n",
        "print(X.shape)\n",
        "st_time='2018-01-01'\n",
        "X_T"
      ]
    },
    {
      "cell_type": "code",
      "execution_count": null,
      "metadata": {
        "id": "k1Dotai3BCvL"
      },
      "outputs": [],
      "source": [
        "from sklearn.preprocessing import MinMaxScaler"
      ]
    },
    {
      "cell_type": "code",
      "source": [
        "X_T"
      ],
      "metadata": {
        "id": "j4g1dVHMBCvL"
      },
      "execution_count": null,
      "outputs": []
    },
    {
      "cell_type": "code",
      "execution_count": null,
      "metadata": {
        "id": "LaUzmtK6BCvL"
      },
      "outputs": [],
      "source": [
        "#normalizing the data\n",
        "scaler = MinMaxScaler()\n",
        "# Convert Series to DataFrame\n",
        "Y_T = Y_T.to_frame()\n",
        "X_T=pd.concat([X_T,Y_T],axis=1)\n",
        "\n",
        "scaled_values = scaler.fit_transform(X_T)\n",
        "scaled_values.shape\n"
      ]
    },
    {
      "cell_type": "code",
      "source": [
        "X_T\n",
        "features_col=X_T.columns\n",
        "print(features_col)"
      ],
      "metadata": {
        "id": "1Tu6lNyFBCvL"
      },
      "execution_count": null,
      "outputs": []
    },
    {
      "cell_type": "code",
      "source": [
        "Y_T"
      ],
      "metadata": {
        "id": "_QMLUg1bBCvL"
      },
      "execution_count": null,
      "outputs": []
    },
    {
      "cell_type": "code",
      "execution_count": null,
      "metadata": {
        "id": "dRdRPXvXBCvL"
      },
      "outputs": [],
      "source": [
        "figure, axes = plt.subplots(len(X_T.columns),1,figsize=(20, 20))\n",
        "start_time = pd.to_datetime('2018-01-01')\n",
        "end_time = pd.to_datetime('2018-12-31')\n",
        "\n",
        "for ax,col in zip(axes,X_T.columns):\n",
        "    ax.plot(X_T[col])\n",
        "    ax.set_title(col)\n",
        "    ax.axes.xaxis.set_visible(True)\n",
        "\n",
        "\n",
        "plt.tight_layout()\n",
        "plt.show()\n"
      ]
    },
    {
      "cell_type": "code",
      "source": [
        "import numpy as np\n",
        "\n",
        "def create_sequence(data, window_size):\n",
        "    X = []\n",
        "    y = []\n",
        "    for i in range(window_size, len(data)):\n",
        "        # Use numpy slicing instead of iloc\n",
        "        X.append(data[i-window_size:i])  # Use array slicing\n",
        "        y.append(data[i])  # Target value for this sequence\n",
        "    return np.array(X), np.array(y)\n",
        "\n",
        "X_T_scaled, Y_T_scaled = create_sequence(scaled_values, 60)\n",
        "\n",
        "# Print the first sequence and corresponding target\n",
        "\n"
      ],
      "metadata": {
        "id": "XedJ1EJ-BCvL"
      },
      "execution_count": null,
      "outputs": []
    },
    {
      "cell_type": "code",
      "source": [
        "X_T_scaled.shape"
      ],
      "metadata": {
        "id": "9O6qfPTaBCvM"
      },
      "execution_count": null,
      "outputs": []
    },
    {
      "cell_type": "code",
      "source": [
        "X_T_scaled.shape[1], X_T_scaled.shape[2]"
      ],
      "metadata": {
        "id": "y0E8hnTyBCvM"
      },
      "execution_count": null,
      "outputs": []
    },
    {
      "cell_type": "code",
      "source": [
        "Y_T_scaled.shape"
      ],
      "metadata": {
        "id": "a1l1FHeFBCvM"
      },
      "execution_count": null,
      "outputs": []
    },
    {
      "cell_type": "code",
      "source": [
        "from sklearn.model_selection import train_test_split\n",
        "\n",
        "X_train_T, X_test_T, y_train_T, y_test_T = train_test_split(X_L_scaled, Y_L_scaled, test_size = 0.2, random_state=42,shuffle=False)\n",
        "X_train_T.shape, y_train_T.shape, X_test_T.shape, y_test_T.shape"
      ],
      "metadata": {
        "id": "YA5zftYkBCvM"
      },
      "execution_count": null,
      "outputs": []
    },
    {
      "cell_type": "code",
      "source": [
        "Y_T_scaled"
      ],
      "metadata": {
        "id": "oODeGwSQBCvM"
      },
      "execution_count": null,
      "outputs": []
    },
    {
      "cell_type": "code",
      "source": [
        "X_test_T.size"
      ],
      "metadata": {
        "id": "NbXc8LbBBCvN"
      },
      "execution_count": null,
      "outputs": []
    },
    {
      "cell_type": "code",
      "source": [
        "\n",
        "y_test_T=scaler.inverse_transform(y_test_T)\n"
      ],
      "metadata": {
        "id": "eAvcOv5kBCvN"
      },
      "execution_count": null,
      "outputs": []
    },
    {
      "cell_type": "code",
      "source": [
        "y_test_T"
      ],
      "metadata": {
        "id": "nLPfYSnOBCvN"
      },
      "execution_count": null,
      "outputs": []
    },
    {
      "cell_type": "code",
      "source": [
        "X_test_T.shape"
      ],
      "metadata": {
        "id": "jYIJr5YrBCvN"
      },
      "execution_count": null,
      "outputs": []
    },
    {
      "cell_type": "code",
      "source": [
        "X_train_T.shape"
      ],
      "metadata": {
        "id": "BM6vA_yZBCvN"
      },
      "execution_count": null,
      "outputs": []
    },
    {
      "cell_type": "code",
      "source": [
        "import torch\n",
        "import torch.nn as nn\n",
        "from torch.utils.data import Dataset, DataLoader"
      ],
      "metadata": {
        "id": "MSKnQuxBBCvN"
      },
      "execution_count": null,
      "outputs": []
    },
    {
      "cell_type": "code",
      "source": [
        "class TabulerDataset(Dataset):\n",
        "  def __init__(self ,X,y):\n",
        "    self.X=torch.tensor(X,dtype=torch.float32)\n",
        "    self.y=torch.tensor(y,dtype=torch.float32)\n",
        "  def __len__(self):\n",
        "    return len(self.X)\n",
        "  def __getitem__(self,idx):\n",
        "    return self.X[idx],self.y[idx]"
      ],
      "metadata": {
        "id": "qsUxwoGFBCvN"
      },
      "execution_count": null,
      "outputs": []
    },
    {
      "cell_type": "code",
      "source": [
        "loader=TabulerDataset(X_train_T,y_train_T)\n",
        "\n",
        "dataloader=DataLoader(loader,batch_size=60,shuffle=False);"
      ],
      "metadata": {
        "id": "x5fLoc0mBCvN"
      },
      "execution_count": null,
      "outputs": []
    },
    {
      "cell_type": "code",
      "source": [
        "len(dataloader)"
      ],
      "metadata": {
        "id": "vIgWnm6jBCvO"
      },
      "execution_count": null,
      "outputs": []
    },
    {
      "cell_type": "code",
      "source": [
        "\n",
        "iterator = iter(dataloader)\n",
        "X_batch, y_batch = next(iterator)\n",
        "\n",
        "print(X_batch.shape)\n",
        "print(y_batch.shape)"
      ],
      "metadata": {
        "id": "4RVOrOZFBCvO"
      },
      "execution_count": null,
      "outputs": []
    },
    {
      "cell_type": "code",
      "source": [
        "device='cuda' if torch.cuda.is_available() else 'cpu'\n",
        "device"
      ],
      "metadata": {
        "id": "XlGokk7MBCvO"
      },
      "execution_count": null,
      "outputs": []
    },
    {
      "cell_type": "code",
      "source": [
        "class PositionalEncoding(nn.Module):\n",
        "    def __init__(self, d_model, dropout=0.1, max_len=5000):\n",
        "        super(PositionalEncoding, self).__init__()\n",
        "        self.dropout = nn.Dropout(p=dropout)\n",
        "\n",
        "        pe = torch.zeros(max_len, d_model)\n",
        "        position = torch.arange(0, max_len, dtype=torch.float).unsqueeze(1)\n",
        "        div_term = torch.exp(torch.arange(0, d_model, 2).float() * (-np.log(10000.0) / d_model))\n",
        "        pe[:, 0::2] = torch.sin(position * div_term)\n",
        "        pe[:, 1::2] = torch.cos(position * div_term)\n",
        "        pe = pe.unsqueeze(0).transpose(0, 1)\n",
        "        self.register_buffer('pe', pe)\n",
        "\n",
        "    def forward(self, x):\n",
        "        x = x + self.pe[:x.size(0), :]\n",
        "        return self.dropout(x)"
      ],
      "metadata": {
        "id": "Bm9THi5lBCvO"
      },
      "execution_count": null,
      "outputs": []
    },
    {
      "cell_type": "code",
      "source": [
        "# Model definition using Transformer\n",
        "class TransformerModel(nn.Module):\n",
        "    def __init__(self, input_dim=9, d_model=60, nhead=4, num_layers=2, dropout=0.2):\n",
        "        super(TransformerModel, self).__init__()\n",
        "\n",
        "        self.encoder = nn.Linear(input_dim, d_model)\n",
        "        self.pos_encoder = PositionalEncoding(d_model, dropout)\n",
        "        encoder_layers = nn.TransformerEncoderLayer(d_model, nhead)\n",
        "        self.transformer_encoder = nn.TransformerEncoder(encoder_layers, num_layers)\n",
        "        self.decoder = nn.Linear(d_model, 9)\n",
        "\n",
        "    def forward(self, x):\n",
        "        x = self.encoder(x)\n",
        "        x = self.pos_encoder(x)\n",
        "        x = self.transformer_encoder(x)\n",
        "        x = self.decoder(x[:, -1, :])\n",
        "        return x\n",
        "\n",
        "transformer = TransformerModel().to(device)"
      ],
      "metadata": {
        "id": "zqc3_w1dCEKi"
      },
      "execution_count": null,
      "outputs": []
    },
    {
      "cell_type": "code",
      "source": [
        "X_train_T.shape"
      ],
      "metadata": {
        "id": "TqHG-_MEBCvO"
      },
      "execution_count": null,
      "outputs": []
    },
    {
      "cell_type": "code",
      "source": [
        "loss_fn=nn.MSELoss()\n",
        "optimizer=torch.optim.Adam(transformer.parameters(),lr=0.001)"
      ],
      "metadata": {
        "id": "4oQ9W1ToBCvO"
      },
      "execution_count": null,
      "outputs": []
    },
    {
      "cell_type": "code",
      "source": [
        "def train_transformer(model,dataloader,loss_fn,optimizer,device,epochs):\n",
        "  for epochs in range(epochs):\n",
        "    total_loss=0\n",
        "    for i,(X_batch,y_batch) in enumerate(dataloader):\n",
        "      if(i==len(dataloader)-1):\n",
        "        break\n",
        "      X_batch=X_batch.to(device)\n",
        "      y_batch=y_batch.to(device)\n",
        "\n",
        "      y_pred=model(X_batch)\n",
        "\n",
        "      loss=loss_fn(y_pred,y_batch)\n",
        "      optimizer.zero_grad()\n",
        "      loss.backward()\n",
        "      optimizer.step()\n",
        "      total_loss+=loss\n",
        "    avg_loss=total_loss/len(dataloader)\n",
        "    print(f'The avg loss in EPOCH:{epochs} is {avg_loss}')\n",
        "\n"
      ],
      "metadata": {
        "id": "pm0zTlaKBCvO"
      },
      "execution_count": null,
      "outputs": []
    },
    {
      "cell_type": "code",
      "source": [
        "# train_transformer(transformer,dataloader,loss_fn,optimizer,device,30)"
      ],
      "metadata": {
        "id": "r3j50FWRBCvO"
      },
      "execution_count": null,
      "outputs": []
    },
    {
      "cell_type": "code",
      "source": [
        "# torch.save(transformer.state_dict(),'/content/drive/MyDrive/XAI /Other data/SAVEDMODEL PV/transformer_model.pt')"
      ],
      "metadata": {
        "id": "2YvyaygZBCvO"
      },
      "execution_count": null,
      "outputs": []
    },
    {
      "cell_type": "code",
      "source": [
        "model_transformer=TransformerModel().to(device)\n",
        "model_transformer.load_state_dict(torch.load('/content/drive/MyDrive/XAI /Other data/SAVEDMODEL PV/transformer_model.pt'))\n",
        "model_transformer.eval()"
      ],
      "metadata": {
        "id": "bWCUddAFBCvO"
      },
      "execution_count": null,
      "outputs": []
    },
    {
      "cell_type": "code",
      "source": [
        "X_test_T.shape"
      ],
      "metadata": {
        "id": "sgKbfWb-BCvO"
      },
      "execution_count": null,
      "outputs": []
    },
    {
      "cell_type": "code",
      "source": [
        "y_test_T.shape"
      ],
      "metadata": {
        "id": "llF6Fl9UBCvO"
      },
      "execution_count": null,
      "outputs": []
    },
    {
      "cell_type": "code",
      "source": [
        "test_loader=TabulerDataset(X_test_T,y_test_T)\n",
        "test_loader=DataLoader(test_loader,batch_size=60,shuffle=False)\n"
      ],
      "metadata": {
        "id": "FhjqzQC1BCvP"
      },
      "execution_count": null,
      "outputs": []
    },
    {
      "cell_type": "code",
      "source": [
        "len(test_loader)"
      ],
      "metadata": {
        "id": "sxmBA7NaBCvP"
      },
      "execution_count": null,
      "outputs": []
    },
    {
      "cell_type": "code",
      "source": [
        "transformer.eval()\n",
        "cou=0\n",
        "predicted=[]\n",
        "with torch.no_grad():\n",
        "    for i, (X_batch, y_batch) in enumerate(test_loader):\n",
        "        if i == (len(test_loader) - 1):\n",
        "          continue\n",
        "        X_batch = X_batch.to(device)\n",
        "        yPred = model_transformer(X_batch)\n",
        "        predicted.append(yPred.cpu().numpy())\n",
        "\n",
        "\n"
      ],
      "metadata": {
        "id": "fr5pKy0WBCvP"
      },
      "execution_count": null,
      "outputs": []
    },
    {
      "cell_type": "code",
      "source": [
        "\n",
        "predicted=np.array(predicted)"
      ],
      "metadata": {
        "id": "SZOwNKh4BCvP"
      },
      "execution_count": null,
      "outputs": []
    },
    {
      "cell_type": "code",
      "source": [
        "predicted.shape"
      ],
      "metadata": {
        "id": "Jg5JcSHwBCvP"
      },
      "execution_count": null,
      "outputs": []
    },
    {
      "cell_type": "code",
      "source": [
        "predicted=predicted.reshape(-1,9)\n",
        "predicted.shape"
      ],
      "metadata": {
        "id": "RxQntp3oBCvP"
      },
      "execution_count": null,
      "outputs": []
    },
    {
      "cell_type": "code",
      "source": [
        "yPredDF = pd.DataFrame(predicted)\n",
        "y_pred_inv_df_t =yPredDF\n",
        "y_pred_inv_df_t.columns=X_T.columns\n",
        "\n",
        "\n"
      ],
      "metadata": {
        "id": "mjkx3umrBCvP"
      },
      "execution_count": null,
      "outputs": []
    },
    {
      "cell_type": "code",
      "source": [
        "y_pred_inv_df_t=scaler.inverse_transform(y_pred_inv_df_t)"
      ],
      "metadata": {
        "id": "StQJNk9aBCvP"
      },
      "execution_count": null,
      "outputs": []
    },
    {
      "cell_type": "code",
      "source": [
        "y_pred_inv_df_t=pd.DataFrame(y_pred_inv_df_t)\n",
        "y_pred_inv_df_t.columns=X_T.columns"
      ],
      "metadata": {
        "id": "pLYv08ooBCvP"
      },
      "execution_count": null,
      "outputs": []
    },
    {
      "cell_type": "code",
      "source": [
        "y_pred_inv_df_t.shape"
      ],
      "metadata": {
        "id": "XVFmbg3RBCvP"
      },
      "execution_count": null,
      "outputs": []
    },
    {
      "cell_type": "code",
      "source": [
        "y_test_T.shape"
      ],
      "metadata": {
        "id": "S2SaXKkYBCvP"
      },
      "execution_count": null,
      "outputs": []
    },
    {
      "cell_type": "code",
      "source": [
        "# Trim index so its length becomes exactly 39300\n",
        "trimmed_index = X_T.index[-len(y_test_T):][:-44]\n",
        "\n",
        "# Now assign this to prediction DataFrame\n",
        "y_pred_inv_df_t.index = trimmed_index"
      ],
      "metadata": {
        "id": "l3NEFsxlBCvP"
      },
      "execution_count": null,
      "outputs": []
    },
    {
      "cell_type": "code",
      "source": [
        "y_pred_inv_df_t"
      ],
      "metadata": {
        "id": "jQ8DGsF4BCvP"
      },
      "execution_count": null,
      "outputs": []
    },
    {
      "cell_type": "code",
      "source": [
        "y_test_T=pd.DataFrame(y_test_T)\n",
        "y_test_T.columns=X_T.columns\n",
        "y_test_T=y_test_T[:-44]\n",
        "y_test_T.index=trimmed_index\n",
        "y_test_T"
      ],
      "metadata": {
        "id": "P-e-MiUYBCvP"
      },
      "execution_count": null,
      "outputs": []
    },
    {
      "cell_type": "code",
      "source": [
        "def mean_squared_error(y_true,y_pred):\n",
        "  return np.mean((y_true-y_pred)**2)\n",
        "\n",
        "def mean_absolute_error(y_true,y_pred):\n",
        "  return np.mean(np.abs(y_true-y_pred))\n",
        "\n",
        "def root_mean_squared_error(y_true,y_pred):\n",
        "  return np.sqrt(mean_squared_error(y_true,y_pred))\n"
      ],
      "metadata": {
        "id": "mlx7gAAkyk_J"
      },
      "execution_count": null,
      "outputs": []
    },
    {
      "cell_type": "code",
      "source": [
        "mse_t=mean_squared_error(y_test_T['Energy delta[MWh]'],y_pred_inv_df_t['Energy delta[MWh]']);\n",
        "mae_t=mean_absolute_error(y_test_T['Energy delta[MWh]'],y_pred_inv_df_t['Energy delta[MWh]']);\n",
        "rmse_t=root_mean_squared_error(y_test_T['Energy delta[MWh]'],y_pred_inv_df_t['Energy delta[MWh]']);\n",
        "print(f'MSE:{mse_t}\\nMAE:{mae_t}\\nRMSE:{rmse_t}')\n",
        "plt.figure(figsize=(10, 6))\n",
        "errors={'MSE' : mse_t , 'MAE' : mae_t ,'RMSE' : rmse_t }\n",
        "plt.bar(errors.keys(),errors.values() , color=['blue', 'orange', 'green']);\n",
        "plt.xlabel('Errors')\n",
        "plt.yscale('log')  # Apply log scale to y-axis\n",
        "plt.ylabel('Error (log scale)')\n",
        "plt.title('Errors')\n",
        "plt.show()\n"
      ],
      "metadata": {
        "id": "7V6oklx2ylvt"
      },
      "execution_count": null,
      "outputs": []
    },
    {
      "cell_type": "code",
      "source": [
        "fig ,axes=plt.subplots(len(y_pred_inv_df_t.columns),1,figsize=(20,20))\n",
        "for ax,col in zip(axes,y_pred_inv_df_t.columns):\n",
        "    ax.plot(y_test_T[col],color='red',label=f'Actual {col}')\n",
        "    ax.plot(y_pred_inv_df_t[col],color='blue',label=f'Predicted {col}')\n",
        "    ax.legend()\n",
        "    ax.set_title(col)\n",
        "    ax.set_title(col)\n",
        "\n",
        "plt.tight_layout()\n",
        "plt.show()\n"
      ],
      "metadata": {
        "id": "q9vdLJPyBCvP"
      },
      "execution_count": null,
      "outputs": []
    },
    {
      "cell_type": "markdown",
      "source": [
        "# ***ERROR COMPARISION***\n"
      ],
      "metadata": {
        "id": "kX0vyX-z4T8b"
      }
    },
    {
      "cell_type": "code",
      "source": [
        "plt.figure(figsize=(12, 7))\n",
        "error_com_mse={'LSTM':mse_l , 'GRU':mse_g , 'TRANSFORMER':mse_t}\n",
        "plt.bar(error_com_mse.keys(),error_com_mse.values() , color=['blue', 'orange', 'green']);\n",
        "plt.xlabel('Errors')\n",
        "plt.yscale('log')  # Apply log scale to y-axis\n",
        "plt.ylabel('Error (log scale)')\n",
        "plt.title('Errors')\n",
        "plt.show()"
      ],
      "metadata": {
        "id": "y3sI6bOS4ZFS"
      },
      "execution_count": null,
      "outputs": []
    },
    {
      "cell_type": "code",
      "source": [
        "plt.figure(figsize=(12, 7))\n",
        "error_com_mae={'LSTM':mae_l , 'GRU':mae_g , 'TRANSFORMER':mae_t}\n",
        "plt.bar(error_com_mae.keys(),error_com_mae.values() , color=['blue', 'orange', 'green']);\n",
        "plt.xlabel('Errors')\n",
        "plt.yscale('log')  # Apply log scale to y-axis\n",
        "plt.ylabel('Error (log scale)')\n",
        "plt.title('Errors')\n",
        "plt.show()"
      ],
      "metadata": {
        "id": "1eXVw8MU4aHN"
      },
      "execution_count": null,
      "outputs": []
    },
    {
      "cell_type": "code",
      "source": [
        "plt.figure(figsize=(12, 7))\n",
        "error_com_rmse={'LSTM':rmse_l , 'GRU':rmse_g , 'TRANSFORMER':rmse_t}\n",
        "plt.bar(error_com_rmse.keys(),error_com_rmse.values() , color=['blue', 'orange', 'green']);\n",
        "plt.xlabel('Errors')\n",
        "plt.yscale('log')  # Apply log scale to y-axis\n",
        "plt.ylabel('Error (log scale)')\n",
        "plt.title('Errors')\n",
        "plt.show()"
      ],
      "metadata": {
        "id": "WznmCee04a7n"
      },
      "execution_count": null,
      "outputs": []
    },
    {
      "cell_type": "markdown",
      "source": [
        "# NOW CREATE A DATASET FOR ENSEMBLE ***MODEL***"
      ],
      "metadata": {
        "id": "T28q46jyJWzv"
      }
    },
    {
      "cell_type": "code",
      "source": [
        "PredG=y_pred_inv_df_gru\n",
        "PredL=y_pred_inv_df\n",
        "PredT=y_pred_inv_df_t\n"
      ],
      "metadata": {
        "id": "PqwPxLTpREB5"
      },
      "execution_count": null,
      "outputs": []
    },
    {
      "cell_type": "code",
      "source": [
        "Y=Y.to_frame()\n",
        "Y"
      ],
      "metadata": {
        "id": "Y-qZMhUp_Gik"
      },
      "execution_count": null,
      "outputs": []
    },
    {
      "cell_type": "code",
      "source": [
        "# Step 1: Convert all variables into DataFrames with column names\n",
        "y_train_G = pd.DataFrame(PredG['Energy delta[MWh]'])\n",
        "y_train_L = pd.DataFrame(PredL['Energy delta[MWh]'])\n",
        "y_train_T = pd.DataFrame(PredT['Energy delta[MWh]'])\n",
        "y_train_R = pd.DataFrame(Y['Energy delta[MWh]'])\n",
        "\n",
        "# Step 2: Concatenate the DataFrames along columns\n",
        "y_train_combined = pd.concat([y_train_G, y_train_L, y_train_T, y_train_R], axis=1)\n",
        "y_train_combined.columns = ['GRU', 'LSTM', 'Transformer', 'Actual Value']\n"
      ],
      "metadata": {
        "id": "PQL7g9NZ4zan"
      },
      "execution_count": null,
      "outputs": []
    },
    {
      "cell_type": "code",
      "source": [
        "y_train_combined.dropna(inplace=True)"
      ],
      "metadata": {
        "id": "y2WmVSle8SDN"
      },
      "execution_count": null,
      "outputs": []
    },
    {
      "cell_type": "code",
      "source": [
        "y_train_combined"
      ],
      "metadata": {
        "id": "eDBawRVA5O4n"
      },
      "execution_count": null,
      "outputs": []
    },
    {
      "cell_type": "code",
      "source": [
        "import matplotlib.pyplot as plt\n",
        "\n",
        "# Create figure\n",
        "plt.figure(figsize=(12, 7))\n",
        "\n",
        "# Plot model predictions and actual values\n",
        "plt.plot(y_train_combined['GRU'], color='blue', linestyle='-', label='GRU')\n",
        "plt.plot(y_train_combined['LSTM'], color='green', linestyle='--', label='LSTM')\n",
        "plt.plot(y_train_combined['Transformer'], color='black', linestyle='-.', label='TRANSFORMER')\n",
        "plt.plot(y_train_combined['Actual Value'], color='red', linestyle='-', label='Actual Value')\n",
        "\n",
        "# Titles and labels\n",
        "plt.title(\"Model Predictions vs Actual Values\", fontsize=16, fontweight='bold')\n",
        "plt.xlabel(\"Time Steps\", fontsize=12)\n",
        "plt.ylabel(\"Energy delta [MWh]\", fontsize=12)\n",
        "\n",
        "# Grid lines\n",
        "plt.grid(True, linestyle='--', alpha=0.5)\n",
        "\n",
        "# Add a legend box\n",
        "plt.legend(loc='upper right', fontsize=12, frameon=True, edgecolor='black', fancybox=True, shadow=True)\n",
        "\n",
        "# Adjust layout and show the plot\n",
        "plt.tight_layout()\n",
        "plt.show()\n"
      ],
      "metadata": {
        "id": "HmJKxCjzIMKj"
      },
      "execution_count": null,
      "outputs": []
    },
    {
      "cell_type": "code",
      "source": [
        "import matplotlib.pyplot as plt\n",
        "plt.figure(figsize=(12, 7))\n",
        "\n",
        "plt.plot(y_train_combined['GRU'], color='blue', linestyle='-', label='GRU')\n",
        "plt.plot(y_train_combined['LSTM'], color='green', linestyle='--', label='LSTM')\n",
        "plt.plot(y_train_combined['Transformer'], color='black', linestyle='-.', label='TRANSFORMER')\n",
        "plt.plot(y_train_combined['Actual Value'], color='red', linestyle='-', linewidth=1, label='Actual Value')\n",
        "plt.title(\"Model Predictions vs Actual Values\", fontsize=16, fontweight='bold')\n",
        "plt.xlabel(\"Time Steps\", fontsize=12)\n",
        "plt.ylabel(\"Energy delta [MWh]\", fontsize=12)\n",
        "\n",
        "# Add grid lines\n",
        "plt.grid(True, linestyle='--', alpha=0.5)\n",
        "\n",
        "# Show the plot\n",
        "plt.tight_layout()  # Adjust layout for better spacing\n",
        "plt.show()\n"
      ],
      "metadata": {
        "id": "Cr2Zn4tUBnWq"
      },
      "execution_count": null,
      "outputs": []
    },
    {
      "cell_type": "markdown",
      "source": [
        "\n",
        "# ***NOW BEGIN WITH  ENSEMBLE MODEL***"
      ],
      "metadata": {
        "id": "C5nmrGz-YG29"
      }
    },
    {
      "cell_type": "code",
      "source": [
        "X_train, X_test, y_train, y_test = train_test_split(y_train_combined.drop('Actual Value',axis=1),y_train_combined['Actual Value'], test_size = 0.1, random_state=42,shuffle=False)\n",
        "X_train.shape, y_train.shape, X_test.shape, y_test.shape"
      ],
      "metadata": {
        "id": "_NYfktQ2Ho0N"
      },
      "execution_count": null,
      "outputs": []
    },
    {
      "cell_type": "code",
      "source": [
        "X_test"
      ],
      "metadata": {
        "id": "Lmq6ally5daX"
      },
      "execution_count": null,
      "outputs": []
    },
    {
      "cell_type": "markdown",
      "source": [
        "# ***MLP***"
      ],
      "metadata": {
        "id": "PMOZT8nRaOuc"
      }
    },
    {
      "cell_type": "code",
      "source": [
        "import torch\n",
        "import torch.nn as nn\n",
        "import torch.optim as optim\n",
        "\n",
        "# Set device\n",
        "device = torch.device(\"cuda\" if torch.cuda.is_available() else \"cpu\")\n",
        "\n",
        "# Define the MLP model\n",
        "class MLPModel(nn.Module):\n",
        "    def __init__(self):\n",
        "        super(MLPModel, self).__init__()\n",
        "        self.model = nn.Sequential(\n",
        "            nn.Linear(3, 100),\n",
        "            nn.ReLU(),\n",
        "            nn.Linear(100, 100),\n",
        "            nn.ReLU(),\n",
        "            nn.Linear(100, 1)\n",
        "        )\n",
        "\n",
        "    def forward(self, x):\n",
        "        return self.model(x)\n",
        "\n",
        "\n"
      ],
      "metadata": {
        "id": "g157dpSVaHFc"
      },
      "execution_count": null,
      "outputs": []
    },
    {
      "cell_type": "code",
      "source": [
        "# Training function\n",
        "def train_model(model, X_train, y_train, epochs=10, batch_size=10, learning_rate=0.001):\n",
        "    model = model.to(device)\n",
        "    criterion = nn.MSELoss()\n",
        "    optimizer = optim.Adam(model.parameters(), lr=learning_rate)\n",
        "     # ✅ Convert to NumPy first if input is DataFrame/Series\n",
        "    if hasattr(X_train, 'values'):\n",
        "        X_train = X_train.values\n",
        "    if hasattr(y_train, 'values'):\n",
        "        y_train = y_train.values\n",
        "\n",
        "    # Convert data to tensors and move to device\n",
        "    X_train_tensor = torch.tensor(X_train, dtype=torch.float32).to(device)\n",
        "    y_train_tensor = torch.tensor(y_train, dtype=torch.float32).view(-1, 1).to(device)\n",
        "\n",
        "    for epoch in range(epochs):\n",
        "        model.train()\n",
        "        total_loss = 0.0\n",
        "        total_mae = 0.0\n",
        "\n",
        "        for i in range(0, len(X_train_tensor), batch_size):\n",
        "            x_batch = X_train_tensor[i:i+batch_size]\n",
        "            y_batch = y_train_tensor[i:i+batch_size]\n",
        "\n",
        "            # Forward pass\n",
        "            outputs = model(x_batch)\n",
        "\n",
        "            loss = criterion(outputs, y_batch)\n",
        "\n",
        "            mae = torch.mean(torch.abs(outputs - y_batch))\n",
        "\n",
        "            # Backward pass\n",
        "            optimizer.zero_grad()\n",
        "            loss.backward()\n",
        "            optimizer.step()\n",
        "\n",
        "            total_loss += loss.item()\n",
        "            total_mae += mae.item()\n",
        "\n",
        "        avg_loss = total_loss / len(X_train_tensor)\n",
        "        avg_mae = total_mae / len(X_train_tensor)\n",
        "        print(f\"Epoch [{epoch+1}/{epochs}] - Loss: {avg_loss:.8f} - MAE: {avg_mae:.8f}\")\n",
        "\n",
        "    return model"
      ],
      "metadata": {
        "id": "VeqwJYr_cXD4"
      },
      "execution_count": null,
      "outputs": []
    },
    {
      "cell_type": "code",
      "source": [
        "model_mlp = MLPModel()\n",
        "# trained_model = train_model(model_mlp, X_train, y_train, epochs=50, batch_size=10)"
      ],
      "metadata": {
        "id": "vsnEal5kENFZ"
      },
      "execution_count": null,
      "outputs": []
    },
    {
      "cell_type": "code",
      "source": [
        "# Save model weights\n",
        "# torch.save(model_mlp.state_dict(), '/content/drive/MyDrive/XAI /Other data/SAVEDMODEL PV/mlp_model.pt')"
      ],
      "metadata": {
        "id": "bu-0ZLmVbhwM"
      },
      "execution_count": null,
      "outputs": []
    },
    {
      "cell_type": "code",
      "source": [
        "model_mlp=MLPModel().to(device)\n",
        "model_mlp.load_state_dict(torch.load('/content/drive/MyDrive/XAI /Other data/SAVEDMODEL PV/mlp_model.pt'))\n",
        "model_mlp.eval()"
      ],
      "metadata": {
        "id": "td-EhfGWbe0t"
      },
      "execution_count": null,
      "outputs": []
    },
    {
      "cell_type": "code",
      "source": [
        "model_mlp_res=model_mlp(torch.tensor(X_test.values).to(device))\n"
      ],
      "metadata": {
        "id": "FGV9fwRMIlz6"
      },
      "execution_count": null,
      "outputs": []
    },
    {
      "cell_type": "code",
      "source": [
        "model_mlp_res=model_mlp_res.cpu().detach().numpy()"
      ],
      "metadata": {
        "id": "wMu3ydoxfhCd"
      },
      "execution_count": null,
      "outputs": []
    },
    {
      "cell_type": "code",
      "source": [
        "MLPdf = pd.DataFrame(model_mlp_res, columns=[\"MLP Output\"])"
      ],
      "metadata": {
        "id": "Jm6B64NEI_dC"
      },
      "execution_count": null,
      "outputs": []
    },
    {
      "cell_type": "code",
      "source": [
        "MLPdf.index=X_test.index\n",
        "MLPdf"
      ],
      "metadata": {
        "id": "SU4Cfjcb4oXK"
      },
      "execution_count": null,
      "outputs": []
    },
    {
      "cell_type": "code",
      "source": [
        "def mean_squared_error(y_true,y_pred):\n",
        "  return np.mean((y_true-y_pred)**2)\n",
        "\n",
        "def mean_absolute_error(y_true,y_pred):\n",
        "  return np.mean(np.abs(y_true-y_pred))\n",
        "\n",
        "def root_mean_squared_error(y_true,y_pred):\n",
        "  return np.sqrt(mean_squared_error(y_true,y_pred))\n"
      ],
      "metadata": {
        "id": "OR4dKreezH8T"
      },
      "execution_count": null,
      "outputs": []
    },
    {
      "cell_type": "code",
      "source": [
        "mse_m=mean_squared_error(y_test_T['Energy delta[MWh]'],MLPdf['MLP Output']);\n",
        "mae_m=mean_absolute_error(y_test_T['Energy delta[MWh]'],MLPdf['MLP Output']);\n",
        "rmse_m=root_mean_squared_error(y_test_T['Energy delta[MWh]'],MLPdf['MLP Output']);\n",
        "print(f'MSE:{mse_m}\\nMAE:{mae_m}\\nRMSE:{rmse_m}')\n",
        "plt.figure(figsize=(10, 6))\n",
        "errors={'MSE' : mse_m , 'MAE' : mae_m ,'RMSE' : rmse_m }\n",
        "plt.bar(errors.keys(),errors.values() , color=['blue', 'orange', 'green']);\n",
        "plt.xlabel('Errors')\n",
        "plt.yscale('log')  # Apply log scale to y-axis\n",
        "plt.ylabel('Error (log scale)')\n",
        "plt.title('Errors')\n",
        "plt.show()\n"
      ],
      "metadata": {
        "id": "Md8pvQQOzIvv"
      },
      "execution_count": null,
      "outputs": []
    },
    {
      "cell_type": "markdown",
      "source": [
        "# ***CNN MODEL***"
      ],
      "metadata": {
        "id": "cXlrwsCTdYIn"
      }
    },
    {
      "cell_type": "code",
      "source": [
        "import torch\n",
        "import torch.nn as nn"
      ],
      "metadata": {
        "id": "0_-skN7Edd5k"
      },
      "execution_count": null,
      "outputs": []
    },
    {
      "cell_type": "code",
      "source": [
        "class CNN_model(nn.Module):\n",
        "  def __init__(self):\n",
        "    super(CNN_model,self).__init__()\n",
        "    self.conv1=nn.Conv1d(out_channels=128,kernel_size=2,in_channels=1)\n",
        "    self.pool=nn.MaxPool1d(kernel_size=2)\n",
        "    self.flatten=nn.Flatten()\n",
        "    self.fc1=nn.Linear(in_features=128,out_features=64)\n",
        "    self.fc2=nn.Linear(in_features=64,out_features=1)\n",
        "\n",
        "  def forward(self,x):\n",
        "    x=self.conv1(x)\n",
        "    x=self.pool(x)\n",
        "    x=self.flatten(x)\n",
        "    x=self.fc1(x)\n",
        "    x=self.fc2(x)\n",
        "    return x\n"
      ],
      "metadata": {
        "id": "2E9uZ9_IlU_a"
      },
      "execution_count": null,
      "outputs": []
    },
    {
      "cell_type": "code",
      "source": [
        "def train_cnn_model(model, X_train, y_train, epochs=10, batch_size=1, learning_rate=0.001):\n",
        "    model = model.to(device)\n",
        "    loss_fn = nn.MSELoss()\n",
        "    optimizer = torch.optim.Adam(model.parameters(), lr=learning_rate)\n",
        "\n",
        "    # Ensure data is NumPy array first\n",
        "    if hasattr(X_train, 'values'):\n",
        "        X_train = X_train.values\n",
        "    if hasattr(y_train, 'values'):\n",
        "        y_train = y_train.values\n",
        "\n",
        "    # Convert to torch tensors\n",
        "    X_train_tensor = torch.tensor(X_train, dtype=torch.float32).view(-1, 1, 3).to(device)  # (batch_size, 1, 3)\n",
        "    y_train_tensor = torch.tensor(y_train, dtype=torch.float32).view(-1, 1).to(device)     # (batch_size, 1)\n",
        "\n",
        "    history = {'loss': [], 'mae': []}\n",
        "\n",
        "    for epoch in range(epochs):\n",
        "        model.train()\n",
        "        total_loss = 0.0\n",
        "        total_mae = 0.0\n",
        "\n",
        "        for i in range(0, len(X_train_tensor), batch_size):\n",
        "            x_batch = X_train_tensor[i:i+batch_size]\n",
        "            y_batch = y_train_tensor[i:i+batch_size]\n",
        "\n",
        "            optimizer.zero_grad()\n",
        "            outputs = model(x_batch)\n",
        "\n",
        "            loss = loss_fn(outputs, y_batch)\n",
        "            mae = torch.mean(torch.abs(outputs - y_batch))\n",
        "\n",
        "            loss.backward()\n",
        "            optimizer.step()\n",
        "\n",
        "            total_loss += loss.item()\n",
        "            total_mae += mae.item()\n",
        "\n",
        "        avg_loss = total_loss / len(X_train_tensor)\n",
        "        avg_mae = total_mae / len(X_train_tensor)\n",
        "\n",
        "        history['loss'].append(avg_loss)\n",
        "        history['mae'].append(avg_mae)\n",
        "\n",
        "        print(f\"Epoch [{epoch+1}/{epochs}] - Loss: {avg_loss:.8f} - MAE: {avg_mae:.8f}\")\n",
        "\n",
        "    return model, history\n"
      ],
      "metadata": {
        "id": "0fpzLM9LmD9s"
      },
      "execution_count": null,
      "outputs": []
    },
    {
      "cell_type": "code",
      "source": [
        "model_cnn = CNN_model().to(device)\n",
        "# trained_model_cnn, history = train_cnn_model(model_cnn, X_train, y_train, epochs=80, batch_size=10)\n"
      ],
      "metadata": {
        "id": "3oFwViVpmHmU"
      },
      "execution_count": null,
      "outputs": []
    },
    {
      "cell_type": "code",
      "source": [
        "# Save model weights\n",
        "# torch.save(model_cnn.state_dict(), '/content/drive/MyDrive/XAI /Other data/SAVEDMODEL PV/cnn_model.pt')"
      ],
      "metadata": {
        "id": "hayjD6ApTjhx"
      },
      "execution_count": null,
      "outputs": []
    },
    {
      "cell_type": "code",
      "source": [
        "model_cnn=CNN_model().to(device)\n",
        "model_cnn.load_state_dict(torch.load('/content/drive/MyDrive/XAI /Other data/SAVEDMODEL PV/cnn_model.pt'))\n",
        "model_cnn.eval()"
      ],
      "metadata": {
        "id": "jKOaDKNKTkWG"
      },
      "execution_count": null,
      "outputs": []
    },
    {
      "cell_type": "code",
      "source": [
        "X_train"
      ],
      "metadata": {
        "id": "Bs-k-vLkjpK8"
      },
      "execution_count": null,
      "outputs": []
    },
    {
      "cell_type": "code",
      "source": [
        "X_test_tensor = torch.tensor(X_test.values, dtype=torch.float32).view(-1, 1, 3).to(device)  # (batch_size, 1, 3)\n",
        "model_cnn_res=model_cnn(X_test_tensor).cpu().detach().numpy()"
      ],
      "metadata": {
        "id": "UNAH4TY0JGRb"
      },
      "execution_count": null,
      "outputs": []
    },
    {
      "cell_type": "code",
      "source": [
        "model_cnn_ = model_cnn_res.reshape(-1, 1)\n",
        "CNNdf = pd.DataFrame(model_cnn_, columns=[\"CNN Output\"])"
      ],
      "metadata": {
        "id": "SSATbzZq3HWM"
      },
      "execution_count": null,
      "outputs": []
    },
    {
      "cell_type": "code",
      "source": [
        "CNNdf.index=X_test.index\n",
        "CNNdf"
      ],
      "metadata": {
        "id": "uyY21LNA35Sn"
      },
      "execution_count": null,
      "outputs": []
    },
    {
      "cell_type": "code",
      "source": [
        "def mean_squared_error(y_true,y_pred):\n",
        "  return np.mean((y_true-y_pred)**2)\n",
        "\n",
        "def mean_absolute_error(y_true,y_pred):\n",
        "  return np.mean(np.abs(y_true-y_pred))\n",
        "\n",
        "def root_mean_squared_error(y_true,y_pred):\n",
        "  return np.sqrt(mean_squared_error(y_true,y_pred))\n"
      ],
      "metadata": {
        "id": "2ScLUH5Qzw8m"
      },
      "execution_count": null,
      "outputs": []
    },
    {
      "cell_type": "code",
      "source": [
        "mse_c=mean_squared_error(y_test_T['Energy delta[MWh]'],CNNdf['CNN Output']);\n",
        "mae_c=mean_absolute_error(y_test_T['Energy delta[MWh]'],CNNdf['CNN Output']);\n",
        "rmse_c=root_mean_squared_error(y_test_T['Energy delta[MWh]'],CNNdf['CNN Output']);\n",
        "print(f'MSE:{mse_c}\\nMAE:{mae_c}\\nRMSE:{rmse_c}')\n",
        "plt.figure(figsize=(10, 6))\n",
        "errors={'MSE' : mse_c , 'MAE' : mae_c ,'RMSE' : rmse_c }\n",
        "plt.bar(errors.keys(),errors.values() , color=['blue', 'orange', 'green']);\n",
        "plt.xlabel('Errors')\n",
        "plt.yscale('log')  # Apply log scale to y-axis\n",
        "plt.ylabel('Error (log scale)')\n",
        "plt.title('Errors')\n",
        "plt.show()\n"
      ],
      "metadata": {
        "id": "4lWYdF9Cz2Wx"
      },
      "execution_count": null,
      "outputs": []
    },
    {
      "cell_type": "markdown",
      "source": [
        "# ***ATTENTION MECHANISM***#"
      ],
      "metadata": {
        "id": "r_WpC1YfHxjh"
      }
    },
    {
      "cell_type": "code",
      "source": [
        "from torch.utils.data import DataLoader, TensorDataset\n",
        "    # Ensure data is NumPy array first\n",
        "\n",
        "if hasattr(X_train,'values'):\n",
        "  X_train=X_train.values\n",
        "if hasattr(y_train,'values'):\n",
        "  y_train=y_train.values\n",
        "\n",
        "seqlength=20\n",
        "X_train_seq=[]\n",
        "y_train_seq=[]\n",
        "\n",
        "for i in range(len(X_train)-seqlength):\n",
        "  X_train_seq.append(X_train[i:i+seqlength])\n",
        "  y_train_seq.append(y_train[i+seqlength])\n",
        "\n",
        "X_train_seq=torch.tensor(X_train_seq,dtype=torch.float32).to(device)\n",
        "y_train_seq=torch.tensor(y_train_seq,dtype=torch.float32).to(device)\n",
        "\n",
        "dataset=TensorDataset(X_train_seq,y_train_seq)\n",
        "\n",
        "dataloader=DataLoader(dataset,batch_size=20,shuffle=False)"
      ],
      "metadata": {
        "id": "98UCzmO6Hxji"
      },
      "execution_count": null,
      "outputs": []
    },
    {
      "cell_type": "code",
      "source": [
        "import torch\n",
        "import torch.nn as nn\n",
        "\n",
        "class MultiHeadAttentionModel(nn.Module):\n",
        "    def __init__(self, input_dim=3, embeded_dim=36, num_head=6, seq_len=20):\n",
        "        super(MultiHeadAttentionModel, self).__init__()  # FIXED: missing dot here\n",
        "\n",
        "        self.seq_len = seq_len\n",
        "        self.embeded_dim = embeded_dim\n",
        "        self.num_head = num_head\n",
        "        self.input_dim = input_dim\n",
        "\n",
        "        self.embedding = nn.Linear(input_dim, embeded_dim)\n",
        "        self.position_embedding = nn.Parameter(torch.rand(1, seq_len, embeded_dim))  # Learnable positional embedding\n",
        "\n",
        "        self.attn = nn.MultiheadAttention(embed_dim=embeded_dim, num_heads=num_head, batch_first=True)\n",
        "\n",
        "        self.fc = nn.Sequential(\n",
        "            nn.Linear(embeded_dim, 128),\n",
        "            nn.ReLU(),\n",
        "            nn.Linear(128, 1)  # You are predicting a single value (e.g., one regression target)\n",
        "        )\n",
        "\n",
        "    def forward(self, x):\n",
        "        # x shape: (batch_size, seq_len, input_dim)\n",
        "        x = self.embedding(x) + self.position_embedding  # Add positional encoding\n",
        "        attn_output, _ = self.attn(x, x, x)  # Apply multi-head self-attention\n",
        "        last_token = attn_output[:, -1, :]  # Use the output of the last time step\n",
        "        out = self.fc(last_token)  # Feedforward network for final output\n",
        "        return out\n"
      ],
      "metadata": {
        "id": "2iCvvsDaHxji"
      },
      "execution_count": null,
      "outputs": []
    },
    {
      "cell_type": "code",
      "source": [
        "import matplotlib.pyplot as plt  # FIXED: typo in import\n",
        "\n",
        "def train_loop_attention(model, dataloader, optimizer, epochs, criterion):\n",
        "    loss_per_epochs = []\n",
        "\n",
        "    model.train()  # Set the model to training mode\n",
        "\n",
        "    for epoch in range(epochs):\n",
        "        avg_loss = 0.0\n",
        "        total_batches = 0\n",
        "\n",
        "        for xb, yb in dataloader:\n",
        "            pred = model(xb).to(device)\n",
        "            loss = criterion(pred.squeeze(), yb)  # Use .squeeze() if needed to match yb's shape\n",
        "\n",
        "            optimizer.zero_grad()\n",
        "            loss.backward()\n",
        "            optimizer.step()\n",
        "\n",
        "            avg_loss += loss.item()  # Use .item() to get a float\n",
        "            total_batches += 1\n",
        "\n",
        "        avg_loss /= total_batches  # Average over batches\n",
        "        loss_per_epochs.append(avg_loss)\n",
        "        print(f\"Epoch [{epoch+1}/{epochs}], Loss: {avg_loss:.10f}\")\n",
        "\n",
        "    # Plot the loss\n",
        "    plt.plot(loss_per_epochs)\n",
        "    plt.xlabel('Epochs')\n",
        "    plt.ylabel('Loss')\n",
        "    plt.title('Loss per Epoch')\n",
        "    plt.grid(True)\n",
        "    plt.show()"
      ],
      "metadata": {
        "id": "WCZ1JC5vHxji"
      },
      "execution_count": null,
      "outputs": []
    },
    {
      "cell_type": "code",
      "source": [
        "model_attention=MultiHeadAttentionModel().to(device)\n",
        "optimizer=torch.optim.Adam(model_attention.parameters(),lr=0.001)\n",
        "epochs=50\n",
        "criterion=nn.MSELoss()"
      ],
      "metadata": {
        "id": "VRztpfpfHxjj"
      },
      "execution_count": null,
      "outputs": []
    },
    {
      "cell_type": "code",
      "source": [
        "# train_loop_attention(model_attention,dataloader,optimizer,epochs,criterion)"
      ],
      "metadata": {
        "id": "yXy0MXiNHxjj"
      },
      "execution_count": null,
      "outputs": []
    },
    {
      "cell_type": "code",
      "source": [
        "# torch.save(model_attention.state_dict(),'/content/drive/MyDrive/XAI /Other data/SAVEDMODEL PV/attention_model.pt')"
      ],
      "metadata": {
        "id": "g4HFy21bHxjj"
      },
      "execution_count": null,
      "outputs": []
    },
    {
      "cell_type": "code",
      "source": [
        "model_attention=MultiHeadAttentionModel().to(device)\n",
        "model_attention.load_state_dict(torch.load('/content/drive/MyDrive/XAI /Other data/SAVEDMODEL PV/attention_model.pt'))\n",
        "model_attention.eval()"
      ],
      "metadata": {
        "id": "yFQI6fHyHxjj"
      },
      "execution_count": null,
      "outputs": []
    },
    {
      "cell_type": "code",
      "source": [
        "X_test"
      ],
      "metadata": {
        "id": "JnPS_X7KHxjk"
      },
      "execution_count": null,
      "outputs": []
    },
    {
      "cell_type": "code",
      "source": [
        "X_test.values.shape"
      ],
      "metadata": {
        "id": "HRylGnNmHxjk"
      },
      "execution_count": null,
      "outputs": []
    },
    {
      "cell_type": "code",
      "source": [
        "X_test_tensor = torch.tensor(X_test.values, dtype=torch.float32).view(-1, 1, 3).to(device)  # (batch_size, 1, 3)\n",
        "model_attention_res=model_attention(X_test_tensor).cpu().detach().numpy()"
      ],
      "metadata": {
        "id": "2WTexwbKHxjk"
      },
      "execution_count": null,
      "outputs": []
    },
    {
      "cell_type": "code",
      "source": [
        "model_attention_ = model_attention_res.reshape(-1, 1)\n",
        "model_attention_df = pd.DataFrame(model_attention_, columns=[\"Attention Output\"])"
      ],
      "metadata": {
        "id": "MojW-DQIHxjk"
      },
      "execution_count": null,
      "outputs": []
    },
    {
      "cell_type": "code",
      "source": [
        "model_attention_df.index=X_test.index\n",
        "model_attention_df"
      ],
      "metadata": {
        "id": "Vvy7kGbDHxjl"
      },
      "execution_count": null,
      "outputs": []
    },
    {
      "cell_type": "code",
      "source": [
        "def mean_squared_error(y_true,y_pred):\n",
        "  return np.mean((y_true-y_pred)**2)\n",
        "\n",
        "def mean_absolute_error(y_true,y_pred):\n",
        "  return np.mean(np.abs(y_true-y_pred))\n",
        "\n",
        "def root_mean_squared_error(y_true,y_pred):\n",
        "  return np.sqrt(mean_squared_error(y_true,y_pred))\n"
      ],
      "metadata": {
        "id": "us4Avp6uHxjl"
      },
      "execution_count": null,
      "outputs": []
    },
    {
      "cell_type": "code",
      "source": [
        "mse_a=mean_squared_error(y_test_T['Energy delta[MWh]'],model_attention_df['Attention Output']);\n",
        "mae_a=mean_absolute_error(y_test_T['Energy delta[MWh]'],model_attention_df['Attention Output']);\n",
        "rmse_a=root_mean_squared_error(y_test_T['Energy delta[MWh]'],model_attention_df['Attention Output']);\n",
        "print(f'MSE:{mse_a}\\nMAE:{mae_a}\\nRMSE:{rmse_a}')\n",
        "plt.figure(figsize=(10, 6))\n",
        "errors={'MSE' : mse_a , 'MAE' : mae_a ,'RMSE' : rmse_a }\n",
        "plt.bar(errors.keys(),errors.values() , color=['blue', 'orange', 'green']);\n",
        "plt.xlabel('Errors')\n",
        "plt.yscale('log')  # Apply log scale to y-axis\n",
        "plt.ylabel('Error (log scale)')\n",
        "plt.title('Errors')\n",
        "plt.show()\n"
      ],
      "metadata": {
        "id": "xdb_pX1iHxjl"
      },
      "execution_count": null,
      "outputs": []
    },
    {
      "cell_type": "markdown",
      "source": [
        "# ***SIMPLE MEAN***"
      ],
      "metadata": {
        "id": "yDf64W3xmtjT"
      }
    },
    {
      "cell_type": "code",
      "source": [
        "X_test['Simple Mean'] = X_test.mean(axis=1)\n"
      ],
      "metadata": {
        "id": "YUHOYiy0mrul"
      },
      "execution_count": null,
      "outputs": []
    },
    {
      "cell_type": "code",
      "source": [
        "SimpleMean=X_test['Simple Mean']\n",
        "SimpleMean"
      ],
      "metadata": {
        "id": "QaNi4NLMKqAN"
      },
      "execution_count": null,
      "outputs": []
    },
    {
      "cell_type": "code",
      "source": [
        "def mean_squared_error(y_true,y_pred):\n",
        "  return np.mean((y_true-y_pred)**2)\n",
        "\n",
        "def mean_absolute_error(y_true,y_pred):\n",
        "  return np.mean(np.abs(y_true-y_pred))\n",
        "\n",
        "def root_mean_squared_error(y_true,y_pred):\n",
        "  return np.sqrt(mean_squared_error(y_true,y_pred))\n"
      ],
      "metadata": {
        "id": "CFbSyaAT1sgb"
      },
      "execution_count": null,
      "outputs": []
    },
    {
      "cell_type": "code",
      "source": [
        "mse_s=mean_squared_error(y_test_T['Energy delta[MWh]'],X_test['Simple Mean']);\n",
        "mae_s=mean_absolute_error(y_test_T['Energy delta[MWh]'],X_test['Simple Mean']);\n",
        "rmse_s=root_mean_squared_error(y_test_T['Energy delta[MWh]'],X_test['Simple Mean']);\n",
        "print(f'MSE:{mse_s}\\nMAE:{mae_s}\\nRMSE:{rmse_s}')\n",
        "plt.figure(figsize=(10, 6))\n",
        "errors={'MSE' : mse_s , 'MAE' : mae_s ,'RMSE' : rmse_s }\n",
        "plt.bar(errors.keys(),errors.values() , color=['blue', 'orange', 'green']);\n",
        "plt.xlabel('Errors')\n",
        "plt.yscale('log')  # Apply log scale to y-axis\n",
        "plt.ylabel('Error (log scale)')\n",
        "plt.title('Errors')\n",
        "plt.show()\n"
      ],
      "metadata": {
        "id": "2dp53N_m1tJ4"
      },
      "execution_count": null,
      "outputs": []
    },
    {
      "cell_type": "markdown",
      "source": [
        "# ***ERROR COMPARISION***"
      ],
      "metadata": {
        "id": "k49L8lq-572X"
      }
    },
    {
      "cell_type": "code",
      "source": [
        "plt.figure(figsize=(12, 7))\n",
        "\n",
        "error_com_mae={'MLP':mae_m , 'CNN':mae_c , 'Simple Mean':mae_s , 'Attention':mae_a}\n",
        "plt.bar(error_com_mae.keys(),error_com_mae.values() , color=['blue', 'orange', 'green','pink']);\n",
        "plt.xlabel('Errors')\n",
        "plt.yscale('log')  # Apply log scale to y-axis\n",
        "plt.ylabel('Error (log scale)')\n",
        "plt.title('Errors')\n",
        "plt.show()"
      ],
      "metadata": {
        "id": "L-14VOkb20o_"
      },
      "execution_count": null,
      "outputs": []
    },
    {
      "cell_type": "code",
      "source": [
        "plt.figure(figsize=(12, 7))\n",
        "error_com_mse={'MLP':mse_m , 'CNN':mse_c , 'Simple Mean':mse_s ,'Attention':mse_a}\n",
        "plt.bar(error_com_mse.keys(),error_com_mse.values() , color=['blue', 'orange', 'green' , 'pink']);\n",
        "plt.xlabel('Errors')\n",
        "plt.yscale('log')  # Apply log scale to y-axis\n",
        "plt.ylabel('Error (log scale)')\n",
        "plt.title('Errors')\n",
        "plt.show()"
      ],
      "metadata": {
        "id": "-u2rlpG83fVR"
      },
      "execution_count": null,
      "outputs": []
    },
    {
      "cell_type": "code",
      "source": [
        "plt.figure(figsize=(12, 7))\n",
        "error_com_rmse={'MLP':rmse_m , 'CNN':rmse_c , 'Simple Mean':rmse_s ,'Attention':rmse_a}\n",
        "plt.bar(error_com_rmse.keys(),error_com_rmse.values() , color=['blue', 'orange', 'green','pink']);\n",
        "plt.xlabel('Errors')\n",
        "plt.yscale('log')  # Apply log scale to y-axis\n",
        "plt.ylabel('Error (log scale)')\n",
        "plt.title('Errors')\n",
        "plt.show()"
      ],
      "metadata": {
        "id": "IiDNr0sx3qQO"
      },
      "execution_count": null,
      "outputs": []
    },
    {
      "cell_type": "code",
      "source": [
        "ActualData=y_test\n",
        "ActualData=pd.DataFrame(ActualData)\n",
        "ActualData.index=X_test.index\n",
        "ActualData.columns=['Actual Value']\n",
        "ActualData"
      ],
      "metadata": {
        "id": "3hCUdIzT7XxB"
      },
      "execution_count": null,
      "outputs": []
    },
    {
      "cell_type": "code",
      "source": [
        "FinalDataframe=pd.concat([SimpleMean,MLPdf,CNNdf,model_attention_df,ActualData],axis=1)\n",
        "FinalDataframe"
      ],
      "metadata": {
        "id": "7w8Zgcj15-kz"
      },
      "execution_count": null,
      "outputs": []
    },
    {
      "cell_type": "code",
      "source": [
        "import matplotlib.pyplot as plt\n",
        "\n",
        "# Set the figure size\n",
        "plt.figure(figsize=(12, 8))\n",
        "\n",
        "# Plot each line with custom styles\n",
        "plt.plot(FinalDataframe['Actual Value'], label='Actual Value', color='blue', linewidth=2)\n",
        "plt.plot(FinalDataframe['Simple Mean'], label='Simple Mean', color='orange',  linewidth=2)\n",
        "plt.plot(FinalDataframe['MLP Output'], label='MLP Output', color='green', linewidth=2)\n",
        "plt.plot(FinalDataframe['CNN Output'], label='CNN Output', color='red',  linewidth=2)\n",
        "plt.plot(FinalDataframe['Attention Output'], label='Attention Output', color='pink', linewidth=2)\n",
        "# Add title and labels\n",
        "plt.title('Comparison of Actual and Predicted Values', fontsize=16, fontweight='bold')\n",
        "plt.xlabel('Index', fontsize=14)\n",
        "plt.ylabel('Value', fontsize=14)\n",
        "\n",
        "# Customize legend\n",
        "plt.legend(loc='best', fontsize=12, title='Legend', title_fontsize=14)\n",
        "\n",
        "# Add grid for better readability\n",
        "plt.grid(True, linestyle='--', alpha=0.6)\n",
        "\n",
        "# Show the plot\n",
        "plt.show()\n"
      ],
      "metadata": {
        "id": "qNcnWRBm773t"
      },
      "execution_count": null,
      "outputs": []
    },
    {
      "cell_type": "code",
      "source": [
        "X_test=X_test.drop('Simple Mean',axis=1)\n",
        "ensemble_model_test=pd.concat([FinalDataframe,X_test],axis=1)\n",
        "ensemble_model_test"
      ],
      "metadata": {
        "id": "ooUayEjQD8d-"
      },
      "execution_count": null,
      "outputs": []
    },
    {
      "cell_type": "code",
      "source": [
        "y_train_combined"
      ],
      "metadata": {
        "id": "02fX68gpEoej"
      },
      "execution_count": null,
      "outputs": []
    },
    {
      "cell_type": "code",
      "source": [
        "monthly_data_combined = y_train_combined\n"
      ],
      "metadata": {
        "id": "tQ0OcKV-Fr8v"
      },
      "execution_count": null,
      "outputs": []
    },
    {
      "cell_type": "code",
      "source": [
        "monthly_data_combined"
      ],
      "metadata": {
        "id": "TmQ-DaQUFv1a"
      },
      "execution_count": null,
      "outputs": []
    },
    {
      "cell_type": "code",
      "source": [
        "monthly_data_ensemble = ensemble_model_test.resample('D').mean()\n",
        "monthly_data_ensemble"
      ],
      "metadata": {
        "id": "_hgijLLSF4_Z"
      },
      "execution_count": null,
      "outputs": []
    },
    {
      "cell_type": "code",
      "source": [
        "plt.figure(figsize=(12, 8))\n",
        "plt.plot(monthly_data_ensemble.index, monthly_data_ensemble['Simple Mean'], label='Simple Mean')\n",
        "plt.plot(monthly_data_ensemble.index, monthly_data_ensemble['MLP Output'], label='MLP Output')\n",
        "plt.plot(monthly_data_ensemble.index, monthly_data_ensemble['CNN Output'], label='CNN Output')\n",
        "plt.plot(monthly_data_ensemble.index, monthly_data_ensemble['Actual Value'], label='Actual Value')\n",
        "plt.plot(monthly_data_ensemble.index, monthly_data_ensemble['GRU'], label='GRU')\n",
        "plt.plot(monthly_data_ensemble.index, monthly_data_ensemble['LSTM'], label='LSTM')\n",
        "plt.plot(monthly_data_ensemble.index, monthly_data_ensemble['Transformer'], label='TRANSFORMER')\n",
        "plt.plot(monthly_data_ensemble.index, monthly_data_ensemble['Attention Output'], label='Attention Output')\n",
        "plt.title('Daily Comparison of Actual and Predicted Values')\n",
        "plt.xlabel('Daily')\n",
        "plt.ylabel('Value')\n",
        "plt.legend()\n",
        "plt.show()"
      ],
      "metadata": {
        "id": "Ht42s5I0GCxL"
      },
      "execution_count": null,
      "outputs": []
    },
    {
      "cell_type": "markdown",
      "source": [
        "***PREDICTED OUTPUT FROM RESEARCH PAPER***"
      ],
      "metadata": {
        "id": "tbapdQ_TMIRq"
      }
    },
    {
      "cell_type": "markdown",
      "source": [
        "![Screenshot 2025-01-02 015419.png](data:image/png;base64,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)"
      ],
      "metadata": {
        "id": "uLxPP7sNMRrZ"
      }
    }
  ],
  "metadata": {
    "colab": {
      "provenance": [],
      "gpuType": "T4",
      "collapsed_sections": [
        "I2W1Z800Yyk-",
        "9XMyvI4RBCvK"
      ],
      "authorship_tag": "ABX9TyM2bk7/FxycG6NY9SLFkdSJ",
      "include_colab_link": true
    },
    "kernelspec": {
      "display_name": "Python 3",
      "name": "python3"
    },
    "language_info": {
      "name": "python"
    },
    "accelerator": "GPU",
    "widgets": {
      "application/vnd.jupyter.widget-state+json": {
        "f23c626f206b4587ab085b372ce6a867": {
          "model_module": "@jupyter-widgets/controls",
          "model_name": "HBoxModel",
          "model_module_version": "1.5.0",
          "state": {
            "_dom_classes": [],
            "_model_module": "@jupyter-widgets/controls",
            "_model_module_version": "1.5.0",
            "_model_name": "HBoxModel",
            "_view_count": null,
            "_view_module": "@jupyter-widgets/controls",
            "_view_module_version": "1.5.0",
            "_view_name": "HBoxView",
            "box_style": "",
            "children": [
              "IPY_MODEL_2bbb05374b954a6e8e6d823ec4001c61",
              "IPY_MODEL_bdf69311288744c4b0bab3b9b5aa0719",
              "IPY_MODEL_dc50b663579740f28ba18e76930a7c3a"
            ],
            "layout": "IPY_MODEL_38b0c489927e4608ab76dc9996dff1d4"
          }
        },
        "2bbb05374b954a6e8e6d823ec4001c61": {
          "model_module": "@jupyter-widgets/controls",
          "model_name": "HTMLModel",
          "model_module_version": "1.5.0",
          "state": {
            "_dom_classes": [],
            "_model_module": "@jupyter-widgets/controls",
            "_model_module_version": "1.5.0",
            "_model_name": "HTMLModel",
            "_view_count": null,
            "_view_module": "@jupyter-widgets/controls",
            "_view_module_version": "1.5.0",
            "_view_name": "HTMLView",
            "description": "",
            "description_tooltip": null,
            "layout": "IPY_MODEL_5b125b7439524f04b5ca68c8f34c031a",
            "placeholder": "​",
            "style": "IPY_MODEL_54d5b6f5552a408b8d5b6a6ee5d5ed3e",
            "value": "Sanity Checking DataLoader 0: 100%"
          }
        },
        "bdf69311288744c4b0bab3b9b5aa0719": {
          "model_module": "@jupyter-widgets/controls",
          "model_name": "FloatProgressModel",
          "model_module_version": "1.5.0",
          "state": {
            "_dom_classes": [],
            "_model_module": "@jupyter-widgets/controls",
            "_model_module_version": "1.5.0",
            "_model_name": "FloatProgressModel",
            "_view_count": null,
            "_view_module": "@jupyter-widgets/controls",
            "_view_module_version": "1.5.0",
            "_view_name": "ProgressView",
            "bar_style": "",
            "description": "",
            "description_tooltip": null,
            "layout": "IPY_MODEL_24a6ee82284e42c7876dc2818e10d9c3",
            "max": 1,
            "min": 0,
            "orientation": "horizontal",
            "style": "IPY_MODEL_eaaec40077b048dc84411d5713ffa9ae",
            "value": 1
          }
        },
        "dc50b663579740f28ba18e76930a7c3a": {
          "model_module": "@jupyter-widgets/controls",
          "model_name": "HTMLModel",
          "model_module_version": "1.5.0",
          "state": {
            "_dom_classes": [],
            "_model_module": "@jupyter-widgets/controls",
            "_model_module_version": "1.5.0",
            "_model_name": "HTMLModel",
            "_view_count": null,
            "_view_module": "@jupyter-widgets/controls",
            "_view_module_version": "1.5.0",
            "_view_name": "HTMLView",
            "description": "",
            "description_tooltip": null,
            "layout": "IPY_MODEL_982fc36219434a76b7124538daf7d62b",
            "placeholder": "​",
            "style": "IPY_MODEL_a1cf9811e62f4689b15353eb3e04b2ea",
            "value": " 1/1 [00:01&lt;00:00,  0.73it/s]"
          }
        },
        "38b0c489927e4608ab76dc9996dff1d4": {
          "model_module": "@jupyter-widgets/base",
          "model_name": "LayoutModel",
          "model_module_version": "1.2.0",
          "state": {
            "_model_module": "@jupyter-widgets/base",
            "_model_module_version": "1.2.0",
            "_model_name": "LayoutModel",
            "_view_count": null,
            "_view_module": "@jupyter-widgets/base",
            "_view_module_version": "1.2.0",
            "_view_name": "LayoutView",
            "align_content": null,
            "align_items": null,
            "align_self": null,
            "border": null,
            "bottom": null,
            "display": "inline-flex",
            "flex": null,
            "flex_flow": "row wrap",
            "grid_area": null,
            "grid_auto_columns": null,
            "grid_auto_flow": null,
            "grid_auto_rows": null,
            "grid_column": null,
            "grid_gap": null,
            "grid_row": null,
            "grid_template_areas": null,
            "grid_template_columns": null,
            "grid_template_rows": null,
            "height": null,
            "justify_content": null,
            "justify_items": null,
            "left": null,
            "margin": null,
            "max_height": null,
            "max_width": null,
            "min_height": null,
            "min_width": null,
            "object_fit": null,
            "object_position": null,
            "order": null,
            "overflow": null,
            "overflow_x": null,
            "overflow_y": null,
            "padding": null,
            "right": null,
            "top": null,
            "visibility": "hidden",
            "width": "100%"
          }
        },
        "5b125b7439524f04b5ca68c8f34c031a": {
          "model_module": "@jupyter-widgets/base",
          "model_name": "LayoutModel",
          "model_module_version": "1.2.0",
          "state": {
            "_model_module": "@jupyter-widgets/base",
            "_model_module_version": "1.2.0",
            "_model_name": "LayoutModel",
            "_view_count": null,
            "_view_module": "@jupyter-widgets/base",
            "_view_module_version": "1.2.0",
            "_view_name": "LayoutView",
            "align_content": null,
            "align_items": null,
            "align_self": null,
            "border": null,
            "bottom": null,
            "display": null,
            "flex": null,
            "flex_flow": null,
            "grid_area": null,
            "grid_auto_columns": null,
            "grid_auto_flow": null,
            "grid_auto_rows": null,
            "grid_column": null,
            "grid_gap": null,
            "grid_row": null,
            "grid_template_areas": null,
            "grid_template_columns": null,
            "grid_template_rows": null,
            "height": null,
            "justify_content": null,
            "justify_items": null,
            "left": null,
            "margin": null,
            "max_height": null,
            "max_width": null,
            "min_height": null,
            "min_width": null,
            "object_fit": null,
            "object_position": null,
            "order": null,
            "overflow": null,
            "overflow_x": null,
            "overflow_y": null,
            "padding": null,
            "right": null,
            "top": null,
            "visibility": null,
            "width": null
          }
        },
        "54d5b6f5552a408b8d5b6a6ee5d5ed3e": {
          "model_module": "@jupyter-widgets/controls",
          "model_name": "DescriptionStyleModel",
          "model_module_version": "1.5.0",
          "state": {
            "_model_module": "@jupyter-widgets/controls",
            "_model_module_version": "1.5.0",
            "_model_name": "DescriptionStyleModel",
            "_view_count": null,
            "_view_module": "@jupyter-widgets/base",
            "_view_module_version": "1.2.0",
            "_view_name": "StyleView",
            "description_width": ""
          }
        },
        "24a6ee82284e42c7876dc2818e10d9c3": {
          "model_module": "@jupyter-widgets/base",
          "model_name": "LayoutModel",
          "model_module_version": "1.2.0",
          "state": {
            "_model_module": "@jupyter-widgets/base",
            "_model_module_version": "1.2.0",
            "_model_name": "LayoutModel",
            "_view_count": null,
            "_view_module": "@jupyter-widgets/base",
            "_view_module_version": "1.2.0",
            "_view_name": "LayoutView",
            "align_content": null,
            "align_items": null,
            "align_self": null,
            "border": null,
            "bottom": null,
            "display": null,
            "flex": "2",
            "flex_flow": null,
            "grid_area": null,
            "grid_auto_columns": null,
            "grid_auto_flow": null,
            "grid_auto_rows": null,
            "grid_column": null,
            "grid_gap": null,
            "grid_row": null,
            "grid_template_areas": null,
            "grid_template_columns": null,
            "grid_template_rows": null,
            "height": null,
            "justify_content": null,
            "justify_items": null,
            "left": null,
            "margin": null,
            "max_height": null,
            "max_width": null,
            "min_height": null,
            "min_width": null,
            "object_fit": null,
            "object_position": null,
            "order": null,
            "overflow": null,
            "overflow_x": null,
            "overflow_y": null,
            "padding": null,
            "right": null,
            "top": null,
            "visibility": null,
            "width": null
          }
        },
        "eaaec40077b048dc84411d5713ffa9ae": {
          "model_module": "@jupyter-widgets/controls",
          "model_name": "ProgressStyleModel",
          "model_module_version": "1.5.0",
          "state": {
            "_model_module": "@jupyter-widgets/controls",
            "_model_module_version": "1.5.0",
            "_model_name": "ProgressStyleModel",
            "_view_count": null,
            "_view_module": "@jupyter-widgets/base",
            "_view_module_version": "1.2.0",
            "_view_name": "StyleView",
            "bar_color": null,
            "description_width": ""
          }
        },
        "982fc36219434a76b7124538daf7d62b": {
          "model_module": "@jupyter-widgets/base",
          "model_name": "LayoutModel",
          "model_module_version": "1.2.0",
          "state": {
            "_model_module": "@jupyter-widgets/base",
            "_model_module_version": "1.2.0",
            "_model_name": "LayoutModel",
            "_view_count": null,
            "_view_module": "@jupyter-widgets/base",
            "_view_module_version": "1.2.0",
            "_view_name": "LayoutView",
            "align_content": null,
            "align_items": null,
            "align_self": null,
            "border": null,
            "bottom": null,
            "display": null,
            "flex": null,
            "flex_flow": null,
            "grid_area": null,
            "grid_auto_columns": null,
            "grid_auto_flow": null,
            "grid_auto_rows": null,
            "grid_column": null,
            "grid_gap": null,
            "grid_row": null,
            "grid_template_areas": null,
            "grid_template_columns": null,
            "grid_template_rows": null,
            "height": null,
            "justify_content": null,
            "justify_items": null,
            "left": null,
            "margin": null,
            "max_height": null,
            "max_width": null,
            "min_height": null,
            "min_width": null,
            "object_fit": null,
            "object_position": null,
            "order": null,
            "overflow": null,
            "overflow_x": null,
            "overflow_y": null,
            "padding": null,
            "right": null,
            "top": null,
            "visibility": null,
            "width": null
          }
        },
        "a1cf9811e62f4689b15353eb3e04b2ea": {
          "model_module": "@jupyter-widgets/controls",
          "model_name": "DescriptionStyleModel",
          "model_module_version": "1.5.0",
          "state": {
            "_model_module": "@jupyter-widgets/controls",
            "_model_module_version": "1.5.0",
            "_model_name": "DescriptionStyleModel",
            "_view_count": null,
            "_view_module": "@jupyter-widgets/base",
            "_view_module_version": "1.2.0",
            "_view_name": "StyleView",
            "description_width": ""
          }
        },
        "56d7906bcb3d44b8be0089472857c928": {
          "model_module": "@jupyter-widgets/controls",
          "model_name": "HBoxModel",
          "model_module_version": "1.5.0",
          "state": {
            "_dom_classes": [],
            "_model_module": "@jupyter-widgets/controls",
            "_model_module_version": "1.5.0",
            "_model_name": "HBoxModel",
            "_view_count": null,
            "_view_module": "@jupyter-widgets/controls",
            "_view_module_version": "1.5.0",
            "_view_name": "HBoxView",
            "box_style": "",
            "children": [
              "IPY_MODEL_8d50dcc814ae496d846fea7cb904bde1",
              "IPY_MODEL_dfb23ab626dd4efc83ba4dda84266fef",
              "IPY_MODEL_4b279c4077a24c36b7459a66fced58a4"
            ],
            "layout": "IPY_MODEL_0c594811304740258e4d7e10ce338d2c"
          }
        },
        "8d50dcc814ae496d846fea7cb904bde1": {
          "model_module": "@jupyter-widgets/controls",
          "model_name": "HTMLModel",
          "model_module_version": "1.5.0",
          "state": {
            "_dom_classes": [],
            "_model_module": "@jupyter-widgets/controls",
            "_model_module_version": "1.5.0",
            "_model_name": "HTMLModel",
            "_view_count": null,
            "_view_module": "@jupyter-widgets/controls",
            "_view_module_version": "1.5.0",
            "_view_name": "HTMLView",
            "description": "",
            "description_tooltip": null,
            "layout": "IPY_MODEL_f6d65a51908a4cbb838f849f50ca2882",
            "placeholder": "​",
            "style": "IPY_MODEL_8f937d7f6b274e4f93e7db906002eb0d",
            "value": "Epoch 0:   3%"
          }
        },
        "dfb23ab626dd4efc83ba4dda84266fef": {
          "model_module": "@jupyter-widgets/controls",
          "model_name": "FloatProgressModel",
          "model_module_version": "1.5.0",
          "state": {
            "_dom_classes": [],
            "_model_module": "@jupyter-widgets/controls",
            "_model_module_version": "1.5.0",
            "_model_name": "FloatProgressModel",
            "_view_count": null,
            "_view_module": "@jupyter-widgets/controls",
            "_view_module_version": "1.5.0",
            "_view_name": "ProgressView",
            "bar_style": "",
            "description": "",
            "description_tooltip": null,
            "layout": "IPY_MODEL_ba0e3360ddf7431c96f0a4932151b2d5",
            "max": 3074,
            "min": 0,
            "orientation": "horizontal",
            "style": "IPY_MODEL_434e397a508d4f3ea2c5049983d81a78",
            "value": 100
          }
        },
        "4b279c4077a24c36b7459a66fced58a4": {
          "model_module": "@jupyter-widgets/controls",
          "model_name": "HTMLModel",
          "model_module_version": "1.5.0",
          "state": {
            "_dom_classes": [],
            "_model_module": "@jupyter-widgets/controls",
            "_model_module_version": "1.5.0",
            "_model_name": "HTMLModel",
            "_view_count": null,
            "_view_module": "@jupyter-widgets/controls",
            "_view_module_version": "1.5.0",
            "_view_name": "HTMLView",
            "description": "",
            "description_tooltip": null,
            "layout": "IPY_MODEL_a88585740ca54a18a8f184eddcecdcd6",
            "placeholder": "​",
            "style": "IPY_MODEL_fd6ae0a334244430866e5af8f1d347fd",
            "value": " 100/3074 [00:18&lt;09:06,  5.44it/s, v_num=0, train_loss_step=0.000508]"
          }
        },
        "0c594811304740258e4d7e10ce338d2c": {
          "model_module": "@jupyter-widgets/base",
          "model_name": "LayoutModel",
          "model_module_version": "1.2.0",
          "state": {
            "_model_module": "@jupyter-widgets/base",
            "_model_module_version": "1.2.0",
            "_model_name": "LayoutModel",
            "_view_count": null,
            "_view_module": "@jupyter-widgets/base",
            "_view_module_version": "1.2.0",
            "_view_name": "LayoutView",
            "align_content": null,
            "align_items": null,
            "align_self": null,
            "border": null,
            "bottom": null,
            "display": "inline-flex",
            "flex": null,
            "flex_flow": "row wrap",
            "grid_area": null,
            "grid_auto_columns": null,
            "grid_auto_flow": null,
            "grid_auto_rows": null,
            "grid_column": null,
            "grid_gap": null,
            "grid_row": null,
            "grid_template_areas": null,
            "grid_template_columns": null,
            "grid_template_rows": null,
            "height": null,
            "justify_content": null,
            "justify_items": null,
            "left": null,
            "margin": null,
            "max_height": null,
            "max_width": null,
            "min_height": null,
            "min_width": null,
            "object_fit": null,
            "object_position": null,
            "order": null,
            "overflow": null,
            "overflow_x": null,
            "overflow_y": null,
            "padding": null,
            "right": null,
            "top": null,
            "visibility": null,
            "width": "100%"
          }
        },
        "f6d65a51908a4cbb838f849f50ca2882": {
          "model_module": "@jupyter-widgets/base",
          "model_name": "LayoutModel",
          "model_module_version": "1.2.0",
          "state": {
            "_model_module": "@jupyter-widgets/base",
            "_model_module_version": "1.2.0",
            "_model_name": "LayoutModel",
            "_view_count": null,
            "_view_module": "@jupyter-widgets/base",
            "_view_module_version": "1.2.0",
            "_view_name": "LayoutView",
            "align_content": null,
            "align_items": null,
            "align_self": null,
            "border": null,
            "bottom": null,
            "display": null,
            "flex": null,
            "flex_flow": null,
            "grid_area": null,
            "grid_auto_columns": null,
            "grid_auto_flow": null,
            "grid_auto_rows": null,
            "grid_column": null,
            "grid_gap": null,
            "grid_row": null,
            "grid_template_areas": null,
            "grid_template_columns": null,
            "grid_template_rows": null,
            "height": null,
            "justify_content": null,
            "justify_items": null,
            "left": null,
            "margin": null,
            "max_height": null,
            "max_width": null,
            "min_height": null,
            "min_width": null,
            "object_fit": null,
            "object_position": null,
            "order": null,
            "overflow": null,
            "overflow_x": null,
            "overflow_y": null,
            "padding": null,
            "right": null,
            "top": null,
            "visibility": null,
            "width": null
          }
        },
        "8f937d7f6b274e4f93e7db906002eb0d": {
          "model_module": "@jupyter-widgets/controls",
          "model_name": "DescriptionStyleModel",
          "model_module_version": "1.5.0",
          "state": {
            "_model_module": "@jupyter-widgets/controls",
            "_model_module_version": "1.5.0",
            "_model_name": "DescriptionStyleModel",
            "_view_count": null,
            "_view_module": "@jupyter-widgets/base",
            "_view_module_version": "1.2.0",
            "_view_name": "StyleView",
            "description_width": ""
          }
        },
        "ba0e3360ddf7431c96f0a4932151b2d5": {
          "model_module": "@jupyter-widgets/base",
          "model_name": "LayoutModel",
          "model_module_version": "1.2.0",
          "state": {
            "_model_module": "@jupyter-widgets/base",
            "_model_module_version": "1.2.0",
            "_model_name": "LayoutModel",
            "_view_count": null,
            "_view_module": "@jupyter-widgets/base",
            "_view_module_version": "1.2.0",
            "_view_name": "LayoutView",
            "align_content": null,
            "align_items": null,
            "align_self": null,
            "border": null,
            "bottom": null,
            "display": null,
            "flex": "2",
            "flex_flow": null,
            "grid_area": null,
            "grid_auto_columns": null,
            "grid_auto_flow": null,
            "grid_auto_rows": null,
            "grid_column": null,
            "grid_gap": null,
            "grid_row": null,
            "grid_template_areas": null,
            "grid_template_columns": null,
            "grid_template_rows": null,
            "height": null,
            "justify_content": null,
            "justify_items": null,
            "left": null,
            "margin": null,
            "max_height": null,
            "max_width": null,
            "min_height": null,
            "min_width": null,
            "object_fit": null,
            "object_position": null,
            "order": null,
            "overflow": null,
            "overflow_x": null,
            "overflow_y": null,
            "padding": null,
            "right": null,
            "top": null,
            "visibility": null,
            "width": null
          }
        },
        "434e397a508d4f3ea2c5049983d81a78": {
          "model_module": "@jupyter-widgets/controls",
          "model_name": "ProgressStyleModel",
          "model_module_version": "1.5.0",
          "state": {
            "_model_module": "@jupyter-widgets/controls",
            "_model_module_version": "1.5.0",
            "_model_name": "ProgressStyleModel",
            "_view_count": null,
            "_view_module": "@jupyter-widgets/base",
            "_view_module_version": "1.2.0",
            "_view_name": "StyleView",
            "bar_color": null,
            "description_width": ""
          }
        },
        "a88585740ca54a18a8f184eddcecdcd6": {
          "model_module": "@jupyter-widgets/base",
          "model_name": "LayoutModel",
          "model_module_version": "1.2.0",
          "state": {
            "_model_module": "@jupyter-widgets/base",
            "_model_module_version": "1.2.0",
            "_model_name": "LayoutModel",
            "_view_count": null,
            "_view_module": "@jupyter-widgets/base",
            "_view_module_version": "1.2.0",
            "_view_name": "LayoutView",
            "align_content": null,
            "align_items": null,
            "align_self": null,
            "border": null,
            "bottom": null,
            "display": null,
            "flex": null,
            "flex_flow": null,
            "grid_area": null,
            "grid_auto_columns": null,
            "grid_auto_flow": null,
            "grid_auto_rows": null,
            "grid_column": null,
            "grid_gap": null,
            "grid_row": null,
            "grid_template_areas": null,
            "grid_template_columns": null,
            "grid_template_rows": null,
            "height": null,
            "justify_content": null,
            "justify_items": null,
            "left": null,
            "margin": null,
            "max_height": null,
            "max_width": null,
            "min_height": null,
            "min_width": null,
            "object_fit": null,
            "object_position": null,
            "order": null,
            "overflow": null,
            "overflow_x": null,
            "overflow_y": null,
            "padding": null,
            "right": null,
            "top": null,
            "visibility": null,
            "width": null
          }
        },
        "fd6ae0a334244430866e5af8f1d347fd": {
          "model_module": "@jupyter-widgets/controls",
          "model_name": "DescriptionStyleModel",
          "model_module_version": "1.5.0",
          "state": {
            "_model_module": "@jupyter-widgets/controls",
            "_model_module_version": "1.5.0",
            "_model_name": "DescriptionStyleModel",
            "_view_count": null,
            "_view_module": "@jupyter-widgets/base",
            "_view_module_version": "1.2.0",
            "_view_name": "StyleView",
            "description_width": ""
          }
        }
      }
    }
  },
  "nbformat": 4,
  "nbformat_minor": 0
}